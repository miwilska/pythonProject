{
 "cells": [
  {
   "cell_type": "markdown",
   "metadata": {
    "collapsed": true,
    "pycharm": {
     "name": "#%% md\n"
    }
   },
   "source": [
    "## Exercises Python for beginners form :\n",
    "https://analityk.edu.pl/cwiczenia-oraz-zadania-python/\n",
    "\n",
    "### 1. FizzBuzz:\n",
    "Any number divisible by three is replaced by the word fizz\n",
    "and any number divisible by five by the word buzz.\n",
    "Numbers divisible by 15 become fizz buzz."
   ]
  },
  {
   "cell_type": "code",
   "execution_count": 2,
   "outputs": [
    {
     "name": "stdout",
     "output_type": "stream",
     "text": [
      "1\n",
      "2\n",
      "Fizz\n",
      "4\n",
      "Buzz\n",
      "Fizz\n",
      "7\n",
      "8\n",
      "Fizz\n",
      "Buzz\n",
      "11\n",
      "Fizz\n",
      "13\n",
      "14\n",
      "FizzBuzz\n",
      "16\n",
      "17\n",
      "Fizz\n",
      "19\n",
      "Buzz\n",
      "Fizz\n",
      "22\n",
      "23\n",
      "Fizz\n",
      "Buzz\n",
      "26\n",
      "Fizz\n",
      "28\n",
      "29\n",
      "FizzBuzz\n",
      "31\n",
      "32\n",
      "Fizz\n",
      "34\n",
      "Buzz\n",
      "Fizz\n",
      "37\n",
      "38\n",
      "Fizz\n",
      "Buzz\n",
      "41\n",
      "Fizz\n",
      "43\n",
      "44\n",
      "FizzBuzz\n",
      "46\n",
      "47\n",
      "Fizz\n",
      "49\n",
      "Buzz\n",
      "Fizz\n",
      "52\n",
      "53\n",
      "Fizz\n",
      "Buzz\n",
      "56\n",
      "Fizz\n",
      "58\n",
      "59\n",
      "FizzBuzz\n",
      "61\n",
      "62\n",
      "Fizz\n",
      "64\n",
      "Buzz\n",
      "Fizz\n",
      "67\n",
      "68\n",
      "Fizz\n",
      "Buzz\n",
      "71\n",
      "Fizz\n",
      "73\n",
      "74\n",
      "FizzBuzz\n",
      "76\n",
      "77\n",
      "Fizz\n",
      "79\n",
      "Buzz\n",
      "Fizz\n",
      "82\n",
      "83\n",
      "Fizz\n",
      "Buzz\n",
      "86\n",
      "Fizz\n",
      "88\n",
      "89\n",
      "FizzBuzz\n",
      "91\n",
      "92\n",
      "Fizz\n",
      "94\n",
      "Buzz\n",
      "Fizz\n",
      "97\n",
      "98\n",
      "Fizz\n",
      "Buzz\n"
     ]
    }
   ],
   "source": [
    "#   FizzBuzz my first approach:\n",
    "def fizz_buzz1(until) :\n",
    "    for i in range (1,until+1) :\n",
    "        if i % 3 == 0 and i % 5 ==0 :\n",
    "            print('FizzBuzz')\n",
    "        elif i % 3 ==0:\n",
    "            print('Fizz')\n",
    "        elif i % 5 == 0:\n",
    "            print('Buzz')\n",
    "        else :\n",
    "            print(i)\n",
    "fizz_buzz1(100)"
   ],
   "metadata": {
    "collapsed": false,
    "pycharm": {
     "name": "#%%\n"
    }
   }
  },
  {
   "cell_type": "code",
   "execution_count": 3,
   "outputs": [
    {
     "name": "stdout",
     "output_type": "stream",
     "text": [
      "1\n",
      "2\n",
      "Fizz\n",
      "4\n",
      "Buzz\n",
      "Fizz\n",
      "7\n",
      "8\n",
      "Fizz\n",
      "Buzz\n",
      "11\n",
      "Fizz\n",
      "13\n",
      "14\n",
      "FizzBuzz\n",
      "16\n",
      "17\n",
      "Fizz\n",
      "19\n",
      "Buzz\n",
      "Fizz\n",
      "22\n",
      "23\n",
      "Fizz\n",
      "Buzz\n",
      "26\n",
      "Fizz\n",
      "28\n",
      "29\n",
      "FizzBuzz\n",
      "31\n",
      "32\n",
      "Fizz\n",
      "34\n",
      "Buzz\n",
      "Fizz\n",
      "37\n",
      "38\n",
      "Fizz\n",
      "Buzz\n",
      "41\n",
      "Fizz\n",
      "43\n",
      "44\n",
      "FizzBuzz\n",
      "46\n",
      "47\n",
      "Fizz\n",
      "49\n",
      "Buzz\n",
      "Fizz\n",
      "52\n",
      "53\n",
      "Fizz\n",
      "Buzz\n",
      "56\n",
      "Fizz\n",
      "58\n",
      "59\n",
      "FizzBuzz\n",
      "61\n",
      "62\n",
      "Fizz\n",
      "64\n",
      "Buzz\n",
      "Fizz\n",
      "67\n",
      "68\n",
      "Fizz\n",
      "Buzz\n",
      "71\n",
      "Fizz\n",
      "73\n",
      "74\n",
      "FizzBuzz\n",
      "76\n",
      "77\n",
      "Fizz\n",
      "79\n",
      "Buzz\n",
      "Fizz\n",
      "82\n",
      "83\n",
      "Fizz\n",
      "Buzz\n",
      "86\n",
      "Fizz\n",
      "88\n",
      "89\n",
      "FizzBuzz\n",
      "91\n",
      "92\n",
      "Fizz\n",
      "94\n",
      "Buzz\n",
      "Fizz\n",
      "97\n",
      "98\n",
      "Fizz\n",
      "Buzz\n"
     ]
    }
   ],
   "source": [
    "# FizzBuzz second approach:\n",
    "def fizz_buzz2(until) :\n",
    "    for j in range (1,until+1) :\n",
    "        n = ''\n",
    "        if j % 3 == 0:\n",
    "            n='Fizz'\n",
    "        if j % 5 == 0:\n",
    "            n = n +'Buzz'\n",
    "        elif n == '' :\n",
    "            n=j\n",
    "        print(n)\n",
    "\n",
    "fizz_buzz2(100)"
   ],
   "metadata": {
    "collapsed": false,
    "pycharm": {
     "name": "#%%\n"
    }
   }
  },
  {
   "cell_type": "markdown",
   "source": [
    "### 2. Max and minimum number\n",
    "\n",
    "Find max and min of the numbers in the list"
   ],
   "metadata": {
    "collapsed": false,
    "pycharm": {
     "name": "#%% md\n"
    }
   }
  },
  {
   "cell_type": "code",
   "execution_count": 4,
   "outputs": [
    {
     "name": "stdout",
     "output_type": "stream",
     "text": [
      "min =  -4  max =  7\n"
     ]
    }
   ],
   "source": [
    "# my first approach with numpy (correct but not in this case):\n",
    "first_list = [1, 4, -4, 7]\n",
    "\n",
    "import numpy as np\n",
    "print('min = ',np.array(first_list).min(), ' max = ', np.array(first_list).max())"
   ],
   "metadata": {
    "collapsed": false,
    "pycharm": {
     "name": "#%%\n"
    }
   }
  },
  {
   "cell_type": "code",
   "execution_count": 5,
   "outputs": [
    {
     "name": "stdout",
     "output_type": "stream",
     "text": [
      "min =  -4  max =  7\n"
     ]
    }
   ],
   "source": [
    "# my second approach :\n",
    "\n",
    "maximum_1 = first_list[0]\n",
    "minimum_1 = first_list[0]\n",
    "for i in range(len(first_list)):\n",
    "    if first_list[i]> maximum_1 :\n",
    "        maximum_1 = i\n",
    "    if first_list[i]< minimum_1 :\n",
    "        minimum_1 = i\n",
    "print('min = ',first_list[minimum_1], ' max = ', first_list[maximum_1])"
   ],
   "metadata": {
    "collapsed": false,
    "pycharm": {
     "name": "#%%\n"
    }
   }
  },
  {
   "cell_type": "code",
   "execution_count": 6,
   "outputs": [
    {
     "name": "stdout",
     "output_type": "stream",
     "text": [
      "min =  -4  max =  7\n"
     ]
    }
   ],
   "source": [
    "# my third  approach :\n",
    "maximum_2 = first_list[0]\n",
    "minimum_2 = first_list[0]\n",
    "for i in first_list:\n",
    "    if i> maximum_2 : maximum_2 = i\n",
    "    if i< minimum_2 : minimum_2 = i\n",
    "print('min = ',minimum_2, ' max = ', maximum_2)"
   ],
   "metadata": {
    "collapsed": false,
    "pycharm": {
     "name": "#%%\n"
    }
   }
  },
  {
   "cell_type": "code",
   "execution_count": 7,
   "outputs": [
    {
     "name": "stdout",
     "output_type": "stream",
     "text": [
      "najmniejsza liczba to: -6\n",
      "największa liczba to: 11\n"
     ]
    }
   ],
   "source": [
    "# przykład rozwiązania zadania ALE POPRAWIONE PRZEZ PyCharma :)\n",
    "lista = [1,3,7,11,2,-6,0]\n",
    "# zmienne przecowujące najmniejsza i największa wartość\n",
    "# na poczatku przypisujemy im wartość None, aby w pętli for\n",
    "# wiedzieć że jest to pierwsza interakcja\n",
    "# później zmienne, zaczynają zawierać liczby z listy\n",
    "\n",
    "najmniejsza = None\n",
    "najwieksza = None\n",
    "\n",
    "for i in lista:\n",
    "\n",
    "    # przy każdej iteracji, sprawdzamy czy zmienna i\n",
    "    # jest mniejsza lub większa niż przechowywane przez\n",
    "    # nas zmienne\n",
    "\n",
    "    if najmniejsza is None or najmniejsza > i:\n",
    "        najmniejsza = i\n",
    "\n",
    "    if najwieksza is None or najwieksza < i:\n",
    "        najwieksza = i\n",
    "\n",
    "print (\"najmniejsza liczba to:\", najmniejsza)\n",
    "print (\"największa liczba to:\", najwieksza)"
   ],
   "metadata": {
    "collapsed": false,
    "pycharm": {
     "name": "#%%\n"
    }
   }
  },
  {
   "cell_type": "markdown",
   "source": [
    "### 3. Counting words, letters etc .\n",
    "\n",
    "Make function to counting words, letters and frequency of letters in string"
   ],
   "metadata": {
    "collapsed": false,
    "pycharm": {
     "name": "#%% md\n"
    }
   }
  },
  {
   "cell_type": "code",
   "execution_count": 8,
   "outputs": [
    {
     "name": "stdout",
     "output_type": "stream",
     "text": [
      "słowa: 7  litery: 19\n",
      "Częstotliwosc: {'a': 7, 'l': 2, 'm': 2, 'k': 2, 'o': 2, 't': 2, ',': 1, 'e': 1}\n"
     ]
    }
   ],
   "source": [
    "#   Counting words, letters etc  my first approach:\n",
    "my_first_text = 'Ala ma kota, a kot ma Ale'\n",
    "\n",
    "def counting_function(text) :\n",
    "    words = 1\n",
    "    letters =0\n",
    "    hash_table = {}\n",
    "    for t in text :\n",
    "        if t == ' ' :\n",
    "            words += 1\n",
    "        else :\n",
    "            t = t.lower()\n",
    "            letters +=1\n",
    "            if t in hash_table :\n",
    "                hash_table[t] +=1\n",
    "            else :\n",
    "                hash_table[t] =1\n",
    "    print('słowa:' ,words, \" litery:\", letters)\n",
    "    print(\"Częstotliwosc:\", hash_table)\n",
    "\n",
    "counting_function(my_first_text)"
   ],
   "metadata": {
    "collapsed": false,
    "pycharm": {
     "name": "#%%\n"
    }
   }
  },
  {
   "cell_type": "code",
   "execution_count": 9,
   "outputs": [
    {
     "name": "stdout",
     "output_type": "stream",
     "text": [
      "W naszym tekscie: \" Ala ma kota, a kot ma Ale \"  znajdujemy:  7 słów oraz  19 znaków (bez spacji).\n",
      "Częstotliwosc liter jest następująca: {'a': 7, 'l': 2, 'm': 2, 'k': 2, 'o': 2, 't': 2, ',': 1, 'e': 1}\n",
      "W naszym tekscie: \" Ala ma kota \"  znajdujemy:  3 słów oraz  9 znaków (bez spacji).\n",
      "Częstotliwosc liter jest następująca: {'a': 4, 'l': 1, 'm': 1, 'k': 1, 'o': 1, 't': 1}\n"
     ]
    }
   ],
   "source": [
    "# Counting words, letters and frequency of letters in string  my second approach:\n",
    "def counting_function(text) :\n",
    "    words = 1\n",
    "    letters =0\n",
    "    hash_table = {}\n",
    "    for t in text :\n",
    "        if t == ' ' :\n",
    "            words += 1\n",
    "        else :\n",
    "            t = t.lower()\n",
    "            letters +=1\n",
    "            if t in hash_table :\n",
    "                hash_table[t] +=1\n",
    "            else :\n",
    "                hash_table[t] =1\n",
    "    print('W naszym tekscie: \"', text, '\"  znajdujemy: ',words, 'słów oraz ', letters, 'znaków (bez spacji).')\n",
    "    print(\"Częstotliwosc liter jest następująca:\", hash_table)\n",
    "\n",
    "\n",
    "counting_function('Ala ma kota, a kot ma Ale')\n",
    "counting_function(\"Ala ma kota\")"
   ],
   "metadata": {
    "collapsed": false,
    "pycharm": {
     "name": "#%%\n"
    }
   }
  },
  {
   "cell_type": "markdown",
   "source": [
    "### 4. Bubble sort"
   ],
   "metadata": {
    "collapsed": false,
    "pycharm": {
     "name": "#%% md\n"
    }
   }
  },
  {
   "cell_type": "code",
   "execution_count": 10,
   "outputs": [
    {
     "name": "stdout",
     "output_type": "stream",
     "text": [
      "Końcowo:  [2, 1, 5, 3, 6, 10, -6, 6, 11, 12] ----> [-6, 1, 2, 3, 5, 6, 6, 10, 11, 12]  wykonało się: 7 razy.\n",
      "Końcowo:  [1, 3, 4, 5, 0, 2, -1, -3] ----> [-3, -1, 0, 1, 2, 3, 4, 5]  wykonało się: 8 razy.\n"
     ]
    },
    {
     "data": {
      "text/plain": "[-3, -1, 0, 1, 2, 3, 4, 5]"
     },
     "execution_count": 10,
     "metadata": {},
     "output_type": "execute_result"
    }
   ],
   "source": [
    "# Bubble sort first  approach:\n",
    "def bubble_sorting(list_to_sort, mute) :\n",
    "    sorted_list = list_to_sort.copy()\n",
    "    list_length = len(list_to_sort)\n",
    "\n",
    "    count =0\n",
    "    for num in range(list_length) :\n",
    "        count += 1\n",
    "        # boolean value to stop iteration when there is no change\n",
    "        changed = False\n",
    "        # maximum number of iteration is less then number of element on the list\n",
    "        n = list_length -1\n",
    "        for el in range(0,n) :\n",
    "            p = sorted_list[el]\n",
    "            n = sorted_list[el+1]\n",
    "            if p > n :\n",
    "                swap(sorted_list,el,el+1)\n",
    "                changed = True\n",
    "        n -= 1\n",
    "        #print(list_to_sort, '---->', sorted_list, ' wykonało się:', count, \"razy.\")\n",
    "        #print(\"changed =\", changed,' wykonało się:', count, \"razy.\")\n",
    "        if not changed : break\n",
    "    if mute : print(\"Końcowo: \" , list_to_sort, '---->', sorted_list, ' wykonało się:', count, \"razy.\")\n",
    "    return sorted_list\n",
    "\n",
    "def swap (list, el1, el2) :\n",
    "    s = list[el1]\n",
    "    list[el1] = list[el2]\n",
    "    list[el2] = s\n",
    "\n",
    "\n",
    "list_to_sort = [2,1,5,3,6,10,-6,6,11,12]\n",
    "bubble_sorting(list_to_sort,True)\n",
    "#bubble_sorting(first_list)\n",
    "bubble_sorting([1,3,4,5,0,2,-1,-3],True)"
   ],
   "metadata": {
    "collapsed": false,
    "pycharm": {
     "name": "#%%\n"
    }
   }
  },
  {
   "cell_type": "code",
   "execution_count": 11,
   "outputs": [
    {
     "name": "stdout",
     "output_type": "stream",
     "text": [
      "[2, 0, -6, 6, 11, 12] ----> [-6, 0, 2, 6, 11, 12]  wykonało się: 3 razy.\n",
      "[1, 3, 4, 5, 0, 2, -1, -3] ----> [-3, -1, 0, 1, 2, 3, 4, 5]  wykonało się: 8 razy.\n"
     ]
    }
   ],
   "source": [
    "# Bubble sort second  approach:\n",
    "def bubble_sorting_other(list_to_sort) :\n",
    "    global count\n",
    "    sorted_list = list_to_sort.copy()\n",
    "\n",
    "    for count, l  in enumerate(list_to_sort) :\n",
    "        # boolean value to stop iteration when there is no change\n",
    "        changed = False\n",
    "        # maximum number of iteration is less then number of element on the list\n",
    "        n = len(list_to_sort) -1\n",
    "        for el in range(0,n) :\n",
    "            if sorted_list[el] > sorted_list[el+1] :\n",
    "                sorted_list[el], sorted_list[el+1] = sorted_list[el+1], sorted_list[el]\n",
    "                changed = True\n",
    "        n -= 1\n",
    "        if not changed : break\n",
    "    print(list_to_sort, '---->', sorted_list, ' wykonało się:', count+1, \"razy.\")\n",
    "\n",
    "\n",
    "\n",
    "list_to_sort_example = [2,0,-6,6,11,12]\n",
    "bubble_sorting_other(list_to_sort_example)\n",
    "#bubble_sorting_other(first_list)\n",
    "bubble_sorting_other([1,3,4,5,0,2,-1,-3])"
   ],
   "metadata": {
    "collapsed": false,
    "pycharm": {
     "name": "#%%\n"
    }
   }
  },
  {
   "cell_type": "markdown",
   "source": [
    "### 5. Component sum\n",
    "Finding if they are component of a sum which is done in the list"
   ],
   "metadata": {
    "collapsed": false,
    "pycharm": {
     "name": "#%% md\n"
    }
   }
  },
  {
   "cell_type": "code",
   "execution_count": 12,
   "outputs": [
    {
     "name": "stdout",
     "output_type": "stream",
     "text": [
      "te liczby to: 7 2\n",
      "te liczby to: 2 7\n"
     ]
    }
   ],
   "source": [
    "# Finding component -my first  approach:\n",
    "list_of_components = [2,3,5,1,7,9]\n",
    "def find_components_of_sum(list, sum) :\n",
    "    for l in list :\n",
    "        for k in list :\n",
    "            if l+k == sum : print('te liczby to:', k, l)\n",
    "\n",
    "find_components_of_sum(list_of_components,9)"
   ],
   "metadata": {
    "collapsed": false,
    "pycharm": {
     "name": "#%%\n"
    }
   }
  },
  {
   "cell_type": "code",
   "execution_count": 13,
   "outputs": [
    {
     "name": "stdout",
     "output_type": "stream",
     "text": [
      "{2: 2, 3: 3, 5: 5, 1: 1, 7: 7, 9: 9}\n"
     ]
    }
   ],
   "source": [
    "# Finding component - second   approach (suggested in course):\n",
    "#fixme - not working!\n",
    "def find_components_with_hash_table(list_,sum_):\n",
    "    dictionary = {}\n",
    "    for list_el in list_ :\n",
    "        dictionary[list_el] = list_el\n",
    "        for (k,v) in dictionary.items() :\n",
    "            if v+ list_el == sum_ :\n",
    "                v += 1\n",
    "    print(dictionary)\n",
    "\n",
    "find_components_with_hash_table(list_of_components,9)"
   ],
   "metadata": {
    "collapsed": false,
    "pycharm": {
     "name": "#%%\n"
    }
   }
  },
  {
   "cell_type": "markdown",
   "source": [
    "### 6. Binary search\n",
    "\n",
    "find if there is an element on the list and give his index"
   ],
   "metadata": {
    "collapsed": false,
    "pycharm": {
     "name": "#%% md\n"
    }
   }
  },
  {
   "cell_type": "code",
   "execution_count": 14,
   "outputs": [
    {
     "name": "stdout",
     "output_type": "stream",
     "text": [
      "Element jest na liście na miejscu: 2\n",
      "Element jest na liście na miejscu: 10\n",
      "Nie ma takiego elementu na danej liście. \n"
     ]
    }
   ],
   "source": [
    "def search_long(list_to_find, target) :\n",
    "    index_ = 0\n",
    "    for el in list_to_find :\n",
    "        index_ +=1\n",
    "        if el == target :\n",
    "            print(\"Element jest na liście na miejscu:\", index_)\n",
    "            return index_\n",
    "    print(\"Nie ma takiego elementu na danej liście. \")\n",
    "\n",
    "search_long([1,3,4,5,0,2,-1,-3],3)\n",
    "search_long([1,3,4,5,7,9,11,15,16,17,19],17)\n",
    "search_long([1,3,4,5,7,9,11,15,16,17,19],12)"
   ],
   "metadata": {
    "collapsed": false,
    "pycharm": {
     "name": "#%%\n"
    }
   }
  },
  {
   "cell_type": "code",
   "execution_count": 15,
   "outputs": [
    {
     "name": "stdout",
     "output_type": "stream",
     "text": [
      "Liczba  3  jest na danej liście na  2 miejscu (numerowane od 1).\n",
      "Liczba  7  jest na danej liście na  5 miejscu (numerowane od 1).\n"
     ]
    }
   ],
   "source": [
    "# Find index of an element on the list   - my first approach\n",
    "def search_using_dictionary(list_to_find, target) :\n",
    "    dict_to_search = {}\n",
    "    num = 0\n",
    "    for l in list_to_find :\n",
    "        dict_to_search[num] =l\n",
    "        num +=1\n",
    "    #print(dict_to_search)\n",
    "    index_is =list(dict_to_search.keys())[list(dict_to_search.values()).index(target)]\n",
    "    print('Liczba ', target, ' jest na danej liście na ', index_is+1, 'miejscu (numerowane od 1).')\n",
    "\n",
    "search_using_dictionary([1,3,4,5,0,2,-1,-3],3)\n",
    "search_using_dictionary([1,3,4,5,7,9,11,15,16,17,19],7)"
   ],
   "metadata": {
    "collapsed": false,
    "pycharm": {
     "name": "#%%\n"
    }
   }
  },
  {
   "cell_type": "code",
   "execution_count": 16,
   "outputs": [
    {
     "name": "stdout",
     "output_type": "stream",
     "text": [
      "Liczba  3  jest na danej liście na  2 miejscu (numerowane od 1).\n",
      "Liczba  7  jest na danej liście na  5 miejscu (numerowane od 1).\n",
      "Na danej liście nie ma liczby o\n",
      "Liczba  a  jest na danej liście na  3 miejscu (numerowane od 1).\n"
     ]
    }
   ],
   "source": [
    "# Find index of an element on the list  - my second  approach\n",
    "\n",
    "def get_key(my_dict, val):\n",
    "\tfor key, value in my_dict.items():\n",
    "\t\tif val == value:\n",
    "\t\t\treturn key\n",
    "\treturn \"key doesn't exist\"\n",
    "\n",
    "def make_dictionary(list_to_find) :\n",
    "    dict_to_search = {}\n",
    "    num = 0\n",
    "    for l in list_to_find :\n",
    "        dict_to_search[num] =l\n",
    "        num +=1\n",
    "    return dict_to_search\n",
    "\n",
    "def search_using_dictionary2(dict_to_search, target) :\n",
    "    index_ = get_key(make_dictionary(dict_to_search),target)\n",
    "    #if isinstance(index_, int) :\n",
    "    if index_ != \"key doesn't exist\" :\n",
    "        #print(index_ , 'jest int: ',isinstance(index_, int))\n",
    "        print('Liczba ', target, ' jest na danej liście na ',index_+1 , 'miejscu (numerowane od 1).')\n",
    "    else :\n",
    "        print('Na danej liście nie ma liczby', target)\n",
    "\n",
    "search_using_dictionary2([1,3,4,5,0,2,-1,-3],3)\n",
    "search_using_dictionary2([1,3,4,5,7,9,11,15,16,17,19],7)\n",
    "search_using_dictionary2([1,3,4,5,7,9,11,15,16,17,19],'o')\n",
    "search_using_dictionary2('Ala ma kota', 'a')"
   ],
   "metadata": {
    "collapsed": false,
    "pycharm": {
     "name": "#%%\n"
    }
   }
  },
  {
   "cell_type": "code",
   "execution_count": 33,
   "outputs": [
    {
     "name": "stdout",
     "output_type": "stream",
     "text": [
      "2\n",
      "ten element: 5 jest na miejscu : 3\n",
      "4\n",
      "6\n",
      "3\n",
      "4\n",
      "6\n",
      "3\n",
      "4\n",
      "6\n",
      "3\n",
      "4\n"
     ]
    }
   ],
   "source": [
    "# Binary search  - my first approach:  todo fixme nie działa!\n",
    "def search_binary(list_to_search, target) :\n",
    "    #print('lista ma' ,len(list_to_search), 'elementów')\n",
    "    half = len(list_to_search) // 2\n",
    "    for _ in list_to_sort :\n",
    "        print(half)\n",
    "        if target == list_to_search[half] :\n",
    "            print('ten element:', target,'jest na miejscu :', half+1)\n",
    "            return half\n",
    "        elif target < list_to_search[half] :\n",
    "            half = half -  half // 2\n",
    "        elif target > list_to_search[half] :\n",
    "            half = half + half //2\n",
    "\n",
    "search_binary([1,4,5,6,10],5)\n",
    "search_binary(bubble_sorting([1,3,4,5,0,2,-1,-3],False),3)\n",
    "#search_binary(bubble_sorting([1,3,4,5,7,9,11,15,16,17,19],False),17)\n",
    "#search_binary(bubble_sorting([1,3,4,5,7,9,11,15,16,17,19],False),12)"
   ],
   "metadata": {
    "collapsed": false,
    "pycharm": {
     "name": "#%%\n"
    }
   }
  },
  {
   "cell_type": "code",
   "execution_count": 18,
   "outputs": [
    {
     "name": "stdout",
     "output_type": "stream",
     "text": [
      "-1\n"
     ]
    }
   ],
   "source": [
    "# Binary search  - second   approach (answered in course):\n",
    "def search (array, target):\n",
    "\n",
    "    # Defining left and right range\n",
    "    left = 0\n",
    "    right = len(array)\n",
    "    # Check if range is empty\n",
    "    while left < right:\n",
    "        # divided into two ranges\n",
    "        index = (left + right) // 2\n",
    "        #if we find is ok\n",
    "        if array[index]==target:\n",
    "            return index\n",
    "        #else we check if we are on the left or right\n",
    "        else:\n",
    "            if array[index]<target:\n",
    "                left = index+1\n",
    "            else:\n",
    "                right = index\n",
    "\n",
    "    return -1\n",
    "\n",
    "A = [1,3,4,5,7,9,11,15,16,17,19]\n",
    "target_number = 12\n",
    "index = search(A, target_number)\n",
    "print (index)"
   ],
   "metadata": {
    "collapsed": false,
    "pycharm": {
     "name": "#%%\n"
    }
   }
  },
  {
   "cell_type": "markdown",
   "source": [
    "### 8. Rocket"
   ],
   "metadata": {
    "collapsed": false
   }
  },
  {
   "cell_type": "code",
   "execution_count": 29,
   "outputs": [
    {
     "name": "stdout",
     "output_type": "stream",
     "text": [
      "Odliczamy do startu! Rakieta wystartuje za 5 sekund\n",
      "5\n",
      "4\n",
      "3\n",
      "2\n",
      "1\n",
      "BUUU - wystartowaliśmy! \n"
     ]
    }
   ],
   "source": [
    "import time\n",
    "time_to_start = int(input(\"Za ile ma startować rakieta? \"))\n",
    "\n",
    "print(\"Odliczamy do startu! Rakieta wystartuje za\", time_to_start, 'sekund')\n",
    "for i in range(0, time_to_start):\n",
    "            print(time_to_start - i)\n",
    "            time.sleep(1)\n",
    "print( \"BUM, WOW  - wystartowaliśmy! \")\n"
   ],
   "metadata": {
    "collapsed": false,
    "pycharm": {
     "name": "#%%\n"
    }
   }
  },
  {
   "cell_type": "markdown",
   "source": [
    "### 8. Heads and tails game"
   ],
   "metadata": {
    "collapsed": false,
    "pycharm": {
     "name": "#%% md\n"
    }
   }
  },
  {
   "cell_type": "code",
   "execution_count": 31,
   "outputs": [
    {
     "name": "stdout",
     "output_type": "stream",
     "text": [
      "Wybrałeś orła\n",
      "3\n",
      "2\n",
      "1\n",
      "przegrałes, masz  0 vs  1\n",
      "koniec\n",
      "['twoje punkty:', 0, 'moje(komputera) punkty: ', 1]\n"
     ]
    }
   ],
   "source": [
    "import random\n",
    "\n",
    "def play(number_of_plays) :\n",
    "    user_points = 0\n",
    "    computer_points =0\n",
    "    #while user_imput is not 0 :\n",
    "    for i in range(number_of_plays) :\n",
    "        user_imput = input(\"Wybierz orła 'o', reszkę 'r', albo 'z' jeżeli chcesz zakończyć\")\n",
    "        if user_imput == 'z' :\n",
    "            print(\"koniec\")\n",
    "            return ['twoje punkty:', user_points, 'moje(komputera) punkty: ' ,computer_points]\n",
    "        if user_imput == 'o' :\n",
    "            print('Wybrałeś orła')\n",
    "        elif user_imput == 'r' :\n",
    "            print(\"Wybrałeś reszkę\")\n",
    "        else :\n",
    "            print(\"nie ma takiej opcji spróbuj coś wpisać  jeszcze raz\")\n",
    "\n",
    "        throw_the_coin = random.choice(['o', 'r'])\n",
    "        if throw_the_coin == user_imput :\n",
    "            user_points +=1\n",
    "            print(\"wygrałes, masz \", user_points, 'vs ', computer_points)\n",
    "        else :\n",
    "            computer_points +=1\n",
    "            print('przegrałes, masz ', user_points, 'vs ', computer_points)\n",
    "\n",
    "\n",
    "print(play(100))"
   ],
   "metadata": {
    "collapsed": false,
    "pycharm": {
     "name": "#%%\n"
    }
   }
  },
  {
   "cell_type": "code",
   "execution_count": null,
   "outputs": [],
   "source": [
    "# przykłąd rozwiązania\n",
    "# ustawiamy początkowy wynik dla użytkownika oraz komputera\n",
    "user = 0\n",
    "computer = 0\n",
    "while True:\n",
    "\n",
    "    # wczytujemy wybór uzytkownika\n",
    "    x = input()\n",
    "    if x == '0':\n",
    "        break\n",
    "    elif x == 'o':\n",
    "        x = \"orzeł\"\n",
    "    elif x == 'r':\n",
    "        x = \"reszka\"\n",
    "    else:\n",
    "        print(\"Proszę dokonać prawidłowego wyboru:\")\n",
    "        print(\"o - orzeł\")\n",
    "        print(\"r - reszka\")\n",
    "        print(\"0 - zakończenie gry\")\n",
    "\n",
    "        # jezeli użytkownik nie wybrał ani, o, r, 0, to wróć do początku wykonywania pętli\n",
    "        continue\n",
    "\n",
    "    # rzucamy monetą\n",
    "    y = random.choice([\"orzeł\", \"reszka\"])\n",
    "\n",
    "    # Odliczamy 3,2,1\n",
    "    for i in range(0, 3):\n",
    "        print(3 - i)\n",
    "        time.sleep(1)\n",
    "\n",
    "    print(\"Wynik rzutu: \", y)\n",
    "\n",
    "    # sprawdzamy kto wygrał\n",
    "    if x == y:\n",
    "        user += 1\n",
    "    else:\n",
    "        computer += 1\n",
    "\n",
    "    # Drukujemy podsumowanie\n",
    "    print(\"Wyniki łacznie.\")\n",
    "    print(\"Użytkownik: \", user)\n",
    "    print(\"Komputer: \", computer)"
   ],
   "metadata": {
    "collapsed": false,
    "pycharm": {
     "name": "#%%\n"
    }
   }
  },
  {
   "cell_type": "markdown",
   "source": [
    "### 9. Game:  find number?"
   ],
   "metadata": {
    "collapsed": false,
    "pycharm": {
     "name": "#%% md\n"
    }
   }
  },
  {
   "cell_type": "code",
   "execution_count": 11,
   "outputs": [
    {
     "name": "stdout",
     "output_type": "stream",
     "text": [
      "Wygrałeś w  4  próbach, to ta liczba: 4\n"
     ]
    }
   ],
   "source": [
    "import random\n",
    "secret_number = random.randint(1,10)\n",
    "description = \"Zaczynamy grę - zgadnij liczbę naturalną z zakresu od 1 do 10 .\\n \" \\\n",
    "              \"Właśnie została wylosowana liczba -  zgadnij ją i wpisz do okienka \"\n",
    "count = 0\n",
    "while True :\n",
    "    count += 1\n",
    "    user_try = input(description)\n",
    "    if user_try.isdigit():\n",
    "        if int(user_try) == secret_number :\n",
    "            print('Wygrałeś w ',count,' próbach, to ta liczba:', secret_number)\n",
    "            break\n",
    "        elif int(user_try) > secret_number :\n",
    "            description = \"Wybrałeś \" + user_try+ \" to niestety za duża liczba, wybierz mniejszą\"\n",
    "        else :\n",
    "            description =\"Wybrałeś \" + user_try + \" to niestety za mała liczba wybierz większą\"\n",
    "    else :\n",
    "        description = \"Oszukujesz - nie podałeś liczby - podaj jakąś jeszcze raz\"\n",
    "#\n"
   ],
   "metadata": {
    "collapsed": false,
    "pycharm": {
     "name": "#%%\n"
    }
   }
  },
  {
   "cell_type": "code",
   "execution_count": null,
   "outputs": [],
   "source": [],
   "metadata": {
    "collapsed": false,
    "pycharm": {
     "name": "#%%\n"
    }
   }
  }
 ],
 "metadata": {
  "kernelspec": {
   "display_name": "Python 3",
   "language": "python",
   "name": "python3"
  },
  "language_info": {
   "codemirror_mode": {
    "name": "ipython",
    "version": 2
   },
   "file_extension": ".py",
   "mimetype": "text/x-python",
   "name": "python",
   "nbconvert_exporter": "python",
   "pygments_lexer": "ipython2",
   "version": "2.7.6"
  }
 },
 "nbformat": 4,
 "nbformat_minor": 0
}