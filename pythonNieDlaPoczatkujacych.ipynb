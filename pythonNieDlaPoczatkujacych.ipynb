{
 "cells": [
  {
   "cell_type": "code",
   "execution_count": 0,
   "metadata": {
    "collapsed": true
   },
   "outputs": [],
   "source": []
  },
  {
   "cell_type": "code",
   "execution_count": 1,
   "outputs": [],
   "source": [
    "from abc import ABC, abstractmethod\n",
    "class ptak(ABC):\n",
    "\n",
    "    def __init__ (self, gatunek, szybkość):\n",
    "        self.gatunek = gatunek\n",
    "        self.szybkość = szybkość\n",
    "\n",
    "    def lec(self):\n",
    "        print (\"Tu\", self.gatunek, \". Startuje, i zaraz osiągne prędkość\", self.szybkość)\n",
    "\n",
    "    @abstractmethod\n",
    "    def wydajOdgłos(self):\n",
    "        pass\n",
    "\n",
    "class orzeł (ptak):\n",
    "\n",
    "    def __init__ (self, szybkość):\n",
    "        super().__init__(\"orzeł\", szybkość)\n",
    "\n",
    "    def poluj(self):\n",
    "            print (\"Tu\", self.gatunek, \". Rozpocząłem polowanie\")\n",
    "\n",
    "    def wydajOdgłos(self):\n",
    "        print (\"wrrrr\")\n",
    "\n",
    "class pingwin (ptak):\n",
    "\n",
    "    def __init__(self, szybkość):\n",
    "        super().__init__(\"pingwin\", szybkość)\n",
    "\n",
    "    def ślizgaj(self):\n",
    "        print (\"Tu\", self.gatunek, \". Rozpocząłem ślizg\")\n",
    "\n",
    "    def lec(self):\n",
    "        print (\"Tu\", self.gatunek, \". Przykro mi, ale nie latam\")\n",
    "    def wydajOdgłos(self):\n",
    "        print (\"kwiiiii\")\n"
   ],
   "metadata": {
    "collapsed": false,
    "pycharm": {
     "name": "#%%\n"
    }
   }
  },
  {
   "cell_type": "code",
   "execution_count": 2,
   "outputs": [
    {
     "name": "stdout",
     "output_type": "stream",
     "text": [
      "Tu orzeł . Startuje, i zaraz osiągne prędkość 50\n",
      "Tu pingwin . Przykro mi, ale nie latam\n",
      "\n",
      "Tu orzeł . Rozpocząłem polowanie\n",
      "Tu pingwin . Rozpocząłem ślizg\n",
      "\n",
      "kwiiiii\n",
      "wrrrr\n"
     ]
    }
   ],
   "source": [
    "o = orzeł(50)\n",
    "p = pingwin(30)\n",
    "\n",
    "o.lec()\n",
    "p.lec()\n",
    "print()\n",
    "o.poluj()\n",
    "p.ślizgaj()\n",
    "print()\n",
    "p.wydajOdgłos()\n",
    "o.wydajOdgłos()\n"
   ],
   "metadata": {
    "collapsed": false,
    "pycharm": {
     "name": "#%%\n"
    }
   }
  },
  {
   "cell_type": "code",
   "execution_count": 3,
   "outputs": [
    {
     "name": "stdout",
     "output_type": "stream",
     "text": [
      "1\n",
      "10\n",
      "0\n"
     ]
    }
   ],
   "source": [
    "class samochód:\n",
    "\n",
    "    def __init__(self):\n",
    "\n",
    "        self.__silnik = False\n",
    "        self.__bieg = 0\n",
    "        self.__prędkość= 0\n",
    "\n",
    "    def uruchom(self):\n",
    "        self.__silnik = True\n",
    "\n",
    "    def wyłącz(self):\n",
    "        self.__silnik = False\n",
    "\n",
    "    def biegNastępny(self):\n",
    "        if self.__bieg <= 6: self.__bieg += 1; print(self.__bieg)\n",
    "\n",
    "    def biegPoprzedni(self):\n",
    "        if self.__bieg >= 0: self.__bieg -= 1; print(self.__bieg)\n",
    "\n",
    "    def przyspiesz(self):\n",
    "        if self.__silnik == True and self.__bieg > 0 : self.__prędkość += 10; print(self.__prędkość)\n",
    "\n",
    "    def hamuj(self):\n",
    "        if self.__prędkość >= 10: self.__prędkość -= 10\n",
    "        else: self.__prędkość = 0\n",
    "        print(self.__prędkość)\n",
    "\n",
    "car = samochód()\n",
    "car.uruchom()\n",
    "car.biegNastępny()\n",
    "car.przyspiesz()\n",
    "car.hamuj()\n",
    "car.wyłącz()"
   ],
   "metadata": {
    "collapsed": false,
    "pycharm": {
     "name": "#%%\n"
    }
   }
  },
  {
   "cell_type": "code",
   "execution_count": 4,
   "outputs": [
    {
     "name": "stdout",
     "output_type": "stream",
     "text": [
      "10\n",
      "1\n",
      "20\n",
      "2\n",
      "30\n",
      "3\n",
      "20\n",
      "2\n",
      "10\n",
      "1\n",
      "0\n",
      "0\n"
     ]
    }
   ],
   "source": [
    "class samochód:\n",
    "\n",
    "    def __init__(self):\n",
    "\n",
    "        self.__silnik = False\n",
    "        self.__bieg = 0\n",
    "        self.__prędkość= 0\n",
    "\n",
    "    def uruchom(self):\n",
    "        self.__silnik = True\n",
    "\n",
    "    def wyłącz(self):\n",
    "        self.__silnik = False\n",
    "\n",
    "    # ukrywamy metody zmiany biegu, aby nie można było zmienić biegu ręcznie\n",
    "\n",
    "    def __biegNastępny(self):\n",
    "        if self.__bieg <= 6: self.__bieg += 1; print(self.__bieg)\n",
    "\n",
    "    def __biegPoprzedni(self):\n",
    "        if self.__bieg >= 0: self.__bieg -= 1; print(self.__bieg)\n",
    "\n",
    "    def przyspiesz(self):\n",
    "        if self.__silnik == True: # usuneliśmy również warunek sprawdzający bieg\n",
    "            self.__prędkość += 10;\n",
    "            print(self.__prędkość)\n",
    "\n",
    "            # zmieniamy bieg na wyższy\n",
    "\n",
    "            self.__biegNastępny()\n",
    "\n",
    "    def hamuj(self):\n",
    "        if self.__prędkość >= 10: self.__prędkość -= 10\n",
    "        else: self.__prędkość = 0\n",
    "        print(self.__prędkość)\n",
    "        # zmieniamy bieg na niższy\n",
    "\n",
    "        self.__biegPoprzedni()\n",
    "\n",
    "\n",
    "car = samochód()\n",
    "car.uruchom()\n",
    "car.przyspiesz()\n",
    "car.przyspiesz()\n",
    "car.przyspiesz()\n",
    "car.hamuj()\n",
    "car.hamuj()\n",
    "car.hamuj()\n",
    "car.wyłącz()\n"
   ],
   "metadata": {
    "collapsed": false,
    "pycharm": {
     "name": "#%%\n"
    }
   }
  },
  {
   "cell_type": "markdown",
   "source": [
    "#  * args i   ** kargs"
   ],
   "metadata": {
    "collapsed": false,
    "pycharm": {
     "name": "#%% md\n"
    }
   }
  },
  {
   "cell_type": "code",
   "execution_count": 5,
   "outputs": [
    {
     "name": "stdout",
     "output_type": "stream",
     "text": [
      "(1, 1, 3, 4, 5, 5)\n",
      "Liczba przekazanych parametrów: 5\n",
      "Wartość: 1\n",
      "Wartość: [1, 3, 5, 6]\n",
      "Wartość: 2\n",
      "Wartość: xyz\n",
      "Wartość: 3\n"
     ]
    }
   ],
   "source": [
    "def funk(*args):\n",
    "    print(args)\n",
    "\n",
    "funk(1,1,3,4,5,5)\n",
    "\n",
    "def funk(*args):\n",
    "    print(\"Liczba przekazanych parametrów:\",len(args))\n",
    "    for arg in args:\n",
    "        print (\"Wartość:\",arg)\n",
    "\n",
    "lista = [1,3,5,6]\n",
    "\n",
    "funk(1,lista,2,'xyz',3)"
   ],
   "metadata": {
    "collapsed": false,
    "pycharm": {
     "name": "#%%\n"
    }
   }
  },
  {
   "cell_type": "code",
   "execution_count": 6,
   "outputs": [
    {
     "name": "stdout",
     "output_type": "stream",
     "text": [
      "Liczba przekazanych parametrów: 3\n",
      "Klucz: a Wartość: 1\n",
      "Klucz: b Wartość: 2\n",
      "Klucz: c Wartość: 3\n"
     ]
    }
   ],
   "source": [
    "def funk(**kwargs):\n",
    "    print(\"Liczba przekazanych parametrów:\",len(kwargs))\n",
    "\n",
    "    for key, item in kwargs.items():\n",
    "        print (\"Klucz:\", key, \"Wartość:\", item)\n",
    "funk(a=1,b=2,c=3)"
   ],
   "metadata": {
    "collapsed": false,
    "pycharm": {
     "name": "#%%\n"
    }
   }
  },
  {
   "cell_type": "code",
   "execution_count": 7,
   "outputs": [
    {
     "name": "stdout",
     "output_type": "stream",
     "text": [
      "Liczba przekazanych parametrów *args: 3\n",
      "Args - Wartość: 11\n",
      "Args - Wartość: 22\n",
      "Args - Wartość: ['x', 'y', 'z']\n",
      "Liczba przekazanych parametrów **kwargs: 3\n",
      "Kwargs -  Klucz: a Wartość: 1\n",
      "Kwargs -  Klucz: b Wartość: 2\n",
      "Kwargs -  Klucz: c Wartość: 3\n"
     ]
    }
   ],
   "source": [
    "def funk(*args, **kwargs):\n",
    "\n",
    "    print(\"Liczba przekazanych parametrów *args:\",len(args))\n",
    "    for arg in args:\n",
    "        print (\"Args - Wartość:\", arg)\n",
    "\n",
    "    print(\"Liczba przekazanych parametrów **kwargs:\",len(kwargs))\n",
    "    for key, item in kwargs.items():\n",
    "        print (\"Kwargs - \", \"Klucz:\", key, \"Wartość:\", item)\n",
    "funk(11,22,['x','y','z'],a=1,b=2,c=3)"
   ],
   "metadata": {
    "collapsed": false,
    "pycharm": {
     "name": "#%%\n"
    }
   }
  },
  {
   "cell_type": "markdown",
   "source": [
    "# Dekoratory"
   ],
   "metadata": {
    "collapsed": false,
    "pycharm": {
     "name": "#%% md\n"
    }
   }
  },
  {
   "cell_type": "code",
   "execution_count": 8,
   "outputs": [
    {
     "name": "stdout",
     "output_type": "stream",
     "text": [
      "Dekorujemy funkcję\n",
      "To jest zwykła funkcja\n"
     ]
    }
   ],
   "source": [
    "def zwykłaFunkcja():\n",
    "    print (\"To jest zwykła funkcja\")\n",
    "\n",
    "\n",
    "def dekor(funkcja):\n",
    "\n",
    "    def wew():\n",
    "        print(\"Dekorujemy funkcję\")\n",
    "        return funkcja()\n",
    "\n",
    "    return wew\n",
    "nowaFunkcja = dekor(zwykłaFunkcja)\n",
    "nowaFunkcja()"
   ],
   "metadata": {
    "collapsed": false,
    "pycharm": {
     "name": "#%%\n"
    }
   }
  },
  {
   "cell_type": "code",
   "execution_count": 9,
   "outputs": [
    {
     "name": "stdout",
     "output_type": "stream",
     "text": [
      "Dekorujemy funkcję\n",
      "To jest zwykła funkcja\n"
     ]
    }
   ],
   "source": [
    "@dekor\n",
    "def zwykła_funkcja_do_dekorowania():\n",
    "    print (\"To jest zwykła funkcja\")\n",
    "\n",
    "\n",
    "zwykła_funkcja_do_dekorowania()"
   ],
   "metadata": {
    "collapsed": false,
    "pycharm": {
     "name": "#%%\n"
    }
   }
  },
  {
   "cell_type": "code",
   "execution_count": 10,
   "outputs": [
    {
     "name": "stdout",
     "output_type": "stream",
     "text": [
      "Dekorujemy funkcję\n",
      "To jest zwykła funkcja, która dodaje liczby:\n",
      "6\n"
     ]
    }
   ],
   "source": [
    "def dekor2(funkcja):\n",
    "\n",
    "    def wew(*args, **kwargs):\n",
    "        print(\"Dekorujemy funkcję\")\n",
    "        return funkcja(*args, **kwargs)\n",
    "\n",
    "    return wew\n",
    "@dekor2\n",
    "def zwykłaFunkcja2(a, b, c):\n",
    "    print (\"To jest zwykła funkcja, która dodaje liczby:\")\n",
    "    print (a+b+c)\n",
    "zwykłaFunkcja2(1,2,3)"
   ],
   "metadata": {
    "collapsed": false,
    "pycharm": {
     "name": "#%%\n"
    }
   }
  },
  {
   "cell_type": "code",
   "execution_count": 11,
   "outputs": [
    {
     "name": "stdout",
     "output_type": "stream",
     "text": [
      "Example\n"
     ]
    }
   ],
   "source": [
    "def example_function():\n",
    "    print(\"Example\")\n",
    "\n",
    "type(example_function)\n",
    "var = example_function\n",
    "\n",
    "var()"
   ],
   "metadata": {
    "collapsed": false,
    "pycharm": {
     "name": "#%%\n"
    }
   }
  },
  {
   "cell_type": "code",
   "execution_count": 12,
   "outputs": [
    {
     "name": "stdout",
     "output_type": "stream",
     "text": [
      "[1, 3, 4, 5, 7, 8]\n",
      "[4, 8]\n",
      "['Nieparzysta', 'Nieparzysta', 'Parzysta', 'Nieparzysta', 'Nieparzysta', 'Parzysta']\n",
      "['Nieparzyste', 'Nieparzyste', 'Parzyste', 'Nieparzyste', 'Nieparzyste', 'Parzyste']\n"
     ]
    }
   ],
   "source": [
    "lista = [1,3,4,5,7,8]\n",
    "lista1 = [i for i in lista if i % 2 == 0 ]\n",
    "lista2 = ['Parzysta' if i%2 == 0 else 'Nieparzysta' for i in lista]\n",
    "\n",
    "print(lista)\n",
    "print(lista1)\n",
    "print(lista2)\n",
    "\n",
    "\n",
    "def funk (i):\n",
    "    if i % 2 == 0: return 'Parzyste'\n",
    "    else: return 'Nieparzyste'\n",
    "\n",
    "lista4 = [funk(i) for i in lista]\n",
    "print(lista4)"
   ],
   "metadata": {
    "collapsed": false,
    "pycharm": {
     "name": "#%%\n"
    }
   }
  },
  {
   "cell_type": "code",
   "execution_count": 13,
   "outputs": [
    {
     "data": {
      "text/plain": "4950"
     },
     "execution_count": 13,
     "metadata": {},
     "output_type": "execute_result"
    }
   ],
   "source": [
    "lista1000 = [i for i in range(1000)]\n",
    "\n",
    "sum(i for i in range(100))"
   ],
   "metadata": {
    "collapsed": false,
    "pycharm": {
     "name": "#%%\n"
    }
   }
  },
  {
   "cell_type": "code",
   "execution_count": 14,
   "outputs": [
    {
     "data": {
      "text/plain": "20"
     },
     "execution_count": 14,
     "metadata": {},
     "output_type": "execute_result"
    }
   ],
   "source": [
    "sum(i for i in range(10) if i %2 == 0)"
   ],
   "metadata": {
    "collapsed": false,
    "pycharm": {
     "name": "#%%\n"
    }
   }
  },
  {
   "cell_type": "code",
   "execution_count": 15,
   "outputs": [
    {
     "data": {
      "text/plain": "['P',\n 'r',\n 'z',\n 'y',\n 'k',\n 'ł',\n 'a',\n 'd',\n 'o',\n 'w',\n 'y',\n ' ',\n 't',\n 'e',\n 'k',\n 's',\n 't',\n ' ',\n '2',\n '3',\n '4']"
     },
     "execution_count": 15,
     "metadata": {},
     "output_type": "execute_result"
    }
   ],
   "source": [
    "[i for i in \"Przykładowy tekst 234\"]"
   ],
   "metadata": {
    "collapsed": false,
    "pycharm": {
     "name": "#%%\n"
    }
   }
  },
  {
   "cell_type": "code",
   "execution_count": 16,
   "outputs": [
    {
     "name": "stdout",
     "output_type": "stream",
     "text": [
      "[11, 13, 17, 19]\n",
      "[2, 3]\n",
      "[101, 103, 107, 109, 113, 127, 131, 137, 139, 149, 151, 157, 163, 167, 173, 179, 181, 191, 193, 197, 199, 211, 223, 227, 229, 233, 239, 241, 251, 257, 263, 269, 271, 277, 281, 283, 293, 307, 311, 313, 317, 331, 337, 347, 349, 353, 359, 367, 373, 379, 383, 389, 397, 401, 409, 419, 421, 431, 433, 439, 443, 449, 457, 461, 463, 467, 479, 487, 491, 499, 503, 509, 521, 523, 541, 547, 557, 563, 569, 571, 577, 587, 593, 599, 601, 607, 613, 617, 619, 631, 641, 643, 647, 653, 659, 661, 673, 677, 683, 691, 701, 709, 719, 727, 733, 739, 743, 751, 757, 761, 769, 773, 787, 797, 809, 811, 821, 823, 827, 829, 839, 853, 857, 859, 863, 877, 881, 883, 887, 907, 911, 919, 929, 937, 941, 947, 953, 967, 971, 977, 983, 991, 997]\n"
     ]
    }
   ],
   "source": [
    "def primality(startNumber,endNumber):\n",
    "   prime_numbers=[]\n",
    "   for number in range(startNumber, endNumber+1):\n",
    "       if number > 1:\n",
    "           for x in range (2, number):\n",
    "               if number%x==0: break\n",
    "           else:\n",
    "               prime_numbers.append(number)\n",
    "   return prime_numbers\n",
    "print(primality(10,20))\n",
    "print(primality(-5,4))\n",
    "print(primality(100,1000))"
   ],
   "metadata": {
    "collapsed": false,
    "pycharm": {
     "name": "#%%\n"
    }
   }
  },
  {
   "cell_type": "markdown",
   "source": [
    "# Try else etc ..."
   ],
   "metadata": {
    "collapsed": false,
    "pycharm": {
     "name": "#%% md\n"
    }
   }
  },
  {
   "cell_type": "code",
   "execution_count": 17,
   "outputs": [
    {
     "name": "stdout",
     "output_type": "stream",
     "text": [
      "coś tam\n",
      "Na pewno się pojawię. A oto nasza zmienna:  77coś tam\n"
     ]
    }
   ],
   "source": [
    "jakis_string=\"coś tam\"\n",
    "liczba=77\n",
    "try:\n",
    "   print(jakis_string) #wykona się\n",
    "   zmienna=liczba+jakis_string #nie wykona się, bo nie można dodawać int do str\n",
    "   print(zmienna)\n",
    "except TypeError:\n",
    "   zmienna=str(liczba)+jakis_string\n",
    "except: #ten blok zostanie wykonany dla błędu innego niż TypeError\n",
    "   print(\"Jakiś błąd\")\n",
    "finally:\n",
    "   print(\"Na pewno się pojawię. A oto nasza zmienna: \", zmienna)"
   ],
   "metadata": {
    "collapsed": false,
    "pycharm": {
     "name": "#%%\n"
    }
   }
  },
  {
   "cell_type": "code",
   "execution_count": 18,
   "outputs": [
    {
     "name": "stdout",
     "output_type": "stream",
     "text": [
      "Na pewno się pojawię. A oto nasza zmienna:  277\n"
     ]
    }
   ],
   "source": [
    "jakas_liczba=100\n",
    "try:\n",
    "   zmienna=liczba+jakas_liczba\n",
    "except TypeError:\n",
    "   zmienna=str(liczba)+jakas_liczba\n",
    "except: #ten blok zostanie wykonany dla błędu innego niż TypeError\n",
    "   print(\"Jakiś błąd\")\n",
    "else:\n",
    "   zmienna+=100\n",
    "finally:\n",
    "   print(\"Na pewno się pojawię. A oto nasza zmienna: \", zmienna)"
   ],
   "metadata": {
    "collapsed": false,
    "pycharm": {
     "name": "#%%\n"
    }
   }
  },
  {
   "cell_type": "markdown",
   "source": [
    "## Funkcja lambda"
   ],
   "metadata": {
    "collapsed": false,
    "pycharm": {
     "name": "#%% md\n"
    }
   }
  },
  {
   "cell_type": "code",
   "execution_count": 19,
   "outputs": [
    {
     "data": {
      "text/plain": "7"
     },
     "execution_count": 19,
     "metadata": {},
     "output_type": "execute_result"
    }
   ],
   "source": [
    "lambda x : x + 1    # funkcja przyjmuje jeden parametr, a następnie dodaje jeden i zwraca wynik\n",
    "lambda _ : _ + 1    # ta funkcja robi dokładnie to samo, ale zamiast nazwy parametru podajemy znak _\n",
    "lambda x, y : x + y # to już znamy\n",
    "# a tutaj przypiszemy funkcję do 'zmiennej', a następnie ją wykonamy\n",
    "zmienna = lambda x,y: x+y\n",
    "zmienna(2,3)\n",
    "# tutaj wywołamy funkcję bez przypisywania do 'zmiennej'\n",
    "(lambda x,y: x+y)(3,4)"
   ],
   "metadata": {
    "collapsed": false,
    "pycharm": {
     "name": "#%%\n"
    }
   }
  },
  {
   "cell_type": "code",
   "execution_count": 20,
   "outputs": [
    {
     "data": {
      "text/plain": "49"
     },
     "execution_count": 20,
     "metadata": {},
     "output_type": "execute_result"
    }
   ],
   "source": [
    "# funkcja wyższego rzędu\n",
    "\n",
    "def funkcja(f,liczba):\n",
    "    return f(liczba)\n",
    "# Dwie zwykłe funkcje\n",
    "def dodaj_jeden(x):\n",
    "    return x + 1\n",
    "def kwadrat(parametr):\n",
    "    return parametr*parametr\n",
    "\n",
    "# Wywołanie funkcji wyższego rzędu\n",
    "\n",
    "funkcja(dodaj_jeden,7) # dodaj 1\n",
    "funkcja(kwadrat,7) # podniesiemy ją do kwadratu"
   ],
   "metadata": {
    "collapsed": false,
    "pycharm": {
     "name": "#%%\n"
    }
   }
  },
  {
   "cell_type": "code",
   "execution_count": 21,
   "outputs": [
    {
     "name": "stdout",
     "output_type": "stream",
     "text": [
      "7 8 49\n"
     ]
    }
   ],
   "source": [
    "# funkcja wyższego rzędu\n",
    "liczba = 7\n",
    "def funkcja(f,liczba):\n",
    "    return f(liczba)\n",
    "dodawanie = funkcja(lambda x: x+1, liczba)\n",
    "kwadrat = funkcja(lambda x: x*x, liczba)\n",
    "\n",
    "print(liczba, dodawanie, kwadrat)"
   ],
   "metadata": {
    "collapsed": false,
    "pycharm": {
     "name": "#%%\n"
    }
   }
  },
  {
   "cell_type": "code",
   "source": [
    "from functools import reduce\n",
    "print(f\"Nasza lista: {lista}\\n\")"
   ],
   "metadata": {
    "collapsed": false,
    "pycharm": {
     "name": "#%%\n"
    }
   },
   "execution_count": 22,
   "outputs": [
    {
     "name": "stdout",
     "output_type": "stream",
     "text": [
      "Nasza lista: [1, 3, 4, 5, 7, 8]\n",
      "\n"
     ]
    }
   ]
  },
  {
   "cell_type": "code",
   "execution_count": 23,
   "outputs": [
    {
     "name": "stdout",
     "output_type": "stream",
     "text": [
      "Przykład zastosowania map: [2, 6, 8, 10, 14, 16]\n"
     ]
    }
   ],
   "source": [
    "print(f\"Przykład zastosowania map: {list( map(lambda _: _*2, lista) )}\")"
   ],
   "metadata": {
    "collapsed": false,
    "pycharm": {
     "name": "#%%\n"
    }
   }
  },
  {
   "cell_type": "code",
   "execution_count": 24,
   "outputs": [
    {
     "name": "stdout",
     "output_type": "stream",
     "text": [
      "Przykład zastosowania filter: [4, 5, 7, 8]\n",
      "Przykład zastosowania reduce: 28\n"
     ]
    }
   ],
   "source": [
    "print(f\"Przykład zastosowania filter: {list( filter(lambda _: _>3, lista) )}\")\n",
    "print(f\"Przykład zastosowania reduce: { reduce(lambda x,y: x+y, lista) }\")"
   ],
   "metadata": {
    "collapsed": false,
    "pycharm": {
     "name": "#%%\n"
    }
   }
  },
  {
   "cell_type": "code",
   "execution_count": 27,
   "outputs": [
    {
     "data": {
      "text/plain": "0    Mężczyzna\n1    Mężczyzna\n2      Kobieta\nName: Płeć, dtype: object"
     },
     "execution_count": 27,
     "metadata": {},
     "output_type": "execute_result"
    }
   ],
   "source": [
    "import pandas as pd\n",
    "x = {\"Imie\":[\"Michał\",\"Jakub\",\"Joanna\"], \"Płeć\":[\"M\",\"M\",\"K\"]}\n",
    "df = pd.DataFrame(x)\n",
    "df_new = df[\"Płeć\"].apply(lambda _: \"Mężczyzna\" if _ == \"M\" else \"Kobieta\")\n",
    "df_new"
   ],
   "metadata": {
    "collapsed": false,
    "pycharm": {
     "name": "#%%\n"
    }
   }
  },
  {
   "cell_type": "code",
   "execution_count": 28,
   "outputs": [
    {
     "data": {
      "text/plain": "0    Mężczyzna\n1    Mężczyzna\n2      Kobieta\nName: Płeć, dtype: object"
     },
     "execution_count": 28,
     "metadata": {},
     "output_type": "execute_result"
    }
   ],
   "source": [
    "def zamien(x):\n",
    "    if x == 'M': return 'Mężczyzna'\n",
    "    return 'Kobieta'\n",
    "df['Płeć'].apply(zamien)"
   ],
   "metadata": {
    "collapsed": false,
    "pycharm": {
     "name": "#%%\n"
    }
   }
  },
  {
   "cell_type": "code",
   "execution_count": 29,
   "outputs": [
    {
     "data": {
      "text/plain": "'Dorosły'"
     },
     "execution_count": 29,
     "metadata": {},
     "output_type": "execute_result"
    }
   ],
   "source": [
    "wiek = lambda x: \"dziecko\" if x < 10 else (\"Nastolatek\" if x < 18  else \"Dorosły\")\n",
    "wiek(18)"
   ],
   "metadata": {
    "collapsed": false,
    "pycharm": {
     "name": "#%%\n"
    }
   }
  },
  {
   "cell_type": "code",
   "execution_count": 30,
   "outputs": [
    {
     "name": "stdout",
     "output_type": "stream",
     "text": [
      "[0, 20, 132, 870] [0, 20, 132, 870]\n"
     ]
    }
   ],
   "source": [
    "def my_func(n):\n",
    "    return n*(n-1)\n",
    "numbers = [1,5,12,30]\n",
    "with_func = list(map(my_func, numbers))\n",
    "with_lambda = list(map(lambda a: a*(a-1), numbers))\n",
    "print(with_func, with_lambda)"
   ],
   "metadata": {
    "collapsed": false,
    "pycharm": {
     "name": "#%%\n"
    }
   }
  },
  {
   "cell_type": "markdown",
   "source": [
    "# Sortowanie"
   ],
   "metadata": {
    "collapsed": false,
    "pycharm": {
     "name": "#%% md\n"
    }
   }
  },
  {
   "cell_type": "code",
   "execution_count": 4,
   "outputs": [
    {
     "name": "stdout",
     "output_type": "stream",
     "text": [
      "['A', 'K', 'a', 'i', 'l', 'n', 't', 'y']\n",
      "['y', 't', 'n', 'l', 'k', 'i', 'a', 'A']\n",
      "['ale', 'Alicja', 'Kot', 'kota', 'ma', 'ma', 'nie', 'psa']\n",
      "['a', 'b', 'c', 'd']\n",
      "[0, 2, 11, 33]\n",
      "[('a', 11), ('b', 2), ('c', 0), ('d', 33)]\n",
      "[('c', 0), ('b', 2), ('a', 11), ('d', 33)]\n"
     ]
    }
   ],
   "source": [
    "print(sorted(\"AnalityK\"))\n",
    "print(sorted(\"Analityk\", reverse=True))\n",
    "print(sorted(\"Alicja Kot ma psa ale nie ma kota\".split(), key=str.lower))\n",
    "\n",
    "things = {'a': 11, 'b': 2, 'c': 0, 'd': 33}\n",
    "print(sorted(things))\n",
    "print(sorted(things.values()))\n",
    "print(sorted(things.items()))\n",
    "print(sorted(things.items(), key=lambda x: x[1]))"
   ],
   "metadata": {
    "collapsed": false,
    "pycharm": {
     "name": "#%%\n"
    }
   }
  },
  {
   "cell_type": "markdown",
   "source": [
    "# Kopiowanie\n",
    "\n",
    "- pierwszy przykłąd to nie działa!\n",
    "## Metody które działają:\n",
    "  -  List/Dict/Set Comprehension\n",
    "  -  Wycinki [ang. slices] – coś, co musi umieć każdy Pythonista 🙂\n",
    "     Ogólny wzór list[i:j], gdzie i i j stanowią numer indeksów początku i końca zakresu, który pobieramy.\n",
    "  -  Indeksowanie nie działa dla słowników i zbiorów, ale zadziała przy krotkach, tablicach, łańcuchach znaków. Oczywiście nie oznacza to, że nie możemy wyciąć fragmentu słownika, tylko trzeba troszkę więcej pomyśleć, jak to zrobić 🙂 Na przykład można użyć dict comprehension na skonwertowanym do listy słowniku (dict2 = {k:v for k,v in list(dict1.items())[0:2]})\n",
    "  -  Wypakowanie za pomocą *args (listy, zbiory), **kwargs (słowniki)\n",
    "  -  Wbudowana metoda copy()\n",
    "        - Listy, zbiory i słowniki posiadają wbudowaną funkcję do kopiowania.\n",
    "        - Tablice również posiadają takie funkcje: __copy__() oraz __deepcopy__()\n",
    "  -  Wbudowany moduł copy – import copy\n",
    "        - copy.copy() – płytkie kopiowanie\n",
    "        - copy.deepcopy() – głębokie kopiowanie, kiedy mamy zagnieżdżone sekwencje\n",
    "  -  Konwersja\n",
    "  -  Pomnożenie *1  -  Szybki i fajny sposób /   Nie zadziała przy słownikach (TypeError).\n",
    "  -  Tradycyjna pętla - Coś co pewnie już znasz, czyli stworzenie pustej listy/słownika/zbioru i dodawanie elementów przy użyciu odpowiedniej metody. Przy czym jest to zdecydowanie jeden z najwolniejszych sposobów."
   ],
   "metadata": {
    "collapsed": false,
    "pycharm": {
     "name": "#%% md\n"
    }
   }
  },
  {
   "cell_type": "code",
   "execution_count": 6,
   "outputs": [
    {
     "data": {
      "text/plain": "([2, 3, 4, 5], [2, 3, 4, 5])"
     },
     "execution_count": 6,
     "metadata": {},
     "output_type": "execute_result"
    }
   ],
   "source": [
    "def foo(lista):\n",
    "    for index,item in enumerate(lista):\n",
    "        lista[index]=item+1\n",
    "    return lista\n",
    "a=[1,2,3,4]\n",
    "b=foo(a)\n",
    "a,b"
   ],
   "metadata": {
    "collapsed": false,
    "pycharm": {
     "name": "#%% TAK TO NIE DZIAŁA:\n"
    }
   }
  },
  {
   "cell_type": "code",
   "execution_count": 13,
   "outputs": [],
   "source": [
    "lista_do_kopiowania = [1,2,3,4,5,6]\n",
    "copy1=lista_do_kopiowania[:]\n",
    "copy2=lista_do_kopiowania[0:len(lista_do_kopiowania)]\n",
    "\n",
    "zbior={1,5,6,2,8}\n",
    "zbior_copy={*zbior}\n",
    "\n",
    "slownik={\"name\": \"Wojtek\", \"age\": 42}\n",
    "slownik_copy={**slownik}\n",
    "\n",
    "kopia1 = zbior.copy()\n",
    "kopia2 = lista_do_kopiowania.copy()\n",
    "kopia3 = slownik.copy()\n",
    "\n",
    "#array_kopia=lista_do_kopiowania.__copy__()\n",
    "\n",
    "kopia1_1=set(zbior)\n",
    "kopia2_1=list(lista_do_kopiowania)\n",
    "kopia3_1=dict(slownik)\n",
    "\n",
    "nowa_tablica=lista_do_kopiowania*1\n",
    "\n",
    "print(nowa_tablica)"
   ],
   "metadata": {
    "collapsed": false,
    "pycharm": {
     "name": "#%%\n"
    }
   }
  },
  {
   "cell_type": "code",
   "execution_count": 14,
   "outputs": [
    {
     "name": "stdout",
     "output_type": "stream",
     "text": [
      "{'imię': 'Ania', 'nazwisko': 'Baranowska', 'wiek': '22', 'płeć': 'K'}\n"
     ]
    }
   ],
   "source": [
    "klucze = [\"imię\", \"nazwisko\", \"wiek\", \"płeć\"]\n",
    "dane_input = [\"Ania\", \"Baranowska\", \"22\", \"K\"]\n",
    "student={}\n",
    "for index, k in enumerate(klucze):\n",
    "    student[k]= dane_input[index]\n",
    "\n",
    "print(student)"
   ],
   "metadata": {
    "collapsed": false,
    "pycharm": {
     "name": "#%%\n"
    }
   }
  },
  {
   "cell_type": "code",
   "execution_count": 15,
   "outputs": [
    {
     "name": "stdout",
     "output_type": "stream",
     "text": [
      "{'img1': 1, 'img2': 2, 'img3': 3, 'img4': 4, 'img5': 5, 'img6': 6, 'img7': 7, 'img8': 8, 'img9': 9, 'img10': 10, 'img11': 11, 'img12': 12, 'img13': 13, 'img14': 14, 'img15': 15}\n"
     ]
    }
   ],
   "source": [
    "slownik= {}\n",
    "for number in range(1,16):\n",
    "   slownik[f\"img{number}\"]=number\n",
    "print(slownik)"
   ],
   "metadata": {
    "collapsed": false,
    "pycharm": {
     "name": "#%%\n"
    }
   }
  },
  {
   "cell_type": "code",
   "execution_count": 19,
   "outputs": [
    {
     "name": "stdout",
     "output_type": "stream",
     "text": [
      "{'imię': 'Ania', 'nazwisko': 'Baranowska', 'wiek': '22', 'płeć': 'K'}\n",
      "{'img1': 1, 'img2': 2, 'img3': 3, 'img4': 4, 'img5': 5, 'img6': 6, 'img7': 7, 'img8': 8, 'img9': 9, 'img10': 10, 'img11': 11, 'img12': 12, 'img13': 13, 'img14': 14, 'img15': 15}\n",
      "{1, 4, 5}\n"
     ]
    }
   ],
   "source": [
    "some_dict={k:dane_input[index] for index, k in enumerate(klucze)}\n",
    "slownik_from_comprehension={f\"img{number}\":number for number in range(1,16)}\n",
    "\n",
    "print(some_dict)\n",
    "print(slownik_from_comprehension)\n",
    "\n",
    "zbior={n for n in [1, 4, 5, 13, 12, 19] if n<10}\n",
    "print(zbior)"
   ],
   "metadata": {
    "collapsed": false,
    "pycharm": {
     "name": "#%%\n"
    }
   }
  },
  {
   "cell_type": "markdown",
   "source": [
    "Powyższe wyniki wskazują na to, że warto skorzystać z tablic numpy, jeśli mamy bardzo dużo elementów.\n",
    "Numpy osiągnął duże lepsze osiągi przy 1000000 unikatowych elementów niż listy.\n",
    "W przypadku numpy najlepszym sposobem skopiowania okazały się wycinki. Z kolei widać też,\n",
    "że list comprehension nie należy do najszybszych metod i zazwyczaj plasował się gdzieś pod koniec zarówno\n",
    "dla list jak i dla numpy.arrays . Niemniej technika kopiowania powinna zależeć od obiektu oraz od tego,\n",
    "co chcemy osiągnąć. Na przykład jeśli masz listę ze stringami i chciałbyś stworzyć drugą taką samą,\n",
    " gdzie wszystkie stringi zaczynałyby się od dużej litery, to użyjesz list comprehension."
   ],
   "metadata": {
    "collapsed": false,
    "pycharm": {
     "name": "#%% md\n"
    }
   }
  },
  {
   "cell_type": "markdown",
   "source": [
    "### Shallow copy vs deep copy\n",
    "Prawie wszystkie wymienione przeze mnie techniki kopiowania stosują tzw.\n",
    "płytkie kopiowanie (shallow copy). Różnica między płytkim a głębokim kopiowaniem (deep copy)\n",
    "dotyczy obiektów złożonych, czyli obiektów zawierających inne obiekty, takich jak\n",
    "listy lub instancje klas (instancja to inaczej obiekt). Innymi słowy płytkie kopiowanie nie jest\n",
    "odpowiednie do skopiowania zagnieżdżonych list czy słowników. Oto prosty przykład:"
   ],
   "metadata": {
    "collapsed": false,
    "pycharm": {
     "name": "#%% md\n",
     "is_executing": true
    }
   },
   "outputs": [
    {
     "ename": "SyntaxError",
     "evalue": "invalid syntax (<ipython-input-20-22c407dcb548>, line 1)",
     "output_type": "error",
     "traceback": [
      "\u001B[0;36m  File \u001B[0;32m\"<ipython-input-20-22c407dcb548>\"\u001B[0;36m, line \u001B[0;32m1\u001B[0m\n\u001B[0;31m    Pułapka w deepcopy()\u001B[0m\n\u001B[0m            ^\u001B[0m\n\u001B[0;31mSyntaxError\u001B[0m\u001B[0;31m:\u001B[0m invalid syntax\n"
     ]
    }
   ]
  },
  {
   "cell_type": "code",
   "execution_count": 25,
   "outputs": [
    {
     "name": "stdout",
     "output_type": "stream",
     "text": [
      "[[1, 1, 1], [1, 1, 1], [1, 1, 1]]\n",
      "[[1, 1, 1], [1, 1, 1], [1, 1, 1], [1, 1, 1]]\n"
     ]
    }
   ],
   "source": [
    "matrix=[[1,1,1],\n",
    "        [1,1,1],\n",
    "        [1,1,1]]\n",
    "matrix_copy=matrix*1\n",
    "matrix_copy+=[[1,1,1]]\n",
    "print(matrix)\n",
    "print(matrix_copy)"
   ],
   "metadata": {
    "collapsed": false,
    "pycharm": {
     "name": "#%%\n"
    }
   }
  },
  {
   "cell_type": "markdown",
   "source": [
    "W zmiennej matrix_copy utworzyliśmy kopię matrix. Następnie do nowej zmiennej dodaliśmy\n",
    "kolejną listę. Jak widać oryginalna lista się nie zmieniła.\n",
    "Niestety w przypadku, kiedy chcemy dokonać zmiany wewnątrz zagnieżdżonej listy, zmieni się także pierwsza lista:"
   ],
   "metadata": {
    "collapsed": false,
    "pycharm": {
     "name": "#%% md\n"
    }
   }
  },
  {
   "cell_type": "code",
   "execution_count": 26,
   "outputs": [
    {
     "name": "stdout",
     "output_type": "stream",
     "text": [
      "[[0, 1, 1], [1, 1, 1], [1, 1, 1]]\n",
      "[[0, 1, 1], [1, 1, 1], [1, 1, 1], [1, 1, 1]]\n"
     ]
    }
   ],
   "source": [
    "matrix_copy[0][0]=0\n",
    "print(matrix)\n",
    "print(matrix_copy)"
   ],
   "metadata": {
    "collapsed": false,
    "pycharm": {
     "name": "#%%\n"
    }
   }
  },
  {
   "cell_type": "markdown",
   "source": [
    "W powyższym programie dokonaliśmy zmian w kopii, czyli matrix_copy[0][0]=0.\n",
    "Zmienione zostały obie listy. ponieważ odwołują się do tego samego zagnieżdżonego obiektu.\n",
    "Dlatego w takich przypadkach potrzebujemy copy.deepcopy()."
   ],
   "metadata": {
    "collapsed": false,
    "pycharm": {
     "name": "#%% md\n"
    }
   }
  },
  {
   "cell_type": "code",
   "execution_count": 28,
   "outputs": [
    {
     "name": "stdout",
     "output_type": "stream",
     "text": [
      "[[0, 1, 1], [1, 1, 1], [1, 1, 1]]\n",
      "[[0, 0, 1], [1, 1, 1], [1, 1, 1]]\n"
     ]
    }
   ],
   "source": [
    "import copy\n",
    "matrix_deepcopy=copy.deepcopy(matrix)\n",
    "matrix_deepcopy[0][1]=0\n",
    "print(matrix)\n",
    "print(matrix_deepcopy)"
   ],
   "metadata": {
    "collapsed": false,
    "pycharm": {
     "name": "#%%\n"
    }
   }
  },
  {
   "cell_type": "markdown",
   "source": [
    "Alternatywą jest użycie list comprehension:\n",
    "\n",
    "Tylko, że im więcej zagnieżdżeń, tym również bardziej zagnieżdżona pętla, co powoduje nieczytelność kodu."
   ],
   "metadata": {
    "collapsed": false,
    "pycharm": {
     "name": "#%% md\n"
    }
   }
  },
  {
   "cell_type": "code",
   "execution_count": 32,
   "outputs": [
    {
     "name": "stdout",
     "output_type": "stream",
     "text": [
      "[[0, 1, 1], [1, 1, 1], [1, 1, 1]]\n",
      "[[0, 5, 1], [1, 1, 1], [1, 1, 1]]\n"
     ]
    }
   ],
   "source": [
    "matrix_deepcopy_list_comp=[item[:] for item in matrix]\n",
    "matrix_deepcopy_list_comp[0][1]=5\n",
    "print(matrix)\n",
    "print(matrix_deepcopy_list_comp)"
   ],
   "metadata": {
    "collapsed": false,
    "pycharm": {
     "name": "#%%\n"
    }
   }
  },
  {
   "cell_type": "markdown",
   "source": [
    "## Pułapka w deepcopy()\n",
    "\n",
    "Niestety, ale deepcopy() czasami może nie zadziałać, tak jakbyśmy sobie życzyli. Gdybyśmy naszą macierz utworzyli w następujący sposób:"
   ],
   "metadata": {
    "collapsed": false,
    "pycharm": {
     "name": "#%% md\n"
    }
   }
  },
  {
   "cell_type": "code",
   "execution_count": 22,
   "outputs": [
    {
     "name": "stdout",
     "output_type": "stream",
     "text": [
      "[[1, 1, 1], [1, 1, 1], [1, 1, 1]]\n",
      "[[1, 1, 100], [1, 1, 100], [1, 1, 100]]\n",
      "139837472733120 139837472733120 139837472733120\n"
     ]
    }
   ],
   "source": [
    "import copy\n",
    "m= 3*[3*[1]]\n",
    "new_m = copy.deepcopy(m)\n",
    "print(new_m)\n",
    "new_m[1][2] = 100\n",
    "print(new_m)\n",
    "print(id(new_m[0]),id(new_m[1]),id(new_m[2]))"
   ],
   "metadata": {
    "collapsed": false,
    "pycharm": {
     "name": "#%%\n"
    }
   }
  },
  {
   "cell_type": "markdown",
   "source": [
    "Zmieniliśmy każdą zagnieżdżoną listę, chociaż chcieliśmy dokonać zmian tylko w jednej.\n",
    "Funkcja id() pokazała, że każda zagnieżdżona lista jest tym samym obiektem.\n",
    "Głębokie kopiowanie tworzy nowy złożony obiekt, a następnie rekurencyjnie wstawia\n",
    "do niego kopie obiektów znalezionych w oryginale. deepcopy() prowadzi słownik („memo”)\n",
    "zawierający wszystkie obiekty, które zostały już skopiowane. Ma to na celu uniknięcie nieskończonych rekurencji.\n",
    "Dlatego, kiedy w naszym programie deepcopy() próbuje wykonać głęboką kopię drugiej podlisty,\n",
    "widzi, że już ją wcześniej skopiował i po prostu wstawia jeszcze raz tę podlistę.\n",
    "deepcopy() uznaje wspólne odniesienia za celowe. W tym przypadku lepiej użyć list comprehension:\n",
    "Dzięki funkcji id() widzimy, że teraz każda zagnieżdżona lista jest nowym obiektem."
   ],
   "metadata": {
    "collapsed": false,
    "pycharm": {
     "name": "#%% md\n"
    }
   }
  },
  {
   "cell_type": "code",
   "execution_count": 24,
   "outputs": [
    {
     "name": "stdout",
     "output_type": "stream",
     "text": [
      "[[1, 1, 1], [1, 1, 100], [1, 1, 1]]\n",
      "139837460100288 139837460100480 139837459691904\n"
     ]
    }
   ],
   "source": [
    "m= [[1]*3 for item in range(3)]\n",
    "new_m = copy.deepcopy(m)\n",
    "new_m[1][2] = 100\n",
    "print(new_m)\n",
    "print(id(new_m[0]),id(new_m[1]),id(new_m[2]))"
   ],
   "metadata": {
    "collapsed": false,
    "pycharm": {
     "name": "#%%\n"
    }
   }
  },
  {
   "cell_type": "code",
   "execution_count": 1,
   "outputs": [
    {
     "name": "stdout",
     "output_type": "stream",
     "text": [
      "0 Poland Warsaw\n",
      "1 Germany Berlin\n",
      "2 US New York\n"
     ]
    }
   ],
   "source": [
    "słownik = {'Poland':'Warsaw', 'Germany':'Berlin', 'US':'New York'}\n",
    "for count, s in enumerate(słownik):\n",
    "    print (count, s, słownik[s])\n",
    "\n",
    "tekst = 'Analityk'\n",
    "for count, l in enumerate(tekst):\n",
    "    print (count,l)\n",
    "\n",
    "lista = ['a','b','c','d','e']\n",
    "for count, l in enumerate(lista):\n",
    "    print('Iteracja nr.', count,' Wartość:', l)"
   ],
   "metadata": {
    "collapsed": false,
    "pycharm": {
     "name": "#%%\n"
    }
   }
  },
  {
   "cell_type": "code",
   "execution_count": null,
   "outputs": [],
   "source": [
    "\n"
   ],
   "metadata": {
    "collapsed": false,
    "pycharm": {
     "name": "#%%\n"
    }
   }
  }
 ],
 "metadata": {
  "kernelspec": {
   "display_name": "Python 3",
   "language": "python",
   "name": "python3"
  },
  "language_info": {
   "codemirror_mode": {
    "name": "ipython",
    "version": 2
   },
   "file_extension": ".py",
   "mimetype": "text/x-python",
   "name": "python",
   "nbconvert_exporter": "python",
   "pygments_lexer": "ipython2",
   "version": "2.7.6"
  }
 },
 "nbformat": 4,
 "nbformat_minor": 0
}