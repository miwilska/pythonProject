{
 "cells": [
  {
   "cell_type": "code",
   "execution_count": null,
   "metadata": {
    "collapsed": true
   },
   "outputs": [],
   "source": []
  },
  {
   "cell_type": "code",
   "execution_count": null,
   "outputs": [],
   "source": [
    "from abc import ABC, abstractmethod\n",
    "class ptak(ABC):\n",
    "\n",
    "    def __init__ (self, gatunek, szybkość):\n",
    "        self.gatunek = gatunek\n",
    "        self.szybkość = szybkość\n",
    "\n",
    "    def lec(self):\n",
    "        print (\"Tu\", self.gatunek, \". Startuje, i zaraz osiągne prędkość\", self.szybkość)\n",
    "\n",
    "    @abstractmethod\n",
    "    def wydajOdgłos(self):\n",
    "        pass\n",
    "\n",
    "class orzeł (ptak):\n",
    "\n",
    "    def __init__ (self, szybkość):\n",
    "        super().__init__(\"orzeł\", szybkość)\n",
    "\n",
    "    def poluj(self):\n",
    "            print (\"Tu\", self.gatunek, \". Rozpocząłem polowanie\")\n",
    "\n",
    "    def wydajOdgłos(self):\n",
    "        print (\"wrrrr\")\n",
    "\n",
    "class pingwin (ptak):\n",
    "\n",
    "    def __init__(self, szybkość):\n",
    "        super().__init__(\"pingwin\", szybkość)\n",
    "\n",
    "    def ślizgaj(self):\n",
    "        print (\"Tu\", self.gatunek, \". Rozpocząłem ślizg\")\n",
    "\n",
    "    def lec(self):\n",
    "        print (\"Tu\", self.gatunek, \". Przykro mi, ale nie latam\")\n",
    "    def wydajOdgłos(self):\n",
    "        print (\"kwiiiii\")\n"
   ],
   "metadata": {
    "collapsed": false,
    "pycharm": {
     "name": "#%%\n"
    }
   }
  },
  {
   "cell_type": "code",
   "execution_count": null,
   "outputs": [],
   "source": [
    "o = orzeł(50)\n",
    "p = pingwin(30)\n",
    "\n",
    "o.lec()\n",
    "p.lec()\n",
    "print()\n",
    "o.poluj()\n",
    "p.ślizgaj()\n",
    "print()\n",
    "p.wydajOdgłos()\n",
    "o.wydajOdgłos()\n"
   ],
   "metadata": {
    "collapsed": false,
    "pycharm": {
     "name": "#%%\n"
    }
   }
  },
  {
   "cell_type": "code",
   "execution_count": null,
   "outputs": [],
   "source": [
    "class samochód:\n",
    "\n",
    "    def __init__(self):\n",
    "\n",
    "        self.__silnik = False\n",
    "        self.__bieg = 0\n",
    "        self.__prędkość= 0\n",
    "\n",
    "    def uruchom(self):\n",
    "        self.__silnik = True\n",
    "\n",
    "    def wyłącz(self):\n",
    "        self.__silnik = False\n",
    "\n",
    "    def biegNastępny(self):\n",
    "        if self.__bieg <= 6: self.__bieg += 1; print(self.__bieg)\n",
    "\n",
    "    def biegPoprzedni(self):\n",
    "        if self.__bieg >= 0: self.__bieg -= 1; print(self.__bieg)\n",
    "\n",
    "    def przyspiesz(self):\n",
    "        if self.__silnik == True and self.__bieg > 0 : self.__prędkość += 10; print(self.__prędkość)\n",
    "\n",
    "    def hamuj(self):\n",
    "        if self.__prędkość >= 10: self.__prędkość -= 10\n",
    "        else: self.__prędkość = 0\n",
    "        print(self.__prędkość)\n",
    "\n",
    "car = samochód()\n",
    "car.uruchom()\n",
    "car.biegNastępny()\n",
    "car.przyspiesz()\n",
    "car.hamuj()\n",
    "car.wyłącz()"
   ],
   "metadata": {
    "collapsed": false,
    "pycharm": {
     "name": "#%%\n"
    }
   }
  },
  {
   "cell_type": "code",
   "execution_count": null,
   "outputs": [],
   "source": [
    "class samochód:\n",
    "\n",
    "    def __init__(self):\n",
    "\n",
    "        self.__silnik = False\n",
    "        self.__bieg = 0\n",
    "        self.__prędkość= 0\n",
    "\n",
    "    def uruchom(self):\n",
    "        self.__silnik = True\n",
    "\n",
    "    def wyłącz(self):\n",
    "        self.__silnik = False\n",
    "\n",
    "    # ukrywamy metody zmiany biegu, aby nie można było zmienić biegu ręcznie\n",
    "\n",
    "    def __biegNastępny(self):\n",
    "        if self.__bieg <= 6: self.__bieg += 1; print(self.__bieg)\n",
    "\n",
    "    def __biegPoprzedni(self):\n",
    "        if self.__bieg >= 0: self.__bieg -= 1; print(self.__bieg)\n",
    "\n",
    "    def przyspiesz(self):\n",
    "        if self.__silnik == True: # usuneliśmy również warunek sprawdzający bieg\n",
    "            self.__prędkość += 10;\n",
    "            print(self.__prędkość)\n",
    "\n",
    "            # zmieniamy bieg na wyższy\n",
    "\n",
    "            self.__biegNastępny()\n",
    "\n",
    "    def hamuj(self):\n",
    "        if self.__prędkość >= 10: self.__prędkość -= 10\n",
    "        else: self.__prędkość = 0\n",
    "        print(self.__prędkość)\n",
    "        # zmieniamy bieg na niższy\n",
    "\n",
    "        self.__biegPoprzedni()\n",
    "\n",
    "\n",
    "car = samochód()\n",
    "car.uruchom()\n",
    "car.przyspiesz()\n",
    "car.przyspiesz()\n",
    "car.przyspiesz()\n",
    "car.hamuj()\n",
    "car.hamuj()\n",
    "car.hamuj()\n",
    "car.wyłącz()\n"
   ],
   "metadata": {
    "collapsed": false,
    "pycharm": {
     "name": "#%%\n"
    }
   }
  },
  {
   "cell_type": "code",
   "execution_count": null,
   "outputs": [],
   "source": [],
   "metadata": {
    "collapsed": false,
    "pycharm": {
     "name": "#%%\n"
    }
   }
  }
 ],
 "metadata": {
  "kernelspec": {
   "display_name": "Python 3",
   "language": "python",
   "name": "python3"
  },
  "language_info": {
   "codemirror_mode": {
    "name": "ipython",
    "version": 2
   },
   "file_extension": ".py",
   "mimetype": "text/x-python",
   "name": "python",
   "nbconvert_exporter": "python",
   "pygments_lexer": "ipython2",
   "version": "2.7.6"
  }
 },
 "nbformat": 4,
 "nbformat_minor": 0
}