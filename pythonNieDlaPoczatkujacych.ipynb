{
 "cells": [
  {
   "cell_type": "code",
   "execution_count": 2,
   "metadata": {
    "collapsed": true,
    "pycharm": {
     "name": "#%%\n"
    }
   },
   "outputs": [
    {
     "name": "stdout",
     "output_type": "stream",
     "text": [
      "1\n",
      "2\n",
      "Fizz\n",
      "4\n",
      "Buzz\n",
      "Fizz\n",
      "7\n",
      "8\n",
      "Fizz\n",
      "Buzz\n"
     ]
    }
   ],
   "source": [
    "from fizz_buzz import fizz_buzz1\n",
    "fizz_buzz1(10)"
   ]
  },
  {
   "cell_type": "code",
   "execution_count": 3,
   "outputs": [
    {
     "name": "stdout",
     "output_type": "stream",
     "text": [
      "1\n",
      "2\n",
      "Fizz\n",
      "4\n",
      "Buzz\n",
      "Fizz\n",
      "7\n",
      "8\n",
      "Fizz\n",
      "Buzz\n",
      "11\n",
      "Fizz\n"
     ]
    }
   ],
   "source": [
    "import fizz_buzz as fb\n",
    "fb.fizz_buzz1(12)\n",
    "\n"
   ],
   "metadata": {
    "collapsed": false,
    "pycharm": {
     "name": "#%%\n"
    }
   }
  },
  {
   "cell_type": "code",
   "execution_count": 1,
   "outputs": [
    {
     "name": "stdout",
     "output_type": "stream",
     "text": [
      "słowa: 7  litery: 19\n",
      "Częstotliwosc: {'a': 7, 'l': 2, 'm': 2, 'k': 2, 'o': 2, 't': 2, ',': 1, 'e': 1}\n",
      "słowa: 3  litery: 9\n",
      "Częstotliwosc: {'a': 4, 'l': 1, 'm': 1, 'k': 1, 'o': 1, 't': 1}\n",
      "*********************************\n",
      "W naszym tekscie: \" Ala ma kota, a kot ma Ale \"  znajdujemy:  7 słów oraz  19 znaków (bez spacji).\n",
      "Częstotliwosc liter jest następująca: {'a': 7, 'l': 2, 'm': 2, 'k': 2, 'o': 2, 't': 2, ',': 1, 'e': 1}\n",
      "W naszym tekscie: \" Ala ma kota \"  znajdujemy:  3 słów oraz  9 znaków (bez spacji).\n",
      "Częstotliwosc liter jest następująca: {'a': 4, 'l': 1, 'm': 1, 'k': 1, 'o': 1, 't': 1}\n"
     ]
    }
   ],
   "source": [
    "import counting_letters_words_etc as clw\n",
    "\n",
    "clw.counting_function1('Ala ma kota, a kot ma Ale')\n",
    "clw.counting_function1(\"Ala ma kota\")\n",
    "print('*********************************')\n",
    "clw.counting_function2('Ala ma kota, a kot ma Ale')\n",
    "clw.counting_function2(\"Ala ma kota\")"
   ],
   "metadata": {
    "collapsed": false,
    "pycharm": {
     "name": "#%%\n"
    }
   }
  },
  {
   "cell_type": "markdown",
   "source": [
    "Ćwiczenie 1: Należy utworzyć klasę książka. Klasa, powinna:\n",
    "\n",
    "    Przechować informacje na temat: tytułu, ilości stron, autora, data wydania, właściciel\n",
    "    Posiadać 2 metody / funkcje:\n",
    "                1 – zwraca informacje na temat książki,\n",
    "                2 – zmianę właściciela książki\n",
    "\n",
    "Ćwiczenie 2: korzystając z wyżej zdefiniowanej klasy,\n",
    "utworzyć kilka obiektów klasy książka, po czym dodać je do listy książek.\n",
    "Lista książek, to zwykła zmienna typu 'lista'.\n",
    "\n",
    "Ćwiczenie 3: Możemy uprościć zapis definicji naszej klasy.\n",
    "Otóż, nie jest konieczne definiowanie zmiennych autor, tytuł itd,.\n",
    "Konstruktor, odwołując się do self.autor, nawet jeżeli zmienna nie była\n",
    " wcześniej zdefiniowana, utworzy ją. Tak więc uprośćmy naszą definicje."
   ],
   "metadata": {
    "collapsed": false,
    "pycharm": {
     "name": "#%% md\n"
    }
   }
  },
  {
   "cell_type": "code",
   "execution_count": null,
   "outputs": [],
   "source": [
    "class Book\n",
    "    title = \"\""
   ],
   "metadata": {
    "collapsed": false,
    "pycharm": {
     "name": "#%%\n"
    }
   }
  }
 ],
 "metadata": {
  "kernelspec": {
   "display_name": "Python 3",
   "language": "python",
   "name": "python3"
  },
  "language_info": {
   "codemirror_mode": {
    "name": "ipython",
    "version": 2
   },
   "file_extension": ".py",
   "mimetype": "text/x-python",
   "name": "python",
   "nbconvert_exporter": "python",
   "pygments_lexer": "ipython2",
   "version": "2.7.6"
  }
 },
 "nbformat": 4,
 "nbformat_minor": 0
}