{
 "cells": [
  {
   "cell_type": "code",
   "execution_count": 3,
   "outputs": [
    {
     "ename": "ModuleNotFoundError",
     "evalue": "No module named 'tkinter'",
     "output_type": "error",
     "traceback": [
      "\u001B[0;31m---------------------------------------------------------------------------\u001B[0m",
      "\u001B[0;31mModuleNotFoundError\u001B[0m                       Traceback (most recent call last)",
      "\u001B[0;32m<ipython-input-3-3afd643656f4>\u001B[0m in \u001B[0;36m<module>\u001B[0;34m\u001B[0m\n\u001B[0;32m----> 1\u001B[0;31m \u001B[0;32mimport\u001B[0m \u001B[0mturtle\u001B[0m\u001B[0;34m\u001B[0m\u001B[0;34m\u001B[0m\u001B[0m\n\u001B[0m\u001B[1;32m      2\u001B[0m \u001B[0mżółw\u001B[0m \u001B[0;34m=\u001B[0m \u001B[0mturtle\u001B[0m\u001B[0;34m.\u001B[0m\u001B[0mTurtle\u001B[0m\u001B[0;34m(\u001B[0m\u001B[0;34m)\u001B[0m\u001B[0;34m\u001B[0m\u001B[0;34m\u001B[0m\u001B[0m\n\u001B[1;32m      3\u001B[0m \u001B[0mżółw\u001B[0m\u001B[0;34m.\u001B[0m\u001B[0mshape\u001B[0m\u001B[0;34m(\u001B[0m\u001B[0;34m'turtle'\u001B[0m\u001B[0;34m)\u001B[0m\u001B[0;34m\u001B[0m\u001B[0;34m\u001B[0m\u001B[0m\n\u001B[1;32m      4\u001B[0m \u001B[0mturtle\u001B[0m\u001B[0;34m.\u001B[0m\u001B[0mexitonclick\u001B[0m\u001B[0;34m(\u001B[0m\u001B[0;34m)\u001B[0m\u001B[0;34m\u001B[0m\u001B[0;34m\u001B[0m\u001B[0m\n\u001B[1;32m      5\u001B[0m \u001B[0;34m\u001B[0m\u001B[0m\n",
      "\u001B[0;32m/usr/lib/python3.8/turtle.py\u001B[0m in \u001B[0;36m<module>\u001B[0;34m\u001B[0m\n\u001B[1;32m    105\u001B[0m \u001B[0;31m# print(_ver)\u001B[0m\u001B[0;34m\u001B[0m\u001B[0;34m\u001B[0m\u001B[0;34m\u001B[0m\u001B[0m\n\u001B[1;32m    106\u001B[0m \u001B[0;34m\u001B[0m\u001B[0m\n\u001B[0;32m--> 107\u001B[0;31m \u001B[0;32mimport\u001B[0m \u001B[0mtkinter\u001B[0m \u001B[0;32mas\u001B[0m \u001B[0mTK\u001B[0m\u001B[0;34m\u001B[0m\u001B[0;34m\u001B[0m\u001B[0m\n\u001B[0m\u001B[1;32m    108\u001B[0m \u001B[0;32mimport\u001B[0m \u001B[0mtypes\u001B[0m\u001B[0;34m\u001B[0m\u001B[0;34m\u001B[0m\u001B[0m\n\u001B[1;32m    109\u001B[0m \u001B[0;32mimport\u001B[0m \u001B[0mmath\u001B[0m\u001B[0;34m\u001B[0m\u001B[0;34m\u001B[0m\u001B[0m\n",
      "\u001B[0;31mModuleNotFoundError\u001B[0m: No module named 'tkinter'"
     ]
    }
   ],
   "source": [
    "import turtle\n",
    "żółw = turtle.Turtle()\n",
    "żółw.shape('turtle')\n",
    "turtle.exitonclick()"
   ],
   "metadata": {
    "collapsed": false,
    "pycharm": {
     "name": "#%%\n"
    }
   }
  },
  {
   "cell_type": "code",
   "execution_count": null,
   "metadata": {
    "collapsed": true
   },
   "outputs": [],
   "source": [
    "import turtle\n",
    "import random\n",
    "\n",
    "t = turtle.Turtle()\n",
    "t.speed(0)\n",
    "t.setheading(90)\n",
    "t.penup()\n",
    "t.goto(0, -200)\n",
    "t.pendown()\n",
    "\n",
    "\n",
    "def gałąź(t, len):\n",
    "    if len == 0: return\n",
    "    nt = t.clone()\n",
    "    nt.pensize(len * 3)\n",
    "    if len < 3:\n",
    "        nt.color('green')\n",
    "        nt.forward(50)\n",
    "        if random.randint(0, 2) in (1, 2):\n",
    "            nt.begin_fill()\n",
    "            if random.randint(0, 10) == 10: nt.color('red')\n",
    "            nt.circle(20)\n",
    "            nt.end_fill()\n",
    "    elif len < 6:\n",
    "        nt.color('brown')\n",
    "        nt.forward(50)\n",
    "    else:\n",
    "        nt.forward(50)\n",
    "    nt.left(20)\n",
    "    gałąź(nt, len - 1)\n",
    "\n",
    "    nt.right(40)\n",
    "    gałąź(nt, len - 1)\n",
    "\n",
    "\n",
    "gałąź(t, 8)\n",
    "t.penup()\n",
    "t.goto(-100, -250)\n",
    "t.write(\"Analityk.Edu.Pl\", font=(\"Arial\", 20, \"bold\"))\n",
    "window = turtle.Screen()\n",
    "window.exitonclick()\n"
   ]
  }
 ],
 "metadata": {
  "kernelspec": {
   "display_name": "Python 3",
   "language": "python",
   "name": "python3"
  },
  "language_info": {
   "codemirror_mode": {
    "name": "ipython",
    "version": 2
   },
   "file_extension": ".py",
   "mimetype": "text/x-python",
   "name": "python",
   "nbconvert_exporter": "python",
   "pygments_lexer": "ipython2",
   "version": "2.7.6"
  }
 },
 "nbformat": 4,
 "nbformat_minor": 0
}