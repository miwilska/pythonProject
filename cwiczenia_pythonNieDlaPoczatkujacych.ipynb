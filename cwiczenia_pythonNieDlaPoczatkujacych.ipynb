{
 "cells": [
  {
   "cell_type": "code",
   "execution_count": 1,
   "metadata": {
    "collapsed": true,
    "pycharm": {
     "name": "#%%\n"
    }
   },
   "outputs": [
    {
     "name": "stdout",
     "output_type": "stream",
     "text": [
      "1\n",
      "2\n",
      "Fizz\n",
      "4\n",
      "Buzz\n",
      "Fizz\n",
      "7\n",
      "8\n",
      "Fizz\n",
      "Buzz\n"
     ]
    }
   ],
   "source": [
    "from fizz_buzz import fizz_buzz1\n",
    "fizz_buzz1(10)"
   ]
  },
  {
   "cell_type": "code",
   "execution_count": 2,
   "outputs": [
    {
     "name": "stdout",
     "output_type": "stream",
     "text": [
      "1\n",
      "2\n",
      "Fizz\n",
      "4\n",
      "Buzz\n",
      "Fizz\n",
      "7\n",
      "8\n",
      "Fizz\n",
      "Buzz\n",
      "11\n",
      "Fizz\n"
     ]
    }
   ],
   "source": [
    "import fizz_buzz as fb\n",
    "fb.fizz_buzz1(12)\n",
    "\n"
   ],
   "metadata": {
    "collapsed": false,
    "pycharm": {
     "name": "#%%\n"
    }
   }
  },
  {
   "cell_type": "code",
   "execution_count": 3,
   "outputs": [
    {
     "name": "stdout",
     "output_type": "stream",
     "text": [
      "słowa: 7  litery: 19\n",
      "Częstotliwosc: {'a': 7, 'l': 2, 'm': 2, 'k': 2, 'o': 2, 't': 2, ',': 1, 'e': 1}\n",
      "słowa: 3  litery: 9\n",
      "Częstotliwosc: {'a': 4, 'l': 1, 'm': 1, 'k': 1, 'o': 1, 't': 1}\n",
      "*********************************\n",
      "W naszym tekscie: \" Ala ma kota, a kot ma Ale \"  znajdujemy:  7 słów oraz  19 znaków (bez spacji).\n",
      "Częstotliwosc liter jest następująca: {'a': 7, 'l': 2, 'm': 2, 'k': 2, 'o': 2, 't': 2, ',': 1, 'e': 1}\n",
      "W naszym tekscie: \" Ala ma kota \"  znajdujemy:  3 słów oraz  9 znaków (bez spacji).\n",
      "Częstotliwosc liter jest następująca: {'a': 4, 'l': 1, 'm': 1, 'k': 1, 'o': 1, 't': 1}\n"
     ]
    }
   ],
   "source": [
    "import counting_letters_words_etc as clw\n",
    "\n",
    "clw.counting_function1('Ala ma kota, a kot ma Ale')\n",
    "clw.counting_function1(\"Ala ma kota\")\n",
    "print('*********************************')\n",
    "clw.counting_function2('Ala ma kota, a kot ma Ale')\n",
    "clw.counting_function2(\"Ala ma kota\")"
   ],
   "metadata": {
    "collapsed": false,
    "pycharm": {
     "name": "#%%\n"
    }
   }
  },
  {
   "cell_type": "markdown",
   "source": [
    "Ćwiczenie 1: Należy utworzyć klasę książka. Klasa, powinna:\n",
    "\n",
    "    Przechować informacje na temat: tytułu, ilości stron,\n",
    "    autora, data wydania, właściciel\n",
    "    Posiadać 2 metody / funkcje:\n",
    "                1 – zwraca informacje na temat książki,\n",
    "                2 – zmianę właściciela książki\n",
    "\n",
    "Ćwiczenie 2: korzystając z wyżej zdefiniowanej klasy,\n",
    "utworzyć kilka obiektów klasy książka, po czym dodać je do listy książek.\n",
    "Lista książek, to zwykła zmienna typu 'lista'.\n",
    "\n",
    "Ćwiczenie 3: Możemy uprościć zapis definicji naszej klasy.\n",
    "Otóż, nie jest konieczne definiowanie zmiennych autor, tytuł itd,.\n",
    "Konstruktor, odwołując się do self.autor, nawet jeżeli zmienna nie była\n",
    " wcześniej zdefiniowana, utworzy ją. Tak więc uprośćmy naszą definicje."
   ],
   "metadata": {
    "collapsed": false,
    "pycharm": {
     "name": "#%% md\n"
    }
   }
  },
  {
   "cell_type": "code",
   "execution_count": 4,
   "outputs": [],
   "source": [
    "class Book :\n",
    "    title = \"\"\n",
    "    pages = None\n",
    "    author = \"\"\n",
    "    data = None\n",
    "    owner = \"\"\n",
    "\n",
    "    def describe(self):\n",
    "        print (\"Tytuł: \", self.title, \"Author:\", self.author, \"Data:\",self.data, \"Owner:\", self.owner)\n",
    "\n",
    "    def change_owner(self, new_owner):\n",
    "        print(\"Dla \", self.title, \"właściciel się zmienia z :\", self.owner, \" na \", new_owner)\n",
    "        self.owner == new_owner\n",
    "\n",
    "\n",
    "narnia = Book()\n",
    "narnia.author = 'C.S. Lewis'\n",
    "narnia.title = \"Stara Szafa\"\n",
    "narnia.owner = \"Magda\"\n",
    "\n",
    "narnia2 = Book()\n",
    "narnia2.author = 'C.S. Lewis'\n",
    "narnia2.title = \"Księże Kaspian\"\n",
    "narnia2.owner = \"Magda\"\n",
    "\n",
    "narnia3 = Book()\n",
    "narnia3.author = 'C.S. Lewis'\n",
    "narnia3.title = \"Podróz Wędrowca do Świtu\"\n",
    "narnia3.owner = \"Magda\"\n",
    "\n",
    "my_library = [narnia, narnia2, narnia3]"
   ],
   "metadata": {
    "collapsed": false,
    "pycharm": {
     "name": "#%%\n"
    }
   }
  },
  {
   "cell_type": "code",
   "execution_count": 5,
   "outputs": [
    {
     "name": "stdout",
     "output_type": "stream",
     "text": [
      "Stara Szafa\n",
      "Księże Kaspian\n",
      "Podróz Wędrowca do Świtu\n"
     ]
    }
   ],
   "source": [
    "for i in my_library:\n",
    "    print (i.title)"
   ],
   "metadata": {
    "collapsed": false,
    "pycharm": {
     "name": "#%%\n"
    }
   }
  },
  {
   "cell_type": "code",
   "execution_count": 6,
   "outputs": [],
   "source": [
    "class Book :\n",
    "    title = \"\"\n",
    "    pages = None\n",
    "    author = \"\"\n",
    "    data = None\n",
    "    owner = \"\"\n",
    "\n",
    "    def __init__(self, p1,p2,p3, p4):\n",
    "        self.title = p1\n",
    "        self.author = p2\n",
    "        self.data = p3\n",
    "        self.owner = p4\n",
    "\n",
    "    def describe(self):\n",
    "        print (\"Tytuł: \", self.title, \"Author:\", self.author, \"Data:\",self.data, \"Owner:\", self.owner)\n",
    "\n",
    "    def change_owner(self, new_owner):\n",
    "        print(\"Dla \", self.title, \"właściciel się zmienia z :\", self.owner, \" na \", new_owner)\n",
    "        self.owner == new_owner\n"
   ],
   "metadata": {
    "collapsed": false,
    "pycharm": {
     "name": "#%%\n"
    }
   }
  },
  {
   "cell_type": "code",
   "execution_count": 7,
   "outputs": [],
   "source": [
    "kocia = Book(\"Kocia Mama\", \"A. Domanska\", 1950, \"Mama\")\n",
    "blekitny = Book(\"Blekitny Ogród\", \"U. Kruszewska\", 1936, \"Tata\" )\n",
    "\n",
    "my_library.append(kocia)\n",
    "my_library.append(blekitny)"
   ],
   "metadata": {
    "collapsed": false,
    "pycharm": {
     "name": "#%%\n"
    }
   }
  },
  {
   "cell_type": "code",
   "execution_count": 8,
   "outputs": [
    {
     "name": "stdout",
     "output_type": "stream",
     "text": [
      "Stara Szafa\n",
      "Księże Kaspian\n",
      "Podróz Wędrowca do Świtu\n",
      "Kocia Mama\n",
      "Blekitny Ogród\n",
      "Dla  Kocia Mama właściciel się zmienia z : Mama  na  Magda\n",
      "Dla  Blekitny Ogród właściciel się zmienia z : Tata  na  Magda\n"
     ]
    }
   ],
   "source": [
    "for i in my_library:\n",
    "    print (i.title)\n",
    "\n",
    "kocia.change_owner(\"Magda\")\n",
    "blekitny.change_owner(\"Magda\")"
   ],
   "metadata": {
    "collapsed": false,
    "pycharm": {
     "name": "#%%\n"
    }
   }
  },
  {
   "cell_type": "code",
   "execution_count": 9,
   "outputs": [
    {
     "name": "stdout",
     "output_type": "stream",
     "text": [
      "Stara Szafa\n",
      "Księże Kaspian\n",
      "Podróz Wędrowca do Świtu\n",
      "Kocia Mama\n",
      "Blekitny Ogród\n"
     ]
    }
   ],
   "source": [
    "for i in my_library:\n",
    "    print (i.title)\n"
   ],
   "metadata": {
    "collapsed": false,
    "pycharm": {
     "name": "#%%\n"
    }
   }
  },
  {
   "cell_type": "code",
   "execution_count": 10,
   "outputs": [],
   "source": [
    "from abc import ABC, abstractmethod\n",
    "class Bird(ABC):\n",
    "\n",
    "    def __init__ (self, gatunek, speed):\n",
    "        self.gatunek = gatunek\n",
    "        self.speed = speed\n",
    "\n",
    "    def fly(self):\n",
    "        print (\"Tu\", self.gatunek, \". Startuje, i zaraz osiągne prędkość\", self.speed)\n",
    "\n",
    "    def hunt(self):\n",
    "            print (\"Tu\", self.gatunek, \". Rozpocząłem polowanie\")\n",
    "\n",
    "    @abstractmethod\n",
    "    def speek(self):\n",
    "        pass\n",
    "\n",
    "class Eagle (Bird):\n",
    "\n",
    "    def __init__ (self, speed):\n",
    "        super().__init__(\"orzeł\", speed)\n",
    "\n",
    "    def speek(self):\n",
    "        print (\"wrrrr\")\n",
    "\n",
    "class Penguin (Bird):\n",
    "\n",
    "    def __init__(self, speed):\n",
    "        super().__init__(\"pingwin\", speed)\n",
    "\n",
    "    def swim(self):\n",
    "        print (\"Tu\", self.gatunek, \". Rozpocząłem pływanie\")\n",
    "\n",
    "    def fly(self):\n",
    "        print (\"Tu\", self.gatunek, \". Przykro mi, ale nie latam\")\n",
    "\n",
    "    def hunt(self):\n",
    "        print (\"Tu\", self.gatunek, \". Ja tylko łapie rybki\")\n",
    "\n",
    "    def speek(self):\n",
    "        print (\"kwiiiii\")\n"
   ],
   "metadata": {
    "collapsed": false,
    "pycharm": {
     "name": "#%%\n"
    }
   }
  },
  {
   "cell_type": "code",
   "execution_count": 11,
   "outputs": [
    {
     "name": "stdout",
     "output_type": "stream",
     "text": [
      "Tu orzeł . Startuje, i zaraz osiągne prędkość 50\n",
      "Tu pingwin . Przykro mi, ale nie latam\n",
      "\n",
      "Tu orzeł . Rozpocząłem polowanie\n",
      "Tu pingwin . Ja tylko łapie rybki\n",
      "Tu pingwin . Rozpocząłem pływanie\n",
      "\n",
      "kwiiiii\n",
      "wrrrr\n"
     ]
    }
   ],
   "source": [
    "o = Eagle(50)\n",
    "p = Penguin(30)\n",
    "\n",
    "o.fly()\n",
    "p.fly()\n",
    "print()\n",
    "o.hunt()\n",
    "p.hunt()\n",
    "p.swim()\n",
    "print()\n",
    "p.speek()\n",
    "o.speek()\n",
    "\n",
    "#s = sowa(40)"
   ],
   "metadata": {
    "collapsed": false,
    "pycharm": {
     "name": "#%%\n"
    }
   }
  },
  {
   "cell_type": "code",
   "execution_count": 12,
   "outputs": [
    {
     "name": "stdout",
     "output_type": "stream",
     "text": [
      "Tu sowa . Startuje, i zaraz osiągne prędkość 40\n",
      "hu hu hu\n"
     ]
    }
   ],
   "source": [
    "class Owl (Bird) :\n",
    "\n",
    "    def __init__(self, speed) :\n",
    "        super().__init__(\"sowa\", speed)\n",
    "\n",
    "    def speek(self):\n",
    "        print (\"hu hu hu\")\n",
    "\n",
    "s = Owl(40)\n",
    "s.fly()\n",
    "s.speek()\n"
   ],
   "metadata": {
    "collapsed": false,
    "pycharm": {
     "name": "#%%\n"
    }
   }
  },
  {
   "cell_type": "code",
   "execution_count": 16,
   "outputs": [
    {
     "name": "stdout",
     "output_type": "stream",
     "text": [
      "Budynek  szkoła  nie jest pusty\n"
     ]
    }
   ],
   "source": [
    "#Należy utworzyć, klasę 'budynek', która posiada funkcję\n",
    "# wejścia do budynku przez osobę,\n",
    "# wyjścia z budynku pojedynczej osoby oraz\n",
    "# sprawdzenia czy budynek jest pusty.\n",
    "# Nie ma natomiast możliwości sprawdzenia ile osób się w nim znajduje.\n",
    "\n",
    "class Building:\n",
    "    name =\"\"\n",
    "    __number_of_people_inside = 0\n",
    "    def __init__(self, name):\n",
    "        self.name = name\n",
    "\n",
    "    def go_in(self, num) :\n",
    "        self.__number_of_people_inside +=num\n",
    "\n",
    "    def go_aut(self, num):\n",
    "        self.__number_of_people_inside -=num\n",
    "\n",
    "    def is_empty(self):\n",
    "        if self.__number_of_people_inside == 0 : print(\"Budynek \", self.name, \" jest pusty\")\n",
    "        else :  print(\"Budynek \", self.name, \" nie jest pusty\")\n",
    "\n",
    "b = Building(\"szkoła\")\n",
    "b.go_in(1)\n",
    "b.go_in(12)\n",
    "b.go_aut(4)\n",
    "b.is_empty()\n"
   ],
   "metadata": {
    "collapsed": false,
    "pycharm": {
     "name": "#%%\n"
    }
   }
  }
 ],
 "metadata": {
  "kernelspec": {
   "display_name": "Python 3",
   "language": "python",
   "name": "python3"
  },
  "language_info": {
   "codemirror_mode": {
    "name": "ipython",
    "version": 2
   },
   "file_extension": ".py",
   "mimetype": "text/x-python",
   "name": "python",
   "nbconvert_exporter": "python",
   "pygments_lexer": "ipython2",
   "version": "2.7.6"
  }
 },
 "nbformat": 4,
 "nbformat_minor": 0
}