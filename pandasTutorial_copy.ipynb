{
 "cells": [
  {
   "cell_type": "markdown",
   "metadata": {
    "pycharm": {
     "name": "#%% md\n"
    }
   },
   "source": [
    "## Pandas Tutorial\n",
    " for beginers form: https://analityk.edu.pl/python-pandas-mega-tutorial/"
   ]
  },
  {
   "cell_type": "code",
   "execution_count": 1,
   "metadata": {
    "collapsed": true
   },
   "outputs": [],
   "source": [
    "import os\n",
    "import pandas as pd"
   ]
  },
  {
   "cell_type": "code",
   "execution_count": 2,
   "metadata": {
    "pycharm": {
     "name": "#%%\n"
    }
   },
   "outputs": [
    {
     "name": "stdout",
     "output_type": "stream",
     "text": [
      "   One  Two  Three  Four\n",
      "0    1    2      5     7\n",
      "1   11   22     55    77\n"
     ]
    }
   ],
   "source": [
    "lista = [[1,2,5,7],[11,22,55,77]]\n",
    "df = pd.DataFrame(lista)\n",
    "df.columns = ['One', 'Two', 'Three', 'Four']\n",
    "print(df)"
   ]
  },
  {
   "cell_type": "code",
   "execution_count": 3,
   "metadata": {
    "pycharm": {
     "name": "#%%\n"
    }
   },
   "outputs": [
    {
     "name": "stdout",
     "output_type": "stream",
     "text": [
      "      Imie  Wiek\n",
      "0     Ania    18\n",
      "1   Michał    25\n",
      "2  Przemek    40\n"
     ]
    }
   ],
   "source": [
    "slownik = {'Imie':['Ania','Michał','Przemek'], 'Wiek':[18,25,40]}\n",
    "print ( pd.DataFrame(slownik) )"
   ]
  },
  {
   "cell_type": "code",
   "execution_count": 4,
   "metadata": {
    "pycharm": {
     "name": "#%%\n"
    }
   },
   "outputs": [
    {
     "name": "stdout",
     "output_type": "stream",
     "text": [
      "0    11\n",
      "1    33\n",
      "2    55\n",
      "3    99\n",
      "dtype: int64\n"
     ]
    }
   ],
   "source": [
    "s = pd.Series([11,33,55,99])\n",
    "print(s)"
   ]
  },
  {
   "cell_type": "code",
   "execution_count": 5,
   "metadata": {
    "pycharm": {
     "name": "#%%\n"
    }
   },
   "outputs": [
    {
     "data": {
      "text/plain": "'\\nhttps://pypi.org/project/pandas-ods-reader/\\n\\nfrom pandas_ods_reader import read_ods\\n\\npath = \"path/to/file.ods\"\\n\\n# load a sheet based on its index (1 based)\\nsheet_idx = 1\\ndf = read_ods(path, sheet_idx)\\n\\n# load a sheet based on its name\\nsheet_name = \"sheet1\"\\ndf = read_ods(path, sheet_name)\\n\\n# load a file that does not contain a header row\\n# if no columns are provided, they will be numbered\\ndf = read_ods(path, 1, headers=False)\\n\\n# load a file and provide custom column names\\n# if headers is True (the default), the header row will be overwritten\\ndf = read_ods(path, 1, columns=[\"A\", \"B\", \"C\"])\\n'"
     },
     "execution_count": 5,
     "metadata": {},
     "output_type": "execute_result"
    }
   ],
   "source": [
    "# pandas_ods_reader\n",
    "#\n",
    "# Provides a function to read in an ODS file and returns a pandas DataFrame.\n",
    "#\n",
    "# It uses ezodf to read in the ods file. If a range is specified in the sheet to be imported, it seems that ezodf imports empty cells as well. Therefore, completely empty rows and columns are dropped from the DataFrame, before it is returned. Only trailing empty rows and columns are dropped.\n",
    "#\n",
    "# If the ODS file contains duplicated column names, they will be numbered and the number is appended to the column name in the resulting DataFrame.\n",
    "# Dependencies\n",
    "#\n",
    "#     ezodf\n",
    "#     lxml\n",
    "#     pandas\n",
    "#\n",
    "# Installation\n",
    "#\n",
    "# pip install pandas_ods_reader\n",
    "#\n",
    "\n",
    "# In[5]:\n",
    "\n",
    "\n",
    "'''\n",
    "https://pypi.org/project/pandas-ods-reader/\n",
    "\n",
    "from pandas_ods_reader import read_ods\n",
    "\n",
    "path = \"path/to/file.ods\"\n",
    "\n",
    "# load a sheet based on its index (1 based)\n",
    "sheet_idx = 1\n",
    "df = read_ods(path, sheet_idx)\n",
    "\n",
    "# load a sheet based on its name\n",
    "sheet_name = \"sheet1\"\n",
    "df = read_ods(path, sheet_name)\n",
    "\n",
    "# load a file that does not contain a header row\n",
    "# if no columns are provided, they will be numbered\n",
    "df = read_ods(path, 1, headers=False)\n",
    "\n",
    "# load a file and provide custom column names\n",
    "# if headers is True (the default), the header row will be overwritten\n",
    "df = read_ods(path, 1, columns=[\"A\", \"B\", \"C\"])\n",
    "'''"
   ]
  },
  {
   "cell_type": "code",
   "execution_count": 6,
   "metadata": {
    "pycharm": {
     "name": "#%%\n"
    }
   },
   "outputs": [
    {
     "name": "stdout",
     "output_type": "stream",
     "text": [
      "['Dane']\n"
     ]
    },
    {
     "data": {
      "text/plain": "       Imię               Nazwisko  Wiek       Płeć    Miasto\n0    MIchał                  Rogal  42.0  Mężczyzna  Warszawa\n1     Tomek                 Pierog   NaN  Mężczyzna    Kraków\n2       Ewa                   None  25.0    kobieta      None\n3      Ania               Śmietana  30.0    Kobieta  Warszawa\n4     Kasia                Gwiazda  27.0    Kobieta   Ostróda\n5   Mateusz                   Noga   NaN  Mężczyzna  Zakopane\n6  Patrycja                 Maruda  18.0    Kobieta    Poznań\n7      Adaś                 Dziura  53.0  Mężczyzna  Warszawa\n8      Emil  Brzęszczyszczykiewicz  21.0  Mężczyzna    Kraków",
      "text/html": "<div>\n<style scoped>\n    .dataframe tbody tr th:only-of-type {\n        vertical-align: middle;\n    }\n\n    .dataframe tbody tr th {\n        vertical-align: top;\n    }\n\n    .dataframe thead th {\n        text-align: right;\n    }\n</style>\n<table border=\"1\" class=\"dataframe\">\n  <thead>\n    <tr style=\"text-align: right;\">\n      <th></th>\n      <th>Imię</th>\n      <th>Nazwisko</th>\n      <th>Wiek</th>\n      <th>Płeć</th>\n      <th>Miasto</th>\n    </tr>\n  </thead>\n  <tbody>\n    <tr>\n      <th>0</th>\n      <td>MIchał</td>\n      <td>Rogal</td>\n      <td>42.0</td>\n      <td>Mężczyzna</td>\n      <td>Warszawa</td>\n    </tr>\n    <tr>\n      <th>1</th>\n      <td>Tomek</td>\n      <td>Pierog</td>\n      <td>NaN</td>\n      <td>Mężczyzna</td>\n      <td>Kraków</td>\n    </tr>\n    <tr>\n      <th>2</th>\n      <td>Ewa</td>\n      <td>None</td>\n      <td>25.0</td>\n      <td>kobieta</td>\n      <td>None</td>\n    </tr>\n    <tr>\n      <th>3</th>\n      <td>Ania</td>\n      <td>Śmietana</td>\n      <td>30.0</td>\n      <td>Kobieta</td>\n      <td>Warszawa</td>\n    </tr>\n    <tr>\n      <th>4</th>\n      <td>Kasia</td>\n      <td>Gwiazda</td>\n      <td>27.0</td>\n      <td>Kobieta</td>\n      <td>Ostróda</td>\n    </tr>\n    <tr>\n      <th>5</th>\n      <td>Mateusz</td>\n      <td>Noga</td>\n      <td>NaN</td>\n      <td>Mężczyzna</td>\n      <td>Zakopane</td>\n    </tr>\n    <tr>\n      <th>6</th>\n      <td>Patrycja</td>\n      <td>Maruda</td>\n      <td>18.0</td>\n      <td>Kobieta</td>\n      <td>Poznań</td>\n    </tr>\n    <tr>\n      <th>7</th>\n      <td>Adaś</td>\n      <td>Dziura</td>\n      <td>53.0</td>\n      <td>Mężczyzna</td>\n      <td>Warszawa</td>\n    </tr>\n    <tr>\n      <th>8</th>\n      <td>Emil</td>\n      <td>Brzęszczyszczykiewicz</td>\n      <td>21.0</td>\n      <td>Mężczyzna</td>\n      <td>Kraków</td>\n    </tr>\n  </tbody>\n</table>\n</div>"
     },
     "execution_count": 6,
     "metadata": {},
     "output_type": "execute_result"
    }
   ],
   "source": [
    "data_path = ['Dane']\n",
    "print (data_path)\n",
    "\n",
    "from pandas_ods_reader import read_ods\n",
    "filepath2 = os.sep.join(data_path + ['imiona.ods'])\n",
    "df_ods = read_ods(filepath2, 1)\n",
    "df_ods"
   ]
  },
  {
   "cell_type": "code",
   "execution_count": 7,
   "metadata": {
    "pycharm": {
     "name": "#%%\n"
    }
   },
   "outputs": [
    {
     "name": "stdout",
     "output_type": "stream",
     "text": [
      "Dane/imiona.xls\n"
     ]
    },
    {
     "data": {
      "text/plain": "       Imię               Nazwisko  Wiek       Płeć    Miasto\n0    MIchał                  Rogal  42.0  Mężczyzna  Warszawa\n1     Tomek                 Pierog   NaN  Mężczyzna    Kraków\n2       Ewa                    NaN  25.0    kobieta       NaN\n3      Ania               Śmietana  30.0    Kobieta  Warszawa\n4     Kasia                Gwiazda  27.0    Kobieta   Ostróda\n5   Mateusz                   Noga   NaN  Mężczyzna  Zakopane\n6  Patrycja                 Maruda  18.0    Kobieta    Poznań\n7      Adaś                 Dziura  53.0  Mężczyzna  Warszawa\n8      Emil  Brzęszczyszczykiewicz  21.0  Mężczyzna    Kraków",
      "text/html": "<div>\n<style scoped>\n    .dataframe tbody tr th:only-of-type {\n        vertical-align: middle;\n    }\n\n    .dataframe tbody tr th {\n        vertical-align: top;\n    }\n\n    .dataframe thead th {\n        text-align: right;\n    }\n</style>\n<table border=\"1\" class=\"dataframe\">\n  <thead>\n    <tr style=\"text-align: right;\">\n      <th></th>\n      <th>Imię</th>\n      <th>Nazwisko</th>\n      <th>Wiek</th>\n      <th>Płeć</th>\n      <th>Miasto</th>\n    </tr>\n  </thead>\n  <tbody>\n    <tr>\n      <th>0</th>\n      <td>MIchał</td>\n      <td>Rogal</td>\n      <td>42.0</td>\n      <td>Mężczyzna</td>\n      <td>Warszawa</td>\n    </tr>\n    <tr>\n      <th>1</th>\n      <td>Tomek</td>\n      <td>Pierog</td>\n      <td>NaN</td>\n      <td>Mężczyzna</td>\n      <td>Kraków</td>\n    </tr>\n    <tr>\n      <th>2</th>\n      <td>Ewa</td>\n      <td>NaN</td>\n      <td>25.0</td>\n      <td>kobieta</td>\n      <td>NaN</td>\n    </tr>\n    <tr>\n      <th>3</th>\n      <td>Ania</td>\n      <td>Śmietana</td>\n      <td>30.0</td>\n      <td>Kobieta</td>\n      <td>Warszawa</td>\n    </tr>\n    <tr>\n      <th>4</th>\n      <td>Kasia</td>\n      <td>Gwiazda</td>\n      <td>27.0</td>\n      <td>Kobieta</td>\n      <td>Ostróda</td>\n    </tr>\n    <tr>\n      <th>5</th>\n      <td>Mateusz</td>\n      <td>Noga</td>\n      <td>NaN</td>\n      <td>Mężczyzna</td>\n      <td>Zakopane</td>\n    </tr>\n    <tr>\n      <th>6</th>\n      <td>Patrycja</td>\n      <td>Maruda</td>\n      <td>18.0</td>\n      <td>Kobieta</td>\n      <td>Poznań</td>\n    </tr>\n    <tr>\n      <th>7</th>\n      <td>Adaś</td>\n      <td>Dziura</td>\n      <td>53.0</td>\n      <td>Mężczyzna</td>\n      <td>Warszawa</td>\n    </tr>\n    <tr>\n      <th>8</th>\n      <td>Emil</td>\n      <td>Brzęszczyszczykiewicz</td>\n      <td>21.0</td>\n      <td>Mężczyzna</td>\n      <td>Kraków</td>\n    </tr>\n  </tbody>\n</table>\n</div>"
     },
     "execution_count": 7,
     "metadata": {},
     "output_type": "execute_result"
    }
   ],
   "source": [
    "filepath1 = os.sep.join(data_path + ['imiona.xls'])\n",
    "print(filepath1)\n",
    "df_xls = pd.read_excel(filepath1)\n",
    "df_xls"
   ]
  },
  {
   "cell_type": "code",
   "execution_count": 8,
   "metadata": {
    "pycharm": {
     "name": "#%%\n"
    }
   },
   "outputs": [
    {
     "data": {
      "text/plain": "       Imię               Nazwisko  Wynik\n0    MIchał                  Rogal     77\n1     Tomek                 Pierog     32\n2       Ewa                    NaN     90\n3      Ania               Śmietana     83\n4     Kasia                Gwiazda     30\n5   Mateusz                   Noga    102\n6  Patrycja                 Maruda    202\n7      Adaś                 Dziura     16\n8      Emil  Brzęszczyszczykiewicz    100",
      "text/html": "<div>\n<style scoped>\n    .dataframe tbody tr th:only-of-type {\n        vertical-align: middle;\n    }\n\n    .dataframe tbody tr th {\n        vertical-align: top;\n    }\n\n    .dataframe thead th {\n        text-align: right;\n    }\n</style>\n<table border=\"1\" class=\"dataframe\">\n  <thead>\n    <tr style=\"text-align: right;\">\n      <th></th>\n      <th>Imię</th>\n      <th>Nazwisko</th>\n      <th>Wynik</th>\n    </tr>\n  </thead>\n  <tbody>\n    <tr>\n      <th>0</th>\n      <td>MIchał</td>\n      <td>Rogal</td>\n      <td>77</td>\n    </tr>\n    <tr>\n      <th>1</th>\n      <td>Tomek</td>\n      <td>Pierog</td>\n      <td>32</td>\n    </tr>\n    <tr>\n      <th>2</th>\n      <td>Ewa</td>\n      <td>NaN</td>\n      <td>90</td>\n    </tr>\n    <tr>\n      <th>3</th>\n      <td>Ania</td>\n      <td>Śmietana</td>\n      <td>83</td>\n    </tr>\n    <tr>\n      <th>4</th>\n      <td>Kasia</td>\n      <td>Gwiazda</td>\n      <td>30</td>\n    </tr>\n    <tr>\n      <th>5</th>\n      <td>Mateusz</td>\n      <td>Noga</td>\n      <td>102</td>\n    </tr>\n    <tr>\n      <th>6</th>\n      <td>Patrycja</td>\n      <td>Maruda</td>\n      <td>202</td>\n    </tr>\n    <tr>\n      <th>7</th>\n      <td>Adaś</td>\n      <td>Dziura</td>\n      <td>16</td>\n    </tr>\n    <tr>\n      <th>8</th>\n      <td>Emil</td>\n      <td>Brzęszczyszczykiewicz</td>\n      <td>100</td>\n    </tr>\n  </tbody>\n</table>\n</div>"
     },
     "execution_count": 8,
     "metadata": {},
     "output_type": "execute_result"
    }
   ],
   "source": [
    "pd.read_excel(filepath1, sheet_name='Wynik', header=1)"
   ]
  },
  {
   "cell_type": "code",
   "execution_count": 9,
   "metadata": {
    "pycharm": {
     "name": "#%%\n"
    }
   },
   "outputs": [
    {
     "data": {
      "text/plain": "       Imię               Nazwisko  Wynik\n0    MIchał                  Rogal     77\n1     Tomek                 Pierog     32\n2       Ewa                    NaN     90\n3      Ania               Śmietana     83\n4     Kasia                Gwiazda     30\n5   Mateusz                   Noga    102\n6  Patrycja                 Maruda    202\n7      Adaś                 Dziura     16\n8      Emil  Brzęszczyszczykiewicz    100",
      "text/html": "<div>\n<style scoped>\n    .dataframe tbody tr th:only-of-type {\n        vertical-align: middle;\n    }\n\n    .dataframe tbody tr th {\n        vertical-align: top;\n    }\n\n    .dataframe thead th {\n        text-align: right;\n    }\n</style>\n<table border=\"1\" class=\"dataframe\">\n  <thead>\n    <tr style=\"text-align: right;\">\n      <th></th>\n      <th>Imię</th>\n      <th>Nazwisko</th>\n      <th>Wynik</th>\n    </tr>\n  </thead>\n  <tbody>\n    <tr>\n      <th>0</th>\n      <td>MIchał</td>\n      <td>Rogal</td>\n      <td>77</td>\n    </tr>\n    <tr>\n      <th>1</th>\n      <td>Tomek</td>\n      <td>Pierog</td>\n      <td>32</td>\n    </tr>\n    <tr>\n      <th>2</th>\n      <td>Ewa</td>\n      <td>NaN</td>\n      <td>90</td>\n    </tr>\n    <tr>\n      <th>3</th>\n      <td>Ania</td>\n      <td>Śmietana</td>\n      <td>83</td>\n    </tr>\n    <tr>\n      <th>4</th>\n      <td>Kasia</td>\n      <td>Gwiazda</td>\n      <td>30</td>\n    </tr>\n    <tr>\n      <th>5</th>\n      <td>Mateusz</td>\n      <td>Noga</td>\n      <td>102</td>\n    </tr>\n    <tr>\n      <th>6</th>\n      <td>Patrycja</td>\n      <td>Maruda</td>\n      <td>202</td>\n    </tr>\n    <tr>\n      <th>7</th>\n      <td>Adaś</td>\n      <td>Dziura</td>\n      <td>16</td>\n    </tr>\n    <tr>\n      <th>8</th>\n      <td>Emil</td>\n      <td>Brzęszczyszczykiewicz</td>\n      <td>100</td>\n    </tr>\n  </tbody>\n</table>\n</div>"
     },
     "execution_count": 9,
     "metadata": {},
     "output_type": "execute_result"
    }
   ],
   "source": [
    "pd.read_excel(filepath1, sheet_name='Wynik2',header=None, names=['Imię', 'Nazwisko', 'Wynik'])"
   ]
  },
  {
   "cell_type": "code",
   "execution_count": 10,
   "metadata": {
    "pycharm": {
     "name": "#%%\n"
    }
   },
   "outputs": [
    {
     "data": {
      "text/plain": "       region             1            2             3         4          5\n0      Alaska   Beetlejuice  Black Widow        Rabbit     Ninja    Pokemon\n1     Alabama  Harley Quinn        Witch        Cowboy    Rabbit  Star Wars\n2    Arkansas          Doll        Purge  Harley Quinn     1980s      Witch\n3     Arizona        Rabbit        Witch         Ninja     Angel   Dinosaur\n4  California         Witch        Clown        Rabbit  Fortnite   Dinosaur",
      "text/html": "<div>\n<style scoped>\n    .dataframe tbody tr th:only-of-type {\n        vertical-align: middle;\n    }\n\n    .dataframe tbody tr th {\n        vertical-align: top;\n    }\n\n    .dataframe thead th {\n        text-align: right;\n    }\n</style>\n<table border=\"1\" class=\"dataframe\">\n  <thead>\n    <tr style=\"text-align: right;\">\n      <th></th>\n      <th>region</th>\n      <th>1</th>\n      <th>2</th>\n      <th>3</th>\n      <th>4</th>\n      <th>5</th>\n    </tr>\n  </thead>\n  <tbody>\n    <tr>\n      <th>0</th>\n      <td>Alaska</td>\n      <td>Beetlejuice</td>\n      <td>Black Widow</td>\n      <td>Rabbit</td>\n      <td>Ninja</td>\n      <td>Pokemon</td>\n    </tr>\n    <tr>\n      <th>1</th>\n      <td>Alabama</td>\n      <td>Harley Quinn</td>\n      <td>Witch</td>\n      <td>Cowboy</td>\n      <td>Rabbit</td>\n      <td>Star Wars</td>\n    </tr>\n    <tr>\n      <th>2</th>\n      <td>Arkansas</td>\n      <td>Doll</td>\n      <td>Purge</td>\n      <td>Harley Quinn</td>\n      <td>1980s</td>\n      <td>Witch</td>\n    </tr>\n    <tr>\n      <th>3</th>\n      <td>Arizona</td>\n      <td>Rabbit</td>\n      <td>Witch</td>\n      <td>Ninja</td>\n      <td>Angel</td>\n      <td>Dinosaur</td>\n    </tr>\n    <tr>\n      <th>4</th>\n      <td>California</td>\n      <td>Witch</td>\n      <td>Clown</td>\n      <td>Rabbit</td>\n      <td>Fortnite</td>\n      <td>Dinosaur</td>\n    </tr>\n  </tbody>\n</table>\n</div>"
     },
     "execution_count": 10,
     "metadata": {},
     "output_type": "execute_result"
    }
   ],
   "source": [
    "kostium = pd.read_csv('https://analityk.edu.pl/wp-content/uploads/2020/12/Halloween.csv', header=2)\n",
    "kostium.head()"
   ]
  },
  {
   "cell_type": "code",
   "execution_count": 11,
   "metadata": {
    "pycharm": {
     "name": "#%%\n"
    }
   },
   "outputs": [
    {
     "data": {
      "text/plain": "       region             1            2             3         4          5\n0      Alaska   Beetlejuice  Black Widow        Rabbit     Ninja    Pokemon\n1     Alabama  Harley Quinn        Witch        Cowboy    Rabbit  Star Wars\n2    Arkansas          Doll        Purge  Harley Quinn     1980s      Witch\n3     Arizona        Rabbit        Witch         Ninja     Angel   Dinosaur\n4  California         Witch        Clown        Rabbit  Fortnite   Dinosaur",
      "text/html": "<div>\n<style scoped>\n    .dataframe tbody tr th:only-of-type {\n        vertical-align: middle;\n    }\n\n    .dataframe tbody tr th {\n        vertical-align: top;\n    }\n\n    .dataframe thead th {\n        text-align: right;\n    }\n</style>\n<table border=\"1\" class=\"dataframe\">\n  <thead>\n    <tr style=\"text-align: right;\">\n      <th></th>\n      <th>region</th>\n      <th>1</th>\n      <th>2</th>\n      <th>3</th>\n      <th>4</th>\n      <th>5</th>\n    </tr>\n  </thead>\n  <tbody>\n    <tr>\n      <th>0</th>\n      <td>Alaska</td>\n      <td>Beetlejuice</td>\n      <td>Black Widow</td>\n      <td>Rabbit</td>\n      <td>Ninja</td>\n      <td>Pokemon</td>\n    </tr>\n    <tr>\n      <th>1</th>\n      <td>Alabama</td>\n      <td>Harley Quinn</td>\n      <td>Witch</td>\n      <td>Cowboy</td>\n      <td>Rabbit</td>\n      <td>Star Wars</td>\n    </tr>\n    <tr>\n      <th>2</th>\n      <td>Arkansas</td>\n      <td>Doll</td>\n      <td>Purge</td>\n      <td>Harley Quinn</td>\n      <td>1980s</td>\n      <td>Witch</td>\n    </tr>\n    <tr>\n      <th>3</th>\n      <td>Arizona</td>\n      <td>Rabbit</td>\n      <td>Witch</td>\n      <td>Ninja</td>\n      <td>Angel</td>\n      <td>Dinosaur</td>\n    </tr>\n    <tr>\n      <th>4</th>\n      <td>California</td>\n      <td>Witch</td>\n      <td>Clown</td>\n      <td>Rabbit</td>\n      <td>Fortnite</td>\n      <td>Dinosaur</td>\n    </tr>\n  </tbody>\n</table>\n</div>"
     },
     "execution_count": 11,
     "metadata": {},
     "output_type": "execute_result"
    }
   ],
   "source": [
    "# Pięć pierwszych wierszy\n",
    "kostium[:5]"
   ]
  },
  {
   "cell_type": "code",
   "execution_count": 12,
   "metadata": {
    "pycharm": {
     "name": "#%%\n"
    }
   },
   "outputs": [
    {
     "data": {
      "text/plain": "                 region                1\n0                Alaska      Beetlejuice\n1               Alabama     Harley Quinn\n2              Arkansas             Doll\n3               Arizona           Rabbit\n4            California            Witch\n5              Colorado         Dinosaur\n6           Connecticut  Powerpuff Girls\n7  District of Columbia          Beyonce\n8              Delaware             Doll\n9               Florida           Rabbit",
      "text/html": "<div>\n<style scoped>\n    .dataframe tbody tr th:only-of-type {\n        vertical-align: middle;\n    }\n\n    .dataframe tbody tr th {\n        vertical-align: top;\n    }\n\n    .dataframe thead th {\n        text-align: right;\n    }\n</style>\n<table border=\"1\" class=\"dataframe\">\n  <thead>\n    <tr style=\"text-align: right;\">\n      <th></th>\n      <th>region</th>\n      <th>1</th>\n    </tr>\n  </thead>\n  <tbody>\n    <tr>\n      <th>0</th>\n      <td>Alaska</td>\n      <td>Beetlejuice</td>\n    </tr>\n    <tr>\n      <th>1</th>\n      <td>Alabama</td>\n      <td>Harley Quinn</td>\n    </tr>\n    <tr>\n      <th>2</th>\n      <td>Arkansas</td>\n      <td>Doll</td>\n    </tr>\n    <tr>\n      <th>3</th>\n      <td>Arizona</td>\n      <td>Rabbit</td>\n    </tr>\n    <tr>\n      <th>4</th>\n      <td>California</td>\n      <td>Witch</td>\n    </tr>\n    <tr>\n      <th>5</th>\n      <td>Colorado</td>\n      <td>Dinosaur</td>\n    </tr>\n    <tr>\n      <th>6</th>\n      <td>Connecticut</td>\n      <td>Powerpuff Girls</td>\n    </tr>\n    <tr>\n      <th>7</th>\n      <td>District of Columbia</td>\n      <td>Beyonce</td>\n    </tr>\n    <tr>\n      <th>8</th>\n      <td>Delaware</td>\n      <td>Doll</td>\n    </tr>\n    <tr>\n      <th>9</th>\n      <td>Florida</td>\n      <td>Rabbit</td>\n    </tr>\n  </tbody>\n</table>\n</div>"
     },
     "execution_count": 12,
     "metadata": {},
     "output_type": "execute_result"
    }
   ],
   "source": [
    "# 10 pierwszych wierszy i tylko i wyłącznie kolumny region oraz '1', czyli najpopularniejszy kostium\n",
    "kostium[:10][['region','1']]"
   ]
  },
  {
   "cell_type": "code",
   "execution_count": 13,
   "metadata": {
    "pycharm": {
     "name": "#%%\n"
    }
   },
   "outputs": [
    {
     "data": {
      "text/plain": "                  region                1                2             3  \\\n0                 Alaska      Beetlejuice      Black Widow        Rabbit   \n1                Alabama     Harley Quinn            Witch        Cowboy   \n2               Arkansas             Doll            Purge  Harley Quinn   \n3                Arizona           Rabbit            Witch         Ninja   \n4             California            Witch            Clown        Rabbit   \n5               Colorado         Dinosaur            Witch          Bear   \n6            Connecticut  Powerpuff Girls            Angel         Mulan   \n7   District of Columbia          Beyonce  Powerpuff Girls           NaN   \n8               Delaware             Doll         Princess      Dinosaur   \n9                Florida           Rabbit           Pirate         Angel   \n10               Georgia            Witch            Ninja        Pirate   \n\n               4               5  \n0          Ninja         Pokemon  \n1         Rabbit       Star Wars  \n2          1980s           Witch  \n3          Angel        Dinosaur  \n4       Fortnite        Dinosaur  \n5   Harley Quinn           Clown  \n6          Witch  Buzz Lightyear  \n7          Luigi        Catwoman  \n8         Cowboy    Ghostbusters  \n9       Dinosaur    Harley Quinn  \n10      Dinosaur    Harley Quinn  ",
      "text/html": "<div>\n<style scoped>\n    .dataframe tbody tr th:only-of-type {\n        vertical-align: middle;\n    }\n\n    .dataframe tbody tr th {\n        vertical-align: top;\n    }\n\n    .dataframe thead th {\n        text-align: right;\n    }\n</style>\n<table border=\"1\" class=\"dataframe\">\n  <thead>\n    <tr style=\"text-align: right;\">\n      <th></th>\n      <th>region</th>\n      <th>1</th>\n      <th>2</th>\n      <th>3</th>\n      <th>4</th>\n      <th>5</th>\n    </tr>\n  </thead>\n  <tbody>\n    <tr>\n      <th>0</th>\n      <td>Alaska</td>\n      <td>Beetlejuice</td>\n      <td>Black Widow</td>\n      <td>Rabbit</td>\n      <td>Ninja</td>\n      <td>Pokemon</td>\n    </tr>\n    <tr>\n      <th>1</th>\n      <td>Alabama</td>\n      <td>Harley Quinn</td>\n      <td>Witch</td>\n      <td>Cowboy</td>\n      <td>Rabbit</td>\n      <td>Star Wars</td>\n    </tr>\n    <tr>\n      <th>2</th>\n      <td>Arkansas</td>\n      <td>Doll</td>\n      <td>Purge</td>\n      <td>Harley Quinn</td>\n      <td>1980s</td>\n      <td>Witch</td>\n    </tr>\n    <tr>\n      <th>3</th>\n      <td>Arizona</td>\n      <td>Rabbit</td>\n      <td>Witch</td>\n      <td>Ninja</td>\n      <td>Angel</td>\n      <td>Dinosaur</td>\n    </tr>\n    <tr>\n      <th>4</th>\n      <td>California</td>\n      <td>Witch</td>\n      <td>Clown</td>\n      <td>Rabbit</td>\n      <td>Fortnite</td>\n      <td>Dinosaur</td>\n    </tr>\n    <tr>\n      <th>5</th>\n      <td>Colorado</td>\n      <td>Dinosaur</td>\n      <td>Witch</td>\n      <td>Bear</td>\n      <td>Harley Quinn</td>\n      <td>Clown</td>\n    </tr>\n    <tr>\n      <th>6</th>\n      <td>Connecticut</td>\n      <td>Powerpuff Girls</td>\n      <td>Angel</td>\n      <td>Mulan</td>\n      <td>Witch</td>\n      <td>Buzz Lightyear</td>\n    </tr>\n    <tr>\n      <th>7</th>\n      <td>District of Columbia</td>\n      <td>Beyonce</td>\n      <td>Powerpuff Girls</td>\n      <td>NaN</td>\n      <td>Luigi</td>\n      <td>Catwoman</td>\n    </tr>\n    <tr>\n      <th>8</th>\n      <td>Delaware</td>\n      <td>Doll</td>\n      <td>Princess</td>\n      <td>Dinosaur</td>\n      <td>Cowboy</td>\n      <td>Ghostbusters</td>\n    </tr>\n    <tr>\n      <th>9</th>\n      <td>Florida</td>\n      <td>Rabbit</td>\n      <td>Pirate</td>\n      <td>Angel</td>\n      <td>Dinosaur</td>\n      <td>Harley Quinn</td>\n    </tr>\n    <tr>\n      <th>10</th>\n      <td>Georgia</td>\n      <td>Witch</td>\n      <td>Ninja</td>\n      <td>Pirate</td>\n      <td>Dinosaur</td>\n      <td>Harley Quinn</td>\n    </tr>\n  </tbody>\n</table>\n</div>"
     },
     "execution_count": 13,
     "metadata": {},
     "output_type": "execute_result"
    }
   ],
   "source": [
    "kostium.loc[:10]"
   ]
  },
  {
   "cell_type": "code",
   "execution_count": 14,
   "metadata": {
    "pycharm": {
     "name": "#%%\n"
    }
   },
   "outputs": [
    {
     "data": {
      "text/plain": "                       1            2             3         4          5\nregion                                                                  \nAlaska       Beetlejuice  Black Widow        Rabbit     Ninja    Pokemon\nAlabama     Harley Quinn        Witch        Cowboy    Rabbit  Star Wars\nArkansas            Doll        Purge  Harley Quinn     1980s      Witch\nArizona           Rabbit        Witch         Ninja     Angel   Dinosaur\nCalifornia         Witch        Clown        Rabbit  Fortnite   Dinosaur",
      "text/html": "<div>\n<style scoped>\n    .dataframe tbody tr th:only-of-type {\n        vertical-align: middle;\n    }\n\n    .dataframe tbody tr th {\n        vertical-align: top;\n    }\n\n    .dataframe thead th {\n        text-align: right;\n    }\n</style>\n<table border=\"1\" class=\"dataframe\">\n  <thead>\n    <tr style=\"text-align: right;\">\n      <th></th>\n      <th>1</th>\n      <th>2</th>\n      <th>3</th>\n      <th>4</th>\n      <th>5</th>\n    </tr>\n    <tr>\n      <th>region</th>\n      <th></th>\n      <th></th>\n      <th></th>\n      <th></th>\n      <th></th>\n    </tr>\n  </thead>\n  <tbody>\n    <tr>\n      <th>Alaska</th>\n      <td>Beetlejuice</td>\n      <td>Black Widow</td>\n      <td>Rabbit</td>\n      <td>Ninja</td>\n      <td>Pokemon</td>\n    </tr>\n    <tr>\n      <th>Alabama</th>\n      <td>Harley Quinn</td>\n      <td>Witch</td>\n      <td>Cowboy</td>\n      <td>Rabbit</td>\n      <td>Star Wars</td>\n    </tr>\n    <tr>\n      <th>Arkansas</th>\n      <td>Doll</td>\n      <td>Purge</td>\n      <td>Harley Quinn</td>\n      <td>1980s</td>\n      <td>Witch</td>\n    </tr>\n    <tr>\n      <th>Arizona</th>\n      <td>Rabbit</td>\n      <td>Witch</td>\n      <td>Ninja</td>\n      <td>Angel</td>\n      <td>Dinosaur</td>\n    </tr>\n    <tr>\n      <th>California</th>\n      <td>Witch</td>\n      <td>Clown</td>\n      <td>Rabbit</td>\n      <td>Fortnite</td>\n      <td>Dinosaur</td>\n    </tr>\n  </tbody>\n</table>\n</div>"
     },
     "execution_count": 14,
     "metadata": {},
     "output_type": "execute_result"
    }
   ],
   "source": [
    "kostium.set_index('region', inplace=True)\n",
    "kostium.head()"
   ]
  },
  {
   "cell_type": "code",
   "execution_count": 15,
   "metadata": {
    "pycharm": {
     "name": "#%%\n"
    }
   },
   "outputs": [
    {
     "data": {
      "text/plain": "1      Rabbit\n2       Witch\n3       Ninja\n4       Angel\n5    Dinosaur\nName: Arizona, dtype: object"
     },
     "execution_count": 15,
     "metadata": {},
     "output_type": "execute_result"
    }
   ],
   "source": [
    "kostium.loc['Arizona']"
   ]
  },
  {
   "cell_type": "code",
   "execution_count": 16,
   "metadata": {
    "pycharm": {
     "name": "#%%\n"
    }
   },
   "outputs": [
    {
     "data": {
      "text/plain": "'Ninja'"
     },
     "execution_count": 16,
     "metadata": {},
     "output_type": "execute_result"
    }
   ],
   "source": [
    "kostium.iloc[3,2]"
   ]
  },
  {
   "cell_type": "code",
   "execution_count": 17,
   "metadata": {
    "pycharm": {
     "name": "#%%\n"
    }
   },
   "outputs": [
    {
     "name": "stdout",
     "output_type": "stream",
     "text": [
      "Arizona\n",
      "Florida\n",
      "Michigan\n",
      "Virginia\n"
     ]
    }
   ],
   "source": [
    "kostium.reset_index(inplace=True)\n",
    "for index, zawartosc in kostium.iterrows():\n",
    "    if zawartosc['1'] == 'Rabbit':\n",
    "        print(zawartosc['region'])"
   ]
  },
  {
   "cell_type": "code",
   "execution_count": 18,
   "metadata": {
    "pycharm": {
     "name": "#%%\n"
    }
   },
   "outputs": [
    {
     "data": {
      "text/plain": "0     False\n1     False\n2     False\n3      True\n4     False\n5     False\n6     False\n7     False\n8     False\n9      True\n10    False\n11    False\n12    False\n13    False\n14    False\n15    False\n16    False\n17    False\n18    False\n19    False\n20    False\n21    False\n22     True\n23    False\n24    False\n25    False\n26    False\n27    False\n28    False\n29    False\n30    False\n31    False\n32    False\n33    False\n34    False\n35    False\n36    False\n37    False\n38    False\n39    False\n40    False\n41    False\n42    False\n43    False\n44    False\n45     True\n46    False\n47    False\n48    False\n49    False\n50    False\nName: 1, dtype: bool"
     },
     "execution_count": 18,
     "metadata": {},
     "output_type": "execute_result"
    }
   ],
   "source": [
    "kostium['1'] == 'Rabbit'"
   ]
  },
  {
   "cell_type": "code",
   "execution_count": 19,
   "metadata": {
    "pycharm": {
     "name": "#%%\n"
    }
   },
   "outputs": [
    {
     "data": {
      "text/plain": "      region       1       2             3         4             5\n3    Arizona  Rabbit   Witch         Ninja     Angel      Dinosaur\n9    Florida  Rabbit  Pirate         Angel  Dinosaur  Harley Quinn\n22  Michigan  Rabbit   Clown  Harley Quinn  Dinosaur         Witch\n45  Virginia  Rabbit   Witch  Harley Quinn  Dinosaur    Spider-Man",
      "text/html": "<div>\n<style scoped>\n    .dataframe tbody tr th:only-of-type {\n        vertical-align: middle;\n    }\n\n    .dataframe tbody tr th {\n        vertical-align: top;\n    }\n\n    .dataframe thead th {\n        text-align: right;\n    }\n</style>\n<table border=\"1\" class=\"dataframe\">\n  <thead>\n    <tr style=\"text-align: right;\">\n      <th></th>\n      <th>region</th>\n      <th>1</th>\n      <th>2</th>\n      <th>3</th>\n      <th>4</th>\n      <th>5</th>\n    </tr>\n  </thead>\n  <tbody>\n    <tr>\n      <th>3</th>\n      <td>Arizona</td>\n      <td>Rabbit</td>\n      <td>Witch</td>\n      <td>Ninja</td>\n      <td>Angel</td>\n      <td>Dinosaur</td>\n    </tr>\n    <tr>\n      <th>9</th>\n      <td>Florida</td>\n      <td>Rabbit</td>\n      <td>Pirate</td>\n      <td>Angel</td>\n      <td>Dinosaur</td>\n      <td>Harley Quinn</td>\n    </tr>\n    <tr>\n      <th>22</th>\n      <td>Michigan</td>\n      <td>Rabbit</td>\n      <td>Clown</td>\n      <td>Harley Quinn</td>\n      <td>Dinosaur</td>\n      <td>Witch</td>\n    </tr>\n    <tr>\n      <th>45</th>\n      <td>Virginia</td>\n      <td>Rabbit</td>\n      <td>Witch</td>\n      <td>Harley Quinn</td>\n      <td>Dinosaur</td>\n      <td>Spider-Man</td>\n    </tr>\n  </tbody>\n</table>\n</div>"
     },
     "execution_count": 19,
     "metadata": {},
     "output_type": "execute_result"
    }
   ],
   "source": [
    "kostium[  kostium['1'] == 'Rabbit'  ]"
   ]
  },
  {
   "cell_type": "code",
   "execution_count": 20,
   "metadata": {
    "pycharm": {
     "name": "#%%\n"
    }
   },
   "outputs": [
    {
     "data": {
      "text/plain": "            region         1       2             3             4             5\n3          Arizona    Rabbit   Witch         Ninja         Angel      Dinosaur\n5         Colorado  Dinosaur   Witch          Bear  Harley Quinn         Clown\n9          Florida    Rabbit  Pirate         Angel      Dinosaur  Harley Quinn\n14        Illinois  Dinosaur   Witch         Angel         Devil          Bear\n19   Massachusetts  Dinosaur  Rabbit      Fortnite        Zombie       Pumpkin\n21           Maine  Dinosaur   Ninja         Alien         Alien         Witch\n22        Michigan    Rabbit   Clown  Harley Quinn      Dinosaur         Witch\n24        Missouri  Dinosaur   Witch    Spider-Man         Angel        Cowboy\n27  North Carolina  Dinosaur   Witch  Harley Quinn        Rabbit         Ninja\n34        New York  Dinosaur   Angel         Witch  Harley Quinn        Rabbit\n45        Virginia    Rabbit   Witch  Harley Quinn      Dinosaur    Spider-Man",
      "text/html": "<div>\n<style scoped>\n    .dataframe tbody tr th:only-of-type {\n        vertical-align: middle;\n    }\n\n    .dataframe tbody tr th {\n        vertical-align: top;\n    }\n\n    .dataframe thead th {\n        text-align: right;\n    }\n</style>\n<table border=\"1\" class=\"dataframe\">\n  <thead>\n    <tr style=\"text-align: right;\">\n      <th></th>\n      <th>region</th>\n      <th>1</th>\n      <th>2</th>\n      <th>3</th>\n      <th>4</th>\n      <th>5</th>\n    </tr>\n  </thead>\n  <tbody>\n    <tr>\n      <th>3</th>\n      <td>Arizona</td>\n      <td>Rabbit</td>\n      <td>Witch</td>\n      <td>Ninja</td>\n      <td>Angel</td>\n      <td>Dinosaur</td>\n    </tr>\n    <tr>\n      <th>5</th>\n      <td>Colorado</td>\n      <td>Dinosaur</td>\n      <td>Witch</td>\n      <td>Bear</td>\n      <td>Harley Quinn</td>\n      <td>Clown</td>\n    </tr>\n    <tr>\n      <th>9</th>\n      <td>Florida</td>\n      <td>Rabbit</td>\n      <td>Pirate</td>\n      <td>Angel</td>\n      <td>Dinosaur</td>\n      <td>Harley Quinn</td>\n    </tr>\n    <tr>\n      <th>14</th>\n      <td>Illinois</td>\n      <td>Dinosaur</td>\n      <td>Witch</td>\n      <td>Angel</td>\n      <td>Devil</td>\n      <td>Bear</td>\n    </tr>\n    <tr>\n      <th>19</th>\n      <td>Massachusetts</td>\n      <td>Dinosaur</td>\n      <td>Rabbit</td>\n      <td>Fortnite</td>\n      <td>Zombie</td>\n      <td>Pumpkin</td>\n    </tr>\n    <tr>\n      <th>21</th>\n      <td>Maine</td>\n      <td>Dinosaur</td>\n      <td>Ninja</td>\n      <td>Alien</td>\n      <td>Alien</td>\n      <td>Witch</td>\n    </tr>\n    <tr>\n      <th>22</th>\n      <td>Michigan</td>\n      <td>Rabbit</td>\n      <td>Clown</td>\n      <td>Harley Quinn</td>\n      <td>Dinosaur</td>\n      <td>Witch</td>\n    </tr>\n    <tr>\n      <th>24</th>\n      <td>Missouri</td>\n      <td>Dinosaur</td>\n      <td>Witch</td>\n      <td>Spider-Man</td>\n      <td>Angel</td>\n      <td>Cowboy</td>\n    </tr>\n    <tr>\n      <th>27</th>\n      <td>North Carolina</td>\n      <td>Dinosaur</td>\n      <td>Witch</td>\n      <td>Harley Quinn</td>\n      <td>Rabbit</td>\n      <td>Ninja</td>\n    </tr>\n    <tr>\n      <th>34</th>\n      <td>New York</td>\n      <td>Dinosaur</td>\n      <td>Angel</td>\n      <td>Witch</td>\n      <td>Harley Quinn</td>\n      <td>Rabbit</td>\n    </tr>\n    <tr>\n      <th>45</th>\n      <td>Virginia</td>\n      <td>Rabbit</td>\n      <td>Witch</td>\n      <td>Harley Quinn</td>\n      <td>Dinosaur</td>\n      <td>Spider-Man</td>\n    </tr>\n  </tbody>\n</table>\n</div>"
     },
     "execution_count": 20,
     "metadata": {},
     "output_type": "execute_result"
    }
   ],
   "source": [
    "kostium[  (kostium['1'] == 'Rabbit') | (kostium['1'] == 'Dinosaur')  ]"
   ]
  },
  {
   "cell_type": "code",
   "execution_count": 21,
   "metadata": {
    "pycharm": {
     "name": "#%%\n"
    }
   },
   "outputs": [
    {
     "data": {
      "text/plain": "          region         1                2             3             4  \\\n4     California     Witch            Clown        Rabbit      Fortnite   \n10       Georgia     Witch            Ninja        Pirate      Dinosaur   \n13         Idaho     Witch  Bride Of Chucky         Ninja        Dragon   \n15       Indiana     Witch             Doll         Clown         Angel   \n18     Louisiana     Witch      Cheerleader        Cowboy  Harley Quinn   \n21         Maine  Dinosaur            Ninja         Alien         Alien   \n23     Minnesota     Witch           Rabbit      Dinosaur         Angel   \n31    New Jersey     Witch            Angel       Pumpkin         Ninja   \n33        Nevada     Witch       Spider-Man         Devil            It   \n35          Ohio     Witch         Dinosaur  Harley Quinn         Angel   \n38  Pennsylvania     Witch         Dinosaur  Harley Quinn         Devil   \n44          Utah     Witch           Rabbit      Dinosaur  Monsters Inc   \n48     Wisconsin     Witch            Clown       Unicorn         Devil   \n\n                  5  \n4          Dinosaur  \n10     Harley Quinn  \n13            1990s  \n15       Spider-Man  \n18  Powerpuff Girls  \n21            Witch  \n23            Devil  \n31       Spider-Man  \n33            Fairy  \n35             Bear  \n38            Ninja  \n44           Zombie  \n48         Dinosaur  ",
      "text/html": "<div>\n<style scoped>\n    .dataframe tbody tr th:only-of-type {\n        vertical-align: middle;\n    }\n\n    .dataframe tbody tr th {\n        vertical-align: top;\n    }\n\n    .dataframe thead th {\n        text-align: right;\n    }\n</style>\n<table border=\"1\" class=\"dataframe\">\n  <thead>\n    <tr style=\"text-align: right;\">\n      <th></th>\n      <th>region</th>\n      <th>1</th>\n      <th>2</th>\n      <th>3</th>\n      <th>4</th>\n      <th>5</th>\n    </tr>\n  </thead>\n  <tbody>\n    <tr>\n      <th>4</th>\n      <td>California</td>\n      <td>Witch</td>\n      <td>Clown</td>\n      <td>Rabbit</td>\n      <td>Fortnite</td>\n      <td>Dinosaur</td>\n    </tr>\n    <tr>\n      <th>10</th>\n      <td>Georgia</td>\n      <td>Witch</td>\n      <td>Ninja</td>\n      <td>Pirate</td>\n      <td>Dinosaur</td>\n      <td>Harley Quinn</td>\n    </tr>\n    <tr>\n      <th>13</th>\n      <td>Idaho</td>\n      <td>Witch</td>\n      <td>Bride Of Chucky</td>\n      <td>Ninja</td>\n      <td>Dragon</td>\n      <td>1990s</td>\n    </tr>\n    <tr>\n      <th>15</th>\n      <td>Indiana</td>\n      <td>Witch</td>\n      <td>Doll</td>\n      <td>Clown</td>\n      <td>Angel</td>\n      <td>Spider-Man</td>\n    </tr>\n    <tr>\n      <th>18</th>\n      <td>Louisiana</td>\n      <td>Witch</td>\n      <td>Cheerleader</td>\n      <td>Cowboy</td>\n      <td>Harley Quinn</td>\n      <td>Powerpuff Girls</td>\n    </tr>\n    <tr>\n      <th>21</th>\n      <td>Maine</td>\n      <td>Dinosaur</td>\n      <td>Ninja</td>\n      <td>Alien</td>\n      <td>Alien</td>\n      <td>Witch</td>\n    </tr>\n    <tr>\n      <th>23</th>\n      <td>Minnesota</td>\n      <td>Witch</td>\n      <td>Rabbit</td>\n      <td>Dinosaur</td>\n      <td>Angel</td>\n      <td>Devil</td>\n    </tr>\n    <tr>\n      <th>31</th>\n      <td>New Jersey</td>\n      <td>Witch</td>\n      <td>Angel</td>\n      <td>Pumpkin</td>\n      <td>Ninja</td>\n      <td>Spider-Man</td>\n    </tr>\n    <tr>\n      <th>33</th>\n      <td>Nevada</td>\n      <td>Witch</td>\n      <td>Spider-Man</td>\n      <td>Devil</td>\n      <td>It</td>\n      <td>Fairy</td>\n    </tr>\n    <tr>\n      <th>35</th>\n      <td>Ohio</td>\n      <td>Witch</td>\n      <td>Dinosaur</td>\n      <td>Harley Quinn</td>\n      <td>Angel</td>\n      <td>Bear</td>\n    </tr>\n    <tr>\n      <th>38</th>\n      <td>Pennsylvania</td>\n      <td>Witch</td>\n      <td>Dinosaur</td>\n      <td>Harley Quinn</td>\n      <td>Devil</td>\n      <td>Ninja</td>\n    </tr>\n    <tr>\n      <th>44</th>\n      <td>Utah</td>\n      <td>Witch</td>\n      <td>Rabbit</td>\n      <td>Dinosaur</td>\n      <td>Monsters Inc</td>\n      <td>Zombie</td>\n    </tr>\n    <tr>\n      <th>48</th>\n      <td>Wisconsin</td>\n      <td>Witch</td>\n      <td>Clown</td>\n      <td>Unicorn</td>\n      <td>Devil</td>\n      <td>Dinosaur</td>\n    </tr>\n  </tbody>\n</table>\n</div>"
     },
     "execution_count": 21,
     "metadata": {},
     "output_type": "execute_result"
    }
   ],
   "source": [
    "kostium[  (kostium['1'] == 'Witch') | (kostium['2'] == 'Ninja')  ]"
   ]
  },
  {
   "cell_type": "code",
   "execution_count": 22,
   "metadata": {
    "pycharm": {
     "name": "#%%\n"
    }
   },
   "outputs": [
    {
     "data": {
      "text/plain": "9"
     },
     "execution_count": 22,
     "metadata": {},
     "output_type": "execute_result"
    }
   ],
   "source": [
    "len(kostium[  (kostium['1'] ==  'Angel') | (kostium['1'] == 'Dinosaur')  ] )"
   ]
  },
  {
   "cell_type": "code",
   "execution_count": 23,
   "metadata": {
    "pycharm": {
     "name": "#%%\n"
    }
   },
   "outputs": [],
   "source": [
    "kostium = kostium.rename(columns={'1':'Pierwszy', '2':'Drugi'})"
   ]
  },
  {
   "cell_type": "code",
   "execution_count": 24,
   "metadata": {
    "pycharm": {
     "name": "#%%\n"
    }
   },
   "outputs": [],
   "source": [
    "kostium['Połączone'] = kostium['3'] + ' | ' + kostium['4']"
   ]
  },
  {
   "cell_type": "code",
   "execution_count": 25,
   "metadata": {
    "pycharm": {
     "name": "#%%\n"
    }
   },
   "outputs": [],
   "source": [
    "kostium[['Trzeci','Czwarty']] = kostium.Połączone.str.split('|',expand=True)"
   ]
  },
  {
   "cell_type": "code",
   "execution_count": 26,
   "metadata": {
    "pycharm": {
     "name": "#%%\n"
    }
   },
   "outputs": [
    {
     "data": {
      "text/plain": "       region      Pierwszy        Drugi          5             Połączone  \\\n0      Alaska   Beetlejuice  Black Widow    Pokemon        Rabbit | Ninja   \n1     Alabama  Harley Quinn        Witch  Star Wars       Cowboy | Rabbit   \n2    Arkansas          Doll        Purge      Witch  Harley Quinn | 1980s   \n3     Arizona        Rabbit        Witch   Dinosaur         Ninja | Angel   \n4  California         Witch        Clown   Dinosaur     Rabbit | Fortnite   \n\n          Trzeci    Czwarty  \n0        Rabbit       Ninja  \n1        Cowboy      Rabbit  \n2  Harley Quinn       1980s  \n3         Ninja       Angel  \n4        Rabbit    Fortnite  ",
      "text/html": "<div>\n<style scoped>\n    .dataframe tbody tr th:only-of-type {\n        vertical-align: middle;\n    }\n\n    .dataframe tbody tr th {\n        vertical-align: top;\n    }\n\n    .dataframe thead th {\n        text-align: right;\n    }\n</style>\n<table border=\"1\" class=\"dataframe\">\n  <thead>\n    <tr style=\"text-align: right;\">\n      <th></th>\n      <th>region</th>\n      <th>Pierwszy</th>\n      <th>Drugi</th>\n      <th>5</th>\n      <th>Połączone</th>\n      <th>Trzeci</th>\n      <th>Czwarty</th>\n    </tr>\n  </thead>\n  <tbody>\n    <tr>\n      <th>0</th>\n      <td>Alaska</td>\n      <td>Beetlejuice</td>\n      <td>Black Widow</td>\n      <td>Pokemon</td>\n      <td>Rabbit | Ninja</td>\n      <td>Rabbit</td>\n      <td>Ninja</td>\n    </tr>\n    <tr>\n      <th>1</th>\n      <td>Alabama</td>\n      <td>Harley Quinn</td>\n      <td>Witch</td>\n      <td>Star Wars</td>\n      <td>Cowboy | Rabbit</td>\n      <td>Cowboy</td>\n      <td>Rabbit</td>\n    </tr>\n    <tr>\n      <th>2</th>\n      <td>Arkansas</td>\n      <td>Doll</td>\n      <td>Purge</td>\n      <td>Witch</td>\n      <td>Harley Quinn | 1980s</td>\n      <td>Harley Quinn</td>\n      <td>1980s</td>\n    </tr>\n    <tr>\n      <th>3</th>\n      <td>Arizona</td>\n      <td>Rabbit</td>\n      <td>Witch</td>\n      <td>Dinosaur</td>\n      <td>Ninja | Angel</td>\n      <td>Ninja</td>\n      <td>Angel</td>\n    </tr>\n    <tr>\n      <th>4</th>\n      <td>California</td>\n      <td>Witch</td>\n      <td>Clown</td>\n      <td>Dinosaur</td>\n      <td>Rabbit | Fortnite</td>\n      <td>Rabbit</td>\n      <td>Fortnite</td>\n    </tr>\n  </tbody>\n</table>\n</div>"
     },
     "execution_count": 26,
     "metadata": {},
     "output_type": "execute_result"
    }
   ],
   "source": [
    "kostium = kostium.drop(['3','4'], axis=1)\n",
    "kostium.head()"
   ]
  },
  {
   "cell_type": "code",
   "execution_count": 27,
   "metadata": {
    "pycharm": {
     "name": "#%%\n"
    }
   },
   "outputs": [
    {
     "data": {
      "text/plain": "region       object\nPierwszy     object\nDrugi        object\n5            object\nPołączone    object\nTrzeci       object\nCzwarty      object\ndtype: object"
     },
     "execution_count": 27,
     "metadata": {},
     "output_type": "execute_result"
    }
   ],
   "source": [
    "kostium.dtypes"
   ]
  },
  {
   "cell_type": "code",
   "execution_count": 28,
   "metadata": {
    "pycharm": {
     "name": "#%%\n"
    }
   },
   "outputs": [],
   "source": [
    "df = pd.DataFrame({'Osoba':['Michał Jakub','Ewa Noga', 'Krzysztof Zawierucha'],\n",
    "                  'Wynik':[15,38,21]})"
   ]
  },
  {
   "cell_type": "code",
   "execution_count": 29,
   "metadata": {
    "pycharm": {
     "name": "#%%\n"
    }
   },
   "outputs": [],
   "source": [
    "def sprawdz(punkty):\n",
    "        if punkty > 20: return 'Zdany'\n",
    "        else: return 'Oblany'"
   ]
  },
  {
   "cell_type": "code",
   "execution_count": 30,
   "metadata": {
    "pycharm": {
     "name": "#%%\n"
    }
   },
   "outputs": [],
   "source": [
    "df.Wynik = df.Wynik.apply(sprawdz)"
   ]
  },
  {
   "cell_type": "code",
   "execution_count": 31,
   "metadata": {
    "pycharm": {
     "name": "#%%\n"
    }
   },
   "outputs": [
    {
     "data": {
      "text/plain": "                  Osoba   Wynik\n0          Michał Jakub  Oblany\n1              Ewa Noga   Zdany\n2  Krzysztof Zawierucha   Zdany",
      "text/html": "<div>\n<style scoped>\n    .dataframe tbody tr th:only-of-type {\n        vertical-align: middle;\n    }\n\n    .dataframe tbody tr th {\n        vertical-align: top;\n    }\n\n    .dataframe thead th {\n        text-align: right;\n    }\n</style>\n<table border=\"1\" class=\"dataframe\">\n  <thead>\n    <tr style=\"text-align: right;\">\n      <th></th>\n      <th>Osoba</th>\n      <th>Wynik</th>\n    </tr>\n  </thead>\n  <tbody>\n    <tr>\n      <th>0</th>\n      <td>Michał Jakub</td>\n      <td>Oblany</td>\n    </tr>\n    <tr>\n      <th>1</th>\n      <td>Ewa Noga</td>\n      <td>Zdany</td>\n    </tr>\n    <tr>\n      <th>2</th>\n      <td>Krzysztof Zawierucha</td>\n      <td>Zdany</td>\n    </tr>\n  </tbody>\n</table>\n</div>"
     },
     "execution_count": 31,
     "metadata": {},
     "output_type": "execute_result"
    }
   ],
   "source": [
    "df"
   ]
  },
  {
   "cell_type": "code",
   "execution_count": 32,
   "metadata": {
    "pycharm": {
     "name": "#%% In[33]:\n"
    }
   },
   "outputs": [],
   "source": [
    "films = pd.read_csv('https://analityk.edu.pl/wp-content/uploads/2020/12/film.csv', sep=';', encoding = \"ISO-8859-1\")\n"
   ]
  },
  {
   "cell_type": "code",
   "execution_count": 33,
   "metadata": {
    "pycharm": {
     "name": "#%% In[34]:\n"
    }
   },
   "outputs": [
    {
     "data": {
      "text/plain": "   Year Length                    Title Subject                Actor  \\\n1  1990    111  Tie Me Up! Tie Me Down!  Comedy    Banderas, Antonio   \n2  1991    113               High Heels  Comedy         Bosé, Miguel   \n3  1983    104           Dead Zone, The  Horror  Walken, Christopher   \n4  1979    122                     Cuba  Action        Connery, Sean   \n5  1978     94           Days of Heaven   Drama        Gere, Richard   \n\n           Actress           Director Popularity Awards  \n1  Abril, Victoria   Almodóvar, Pedro         68     No  \n2  Abril, Victoria   Almodóvar, Pedro         68     No  \n3    Adams, Brooke  Cronenberg, David         79     No  \n4    Adams, Brooke    Lester, Richard          6     No  \n5    Adams, Brooke   Malick, Terrence         14     No  ",
      "text/html": "<div>\n<style scoped>\n    .dataframe tbody tr th:only-of-type {\n        vertical-align: middle;\n    }\n\n    .dataframe tbody tr th {\n        vertical-align: top;\n    }\n\n    .dataframe thead th {\n        text-align: right;\n    }\n</style>\n<table border=\"1\" class=\"dataframe\">\n  <thead>\n    <tr style=\"text-align: right;\">\n      <th></th>\n      <th>Year</th>\n      <th>Length</th>\n      <th>Title</th>\n      <th>Subject</th>\n      <th>Actor</th>\n      <th>Actress</th>\n      <th>Director</th>\n      <th>Popularity</th>\n      <th>Awards</th>\n    </tr>\n  </thead>\n  <tbody>\n    <tr>\n      <th>1</th>\n      <td>1990</td>\n      <td>111</td>\n      <td>Tie Me Up! Tie Me Down!</td>\n      <td>Comedy</td>\n      <td>Banderas, Antonio</td>\n      <td>Abril, Victoria</td>\n      <td>Almodóvar, Pedro</td>\n      <td>68</td>\n      <td>No</td>\n    </tr>\n    <tr>\n      <th>2</th>\n      <td>1991</td>\n      <td>113</td>\n      <td>High Heels</td>\n      <td>Comedy</td>\n      <td>Bosé, Miguel</td>\n      <td>Abril, Victoria</td>\n      <td>Almodóvar, Pedro</td>\n      <td>68</td>\n      <td>No</td>\n    </tr>\n    <tr>\n      <th>3</th>\n      <td>1983</td>\n      <td>104</td>\n      <td>Dead Zone, The</td>\n      <td>Horror</td>\n      <td>Walken, Christopher</td>\n      <td>Adams, Brooke</td>\n      <td>Cronenberg, David</td>\n      <td>79</td>\n      <td>No</td>\n    </tr>\n    <tr>\n      <th>4</th>\n      <td>1979</td>\n      <td>122</td>\n      <td>Cuba</td>\n      <td>Action</td>\n      <td>Connery, Sean</td>\n      <td>Adams, Brooke</td>\n      <td>Lester, Richard</td>\n      <td>6</td>\n      <td>No</td>\n    </tr>\n    <tr>\n      <th>5</th>\n      <td>1978</td>\n      <td>94</td>\n      <td>Days of Heaven</td>\n      <td>Drama</td>\n      <td>Gere, Richard</td>\n      <td>Adams, Brooke</td>\n      <td>Malick, Terrence</td>\n      <td>14</td>\n      <td>No</td>\n    </tr>\n  </tbody>\n</table>\n</div>"
     },
     "execution_count": 33,
     "metadata": {},
     "output_type": "execute_result"
    }
   ],
   "source": [
    "# Kasujemy pierwszy wiersz\n",
    "films = films.drop(0)\n",
    "# Kasujemy ostatnią kolumnę\n",
    "films = films.drop(columns=['*Image'])\n",
    "films.head()"
   ]
  },
  {
   "cell_type": "code",
   "execution_count": 34,
   "metadata": {
    "pycharm": {
     "name": "#%% In[35]:\n"
    }
   },
   "outputs": [
    {
     "name": "stdout",
     "output_type": "stream",
     "text": [
      "<class 'pandas.core.frame.DataFrame'>\n",
      "Int64Index: 1659 entries, 1 to 1659\n",
      "Data columns (total 9 columns):\n",
      " #   Column      Non-Null Count  Dtype \n",
      "---  ------      --------------  ----- \n",
      " 0   Year        1659 non-null   object\n",
      " 1   Length      1592 non-null   object\n",
      " 2   Title       1659 non-null   object\n",
      " 3   Subject     1657 non-null   object\n",
      " 4   Actor       1651 non-null   object\n",
      " 5   Actress     1281 non-null   object\n",
      " 6   Director    1406 non-null   object\n",
      " 7   Popularity  1653 non-null   object\n",
      " 8   Awards      1659 non-null   object\n",
      "dtypes: object(9)\n",
      "memory usage: 129.6+ KB\n"
     ]
    }
   ],
   "source": [
    "films.info()\n"
   ]
  },
  {
   "cell_type": "code",
   "execution_count": 35,
   "metadata": {
    "pycharm": {
     "name": "#%% In[36]:\n"
    }
   },
   "outputs": [
    {
     "data": {
      "text/plain": "Year           object\nLength        float64\nTitle          object\nSubject        object\nActor          object\nActress        object\nDirector       object\nPopularity     object\nAwards         object\ndtype: object"
     },
     "execution_count": 35,
     "metadata": {},
     "output_type": "execute_result"
    }
   ],
   "source": [
    "films.Length = pd.to_numeric(films.Length)\n",
    "films.dtypes\n"
   ]
  },
  {
   "cell_type": "code",
   "execution_count": 36,
   "metadata": {
    "pycharm": {
     "name": "#%%\n"
    }
   },
   "outputs": [
    {
     "data": {
      "text/plain": "105.17964824120602"
     },
     "execution_count": 36,
     "metadata": {},
     "output_type": "execute_result"
    }
   ],
   "source": [
    "films.Length.mean()"
   ]
  },
  {
   "cell_type": "code",
   "execution_count": 37,
   "metadata": {
    "pycharm": {
     "name": "#%%\n"
    }
   },
   "outputs": [],
   "source": [
    "films.Popularity = films.Popularity.astype('float64')"
   ]
  },
  {
   "cell_type": "code",
   "execution_count": 38,
   "metadata": {
    "pycharm": {
     "name": "#%%\n"
    }
   },
   "outputs": [
    {
     "data": {
      "text/plain": "Year           object\nLength        float64\nTitle          object\nSubject        object\nActor          object\nActress        object\nDirector       object\nPopularity    float64\nAwards           bool\ndtype: object"
     },
     "execution_count": 38,
     "metadata": {},
     "output_type": "execute_result"
    }
   ],
   "source": [
    "def zamien(wartosc):\n",
    "    if wartosc == 'No': return False\n",
    "    if wartosc == 'Yes': return True\n",
    "\n",
    "films.Awards = films.Awards.apply(zamien)\n",
    "films.dtypes"
   ]
  },
  {
   "cell_type": "code",
   "execution_count": 39,
   "metadata": {
    "pycharm": {
     "name": "#%%\n"
    }
   },
   "outputs": [],
   "source": [
    "films2 = pd.read_csv('https://analityk.edu.pl/wp-content/uploads/2020/12/film.csv',\n",
    "                    sep=';',\n",
    "                    encoding = \"ISO-8859-1\",\n",
    "                    skiprows=[1],\n",
    "                    dtype={'Length':'float64', 'Popularity':'float64'},\n",
    "                    usecols=['Year','Length','Title','Subject','Popularity','Awards'],\n",
    "                    converters={'Awards':lambda x: True if x == 'Yes' else False})"
   ]
  },
  {
   "cell_type": "code",
   "execution_count": 40,
   "metadata": {
    "pycharm": {
     "name": "#%% In[41]:\n"
    }
   },
   "outputs": [
    {
     "data": {
      "text/plain": "   Year  Length                    Title Subject  Popularity  Awards\n0  1990   111.0  Tie Me Up! Tie Me Down!  Comedy        68.0   False\n1  1991   113.0               High Heels  Comedy        68.0   False\n2  1983   104.0           Dead Zone, The  Horror        79.0   False\n3  1979   122.0                     Cuba  Action         6.0   False\n4  1978    94.0           Days of Heaven   Drama        14.0   False",
      "text/html": "<div>\n<style scoped>\n    .dataframe tbody tr th:only-of-type {\n        vertical-align: middle;\n    }\n\n    .dataframe tbody tr th {\n        vertical-align: top;\n    }\n\n    .dataframe thead th {\n        text-align: right;\n    }\n</style>\n<table border=\"1\" class=\"dataframe\">\n  <thead>\n    <tr style=\"text-align: right;\">\n      <th></th>\n      <th>Year</th>\n      <th>Length</th>\n      <th>Title</th>\n      <th>Subject</th>\n      <th>Popularity</th>\n      <th>Awards</th>\n    </tr>\n  </thead>\n  <tbody>\n    <tr>\n      <th>0</th>\n      <td>1990</td>\n      <td>111.0</td>\n      <td>Tie Me Up! Tie Me Down!</td>\n      <td>Comedy</td>\n      <td>68.0</td>\n      <td>False</td>\n    </tr>\n    <tr>\n      <th>1</th>\n      <td>1991</td>\n      <td>113.0</td>\n      <td>High Heels</td>\n      <td>Comedy</td>\n      <td>68.0</td>\n      <td>False</td>\n    </tr>\n    <tr>\n      <th>2</th>\n      <td>1983</td>\n      <td>104.0</td>\n      <td>Dead Zone, The</td>\n      <td>Horror</td>\n      <td>79.0</td>\n      <td>False</td>\n    </tr>\n    <tr>\n      <th>3</th>\n      <td>1979</td>\n      <td>122.0</td>\n      <td>Cuba</td>\n      <td>Action</td>\n      <td>6.0</td>\n      <td>False</td>\n    </tr>\n    <tr>\n      <th>4</th>\n      <td>1978</td>\n      <td>94.0</td>\n      <td>Days of Heaven</td>\n      <td>Drama</td>\n      <td>14.0</td>\n      <td>False</td>\n    </tr>\n  </tbody>\n</table>\n</div>"
     },
     "execution_count": 40,
     "metadata": {},
     "output_type": "execute_result"
    }
   ],
   "source": [
    "films2.head()"
   ]
  },
  {
   "cell_type": "code",
   "execution_count": 41,
   "metadata": {
    "pycharm": {
     "name": "#%%\n"
    }
   },
   "outputs": [
    {
     "data": {
      "text/plain": "      Length  Title  Subject  Popularity  Awards\nYear                                            \n1920       1      1        1           1       1\n1923       1      1        1           0       1\n1924       3      3        3           3       3\n1925       1      1        1           1       1\n1926       4      4        4           4       4\n...      ...    ...      ...         ...     ...\n1991     119    129      129         129     129\n1992      84     88       88          88      88\n1993      15     21       21          21      21\n1996       1      1        1           1       1\n1997       1      1        1           1       1\n\n[74 rows x 5 columns]",
      "text/html": "<div>\n<style scoped>\n    .dataframe tbody tr th:only-of-type {\n        vertical-align: middle;\n    }\n\n    .dataframe tbody tr th {\n        vertical-align: top;\n    }\n\n    .dataframe thead th {\n        text-align: right;\n    }\n</style>\n<table border=\"1\" class=\"dataframe\">\n  <thead>\n    <tr style=\"text-align: right;\">\n      <th></th>\n      <th>Length</th>\n      <th>Title</th>\n      <th>Subject</th>\n      <th>Popularity</th>\n      <th>Awards</th>\n    </tr>\n    <tr>\n      <th>Year</th>\n      <th></th>\n      <th></th>\n      <th></th>\n      <th></th>\n      <th></th>\n    </tr>\n  </thead>\n  <tbody>\n    <tr>\n      <th>1920</th>\n      <td>1</td>\n      <td>1</td>\n      <td>1</td>\n      <td>1</td>\n      <td>1</td>\n    </tr>\n    <tr>\n      <th>1923</th>\n      <td>1</td>\n      <td>1</td>\n      <td>1</td>\n      <td>0</td>\n      <td>1</td>\n    </tr>\n    <tr>\n      <th>1924</th>\n      <td>3</td>\n      <td>3</td>\n      <td>3</td>\n      <td>3</td>\n      <td>3</td>\n    </tr>\n    <tr>\n      <th>1925</th>\n      <td>1</td>\n      <td>1</td>\n      <td>1</td>\n      <td>1</td>\n      <td>1</td>\n    </tr>\n    <tr>\n      <th>1926</th>\n      <td>4</td>\n      <td>4</td>\n      <td>4</td>\n      <td>4</td>\n      <td>4</td>\n    </tr>\n    <tr>\n      <th>...</th>\n      <td>...</td>\n      <td>...</td>\n      <td>...</td>\n      <td>...</td>\n      <td>...</td>\n    </tr>\n    <tr>\n      <th>1991</th>\n      <td>119</td>\n      <td>129</td>\n      <td>129</td>\n      <td>129</td>\n      <td>129</td>\n    </tr>\n    <tr>\n      <th>1992</th>\n      <td>84</td>\n      <td>88</td>\n      <td>88</td>\n      <td>88</td>\n      <td>88</td>\n    </tr>\n    <tr>\n      <th>1993</th>\n      <td>15</td>\n      <td>21</td>\n      <td>21</td>\n      <td>21</td>\n      <td>21</td>\n    </tr>\n    <tr>\n      <th>1996</th>\n      <td>1</td>\n      <td>1</td>\n      <td>1</td>\n      <td>1</td>\n      <td>1</td>\n    </tr>\n    <tr>\n      <th>1997</th>\n      <td>1</td>\n      <td>1</td>\n      <td>1</td>\n      <td>1</td>\n      <td>1</td>\n    </tr>\n  </tbody>\n</table>\n<p>74 rows × 5 columns</p>\n</div>"
     },
     "execution_count": 41,
     "metadata": {},
     "output_type": "execute_result"
    }
   ],
   "source": [
    "films2.groupby('Year').count()"
   ]
  },
  {
   "cell_type": "code",
   "execution_count": 42,
   "metadata": {
    "pycharm": {
     "name": "#%% In[43]:\n"
    }
   },
   "outputs": [
    {
     "data": {
      "text/plain": "     Popularity       Length       \n            min   max    min    max\nYear                               \n1920       29.0  29.0  137.0  137.0\n1923        NaN   NaN   57.0   57.0\n1924       63.0  79.0   95.0  123.0\n1925       73.0  73.0  125.0  125.0\n1926       49.0  76.0   66.0  139.0\n...         ...   ...    ...    ...\n1991        1.0  88.0   16.0  240.0\n1992        0.0  88.0   52.0  286.0\n1993        0.0  80.0   30.0  108.0\n1996       39.0  39.0   96.0   96.0\n1997       60.0  60.0  109.0  109.0\n\n[74 rows x 4 columns]",
      "text/html": "<div>\n<style scoped>\n    .dataframe tbody tr th:only-of-type {\n        vertical-align: middle;\n    }\n\n    .dataframe tbody tr th {\n        vertical-align: top;\n    }\n\n    .dataframe thead tr th {\n        text-align: left;\n    }\n\n    .dataframe thead tr:last-of-type th {\n        text-align: right;\n    }\n</style>\n<table border=\"1\" class=\"dataframe\">\n  <thead>\n    <tr>\n      <th></th>\n      <th colspan=\"2\" halign=\"left\">Popularity</th>\n      <th colspan=\"2\" halign=\"left\">Length</th>\n    </tr>\n    <tr>\n      <th></th>\n      <th>min</th>\n      <th>max</th>\n      <th>min</th>\n      <th>max</th>\n    </tr>\n    <tr>\n      <th>Year</th>\n      <th></th>\n      <th></th>\n      <th></th>\n      <th></th>\n    </tr>\n  </thead>\n  <tbody>\n    <tr>\n      <th>1920</th>\n      <td>29.0</td>\n      <td>29.0</td>\n      <td>137.0</td>\n      <td>137.0</td>\n    </tr>\n    <tr>\n      <th>1923</th>\n      <td>NaN</td>\n      <td>NaN</td>\n      <td>57.0</td>\n      <td>57.0</td>\n    </tr>\n    <tr>\n      <th>1924</th>\n      <td>63.0</td>\n      <td>79.0</td>\n      <td>95.0</td>\n      <td>123.0</td>\n    </tr>\n    <tr>\n      <th>1925</th>\n      <td>73.0</td>\n      <td>73.0</td>\n      <td>125.0</td>\n      <td>125.0</td>\n    </tr>\n    <tr>\n      <th>1926</th>\n      <td>49.0</td>\n      <td>76.0</td>\n      <td>66.0</td>\n      <td>139.0</td>\n    </tr>\n    <tr>\n      <th>...</th>\n      <td>...</td>\n      <td>...</td>\n      <td>...</td>\n      <td>...</td>\n    </tr>\n    <tr>\n      <th>1991</th>\n      <td>1.0</td>\n      <td>88.0</td>\n      <td>16.0</td>\n      <td>240.0</td>\n    </tr>\n    <tr>\n      <th>1992</th>\n      <td>0.0</td>\n      <td>88.0</td>\n      <td>52.0</td>\n      <td>286.0</td>\n    </tr>\n    <tr>\n      <th>1993</th>\n      <td>0.0</td>\n      <td>80.0</td>\n      <td>30.0</td>\n      <td>108.0</td>\n    </tr>\n    <tr>\n      <th>1996</th>\n      <td>39.0</td>\n      <td>39.0</td>\n      <td>96.0</td>\n      <td>96.0</td>\n    </tr>\n    <tr>\n      <th>1997</th>\n      <td>60.0</td>\n      <td>60.0</td>\n      <td>109.0</td>\n      <td>109.0</td>\n    </tr>\n  </tbody>\n</table>\n<p>74 rows × 4 columns</p>\n</div>"
     },
     "execution_count": 42,
     "metadata": {},
     "output_type": "execute_result"
    }
   ],
   "source": [
    "films.groupby('Year').agg({'Popularity':['min','max'], 'Length':['min','max']})"
   ]
  },
  {
   "cell_type": "code",
   "execution_count": 43,
   "metadata": {
    "pycharm": {
     "name": "#%% In[44]:\n"
    }
   },
   "outputs": [
    {
     "data": {
      "text/plain": "Year\n1920    137.000000\n1923     57.000000\n1924    109.333333\n1925    125.000000\n1926    110.000000\n           ...    \n1986    101.829787\n1987    101.420000\n1988    104.326087\n1989     99.623656\n1990    100.728261\nName: Length, Length: 69, dtype: float64"
     },
     "execution_count": 43,
     "metadata": {},
     "output_type": "execute_result"
    }
   ],
   "source": [
    "films['Year'] = pd.to_numeric(films.Year)\n",
    "films[(films['Year'] >- 1980) & (films['Year'] <= 1990)].groupby('Year').Length.mean()"
   ]
  },
  {
   "cell_type": "code",
   "execution_count": 44,
   "metadata": {
    "pycharm": {
     "name": "#%% In[45]:\n"
    }
   },
   "outputs": [
    {
     "data": {
      "text/plain": "        avg_popularity                                                       \\\nSubject         Action Adventure     Comedy Crime      Drama Fantasy Horror   \nYear                                                                          \n1920               NaN       NaN        NaN   NaN  29.000000     NaN    NaN   \n1923               NaN       NaN        NaN   NaN        NaN     NaN    NaN   \n1924               NaN       NaN        NaN   NaN  72.000000     NaN    NaN   \n1925               NaN       NaN        NaN   NaN  73.000000     NaN    NaN   \n1926         55.000000       NaN        NaN   NaN  72.000000     NaN    NaN   \n...                ...       ...        ...   ...        ...     ...    ...   \n1991         38.937500       NaN  42.540541   NaN  41.900000     NaN   41.6   \n1992         36.944444      39.0  51.333333   NaN  48.566667     NaN    NaN   \n1993         32.000000       NaN  38.428571   NaN  33.750000     NaN    NaN   \n1996               NaN       NaN        NaN   NaN        NaN     NaN   39.0   \n1997               NaN       NaN        NaN   NaN        NaN     NaN    NaN   \n\n                                                                            \\\nSubject      Music Mystery Romance Science Fiction Short    War    Western   \nYear                                                                         \n1920           NaN     NaN     NaN             NaN   NaN    NaN        NaN   \n1923           NaN     NaN     NaN             NaN   NaN    NaN        NaN   \n1924           NaN     NaN     NaN             NaN   NaN    NaN        NaN   \n1925           NaN     NaN     NaN             NaN   NaN    NaN        NaN   \n1926           NaN    76.0     NaN            49.0   NaN    NaN        NaN   \n...            ...     ...     ...             ...   ...    ...        ...   \n1991     53.714286    37.0     NaN            11.0   NaN  50.75  44.888889   \n1992     24.400000    39.2     NaN            36.5   NaN   3.00  28.500000   \n1993     48.000000    38.0     NaN             NaN   NaN    NaN  61.250000   \n1996           NaN     NaN     NaN             NaN   NaN    NaN        NaN   \n1997           NaN     NaN     NaN            60.0   NaN    NaN        NaN   \n\n                  \nSubject Westerns  \nYear              \n1920         NaN  \n1923         NaN  \n1924         NaN  \n1925         NaN  \n1926         NaN  \n...          ...  \n1991        22.5  \n1992        68.0  \n1993         NaN  \n1996         NaN  \n1997         NaN  \n\n[74 rows x 15 columns]",
      "text/html": "<div>\n<style scoped>\n    .dataframe tbody tr th:only-of-type {\n        vertical-align: middle;\n    }\n\n    .dataframe tbody tr th {\n        vertical-align: top;\n    }\n\n    .dataframe thead tr th {\n        text-align: left;\n    }\n\n    .dataframe thead tr:last-of-type th {\n        text-align: right;\n    }\n</style>\n<table border=\"1\" class=\"dataframe\">\n  <thead>\n    <tr>\n      <th></th>\n      <th colspan=\"15\" halign=\"left\">avg_popularity</th>\n    </tr>\n    <tr>\n      <th>Subject</th>\n      <th>Action</th>\n      <th>Adventure</th>\n      <th>Comedy</th>\n      <th>Crime</th>\n      <th>Drama</th>\n      <th>Fantasy</th>\n      <th>Horror</th>\n      <th>Music</th>\n      <th>Mystery</th>\n      <th>Romance</th>\n      <th>Science Fiction</th>\n      <th>Short</th>\n      <th>War</th>\n      <th>Western</th>\n      <th>Westerns</th>\n    </tr>\n    <tr>\n      <th>Year</th>\n      <th></th>\n      <th></th>\n      <th></th>\n      <th></th>\n      <th></th>\n      <th></th>\n      <th></th>\n      <th></th>\n      <th></th>\n      <th></th>\n      <th></th>\n      <th></th>\n      <th></th>\n      <th></th>\n      <th></th>\n    </tr>\n  </thead>\n  <tbody>\n    <tr>\n      <th>1920</th>\n      <td>NaN</td>\n      <td>NaN</td>\n      <td>NaN</td>\n      <td>NaN</td>\n      <td>29.000000</td>\n      <td>NaN</td>\n      <td>NaN</td>\n      <td>NaN</td>\n      <td>NaN</td>\n      <td>NaN</td>\n      <td>NaN</td>\n      <td>NaN</td>\n      <td>NaN</td>\n      <td>NaN</td>\n      <td>NaN</td>\n    </tr>\n    <tr>\n      <th>1923</th>\n      <td>NaN</td>\n      <td>NaN</td>\n      <td>NaN</td>\n      <td>NaN</td>\n      <td>NaN</td>\n      <td>NaN</td>\n      <td>NaN</td>\n      <td>NaN</td>\n      <td>NaN</td>\n      <td>NaN</td>\n      <td>NaN</td>\n      <td>NaN</td>\n      <td>NaN</td>\n      <td>NaN</td>\n      <td>NaN</td>\n    </tr>\n    <tr>\n      <th>1924</th>\n      <td>NaN</td>\n      <td>NaN</td>\n      <td>NaN</td>\n      <td>NaN</td>\n      <td>72.000000</td>\n      <td>NaN</td>\n      <td>NaN</td>\n      <td>NaN</td>\n      <td>NaN</td>\n      <td>NaN</td>\n      <td>NaN</td>\n      <td>NaN</td>\n      <td>NaN</td>\n      <td>NaN</td>\n      <td>NaN</td>\n    </tr>\n    <tr>\n      <th>1925</th>\n      <td>NaN</td>\n      <td>NaN</td>\n      <td>NaN</td>\n      <td>NaN</td>\n      <td>73.000000</td>\n      <td>NaN</td>\n      <td>NaN</td>\n      <td>NaN</td>\n      <td>NaN</td>\n      <td>NaN</td>\n      <td>NaN</td>\n      <td>NaN</td>\n      <td>NaN</td>\n      <td>NaN</td>\n      <td>NaN</td>\n    </tr>\n    <tr>\n      <th>1926</th>\n      <td>55.000000</td>\n      <td>NaN</td>\n      <td>NaN</td>\n      <td>NaN</td>\n      <td>72.000000</td>\n      <td>NaN</td>\n      <td>NaN</td>\n      <td>NaN</td>\n      <td>76.0</td>\n      <td>NaN</td>\n      <td>49.0</td>\n      <td>NaN</td>\n      <td>NaN</td>\n      <td>NaN</td>\n      <td>NaN</td>\n    </tr>\n    <tr>\n      <th>...</th>\n      <td>...</td>\n      <td>...</td>\n      <td>...</td>\n      <td>...</td>\n      <td>...</td>\n      <td>...</td>\n      <td>...</td>\n      <td>...</td>\n      <td>...</td>\n      <td>...</td>\n      <td>...</td>\n      <td>...</td>\n      <td>...</td>\n      <td>...</td>\n      <td>...</td>\n    </tr>\n    <tr>\n      <th>1991</th>\n      <td>38.937500</td>\n      <td>NaN</td>\n      <td>42.540541</td>\n      <td>NaN</td>\n      <td>41.900000</td>\n      <td>NaN</td>\n      <td>41.6</td>\n      <td>53.714286</td>\n      <td>37.0</td>\n      <td>NaN</td>\n      <td>11.0</td>\n      <td>NaN</td>\n      <td>50.75</td>\n      <td>44.888889</td>\n      <td>22.5</td>\n    </tr>\n    <tr>\n      <th>1992</th>\n      <td>36.944444</td>\n      <td>39.0</td>\n      <td>51.333333</td>\n      <td>NaN</td>\n      <td>48.566667</td>\n      <td>NaN</td>\n      <td>NaN</td>\n      <td>24.400000</td>\n      <td>39.2</td>\n      <td>NaN</td>\n      <td>36.5</td>\n      <td>NaN</td>\n      <td>3.00</td>\n      <td>28.500000</td>\n      <td>68.0</td>\n    </tr>\n    <tr>\n      <th>1993</th>\n      <td>32.000000</td>\n      <td>NaN</td>\n      <td>38.428571</td>\n      <td>NaN</td>\n      <td>33.750000</td>\n      <td>NaN</td>\n      <td>NaN</td>\n      <td>48.000000</td>\n      <td>38.0</td>\n      <td>NaN</td>\n      <td>NaN</td>\n      <td>NaN</td>\n      <td>NaN</td>\n      <td>61.250000</td>\n      <td>NaN</td>\n    </tr>\n    <tr>\n      <th>1996</th>\n      <td>NaN</td>\n      <td>NaN</td>\n      <td>NaN</td>\n      <td>NaN</td>\n      <td>NaN</td>\n      <td>NaN</td>\n      <td>39.0</td>\n      <td>NaN</td>\n      <td>NaN</td>\n      <td>NaN</td>\n      <td>NaN</td>\n      <td>NaN</td>\n      <td>NaN</td>\n      <td>NaN</td>\n      <td>NaN</td>\n    </tr>\n    <tr>\n      <th>1997</th>\n      <td>NaN</td>\n      <td>NaN</td>\n      <td>NaN</td>\n      <td>NaN</td>\n      <td>NaN</td>\n      <td>NaN</td>\n      <td>NaN</td>\n      <td>NaN</td>\n      <td>NaN</td>\n      <td>NaN</td>\n      <td>60.0</td>\n      <td>NaN</td>\n      <td>NaN</td>\n      <td>NaN</td>\n      <td>NaN</td>\n    </tr>\n  </tbody>\n</table>\n<p>74 rows × 15 columns</p>\n</div>"
     },
     "execution_count": 44,
     "metadata": {},
     "output_type": "execute_result"
    }
   ],
   "source": [
    "x = films.groupby(['Year','Subject']).agg(avg_popularity = ('Popularity','mean'))\n",
    "x.unstack()"
   ]
  },
  {
   "cell_type": "code",
   "execution_count": 45,
   "metadata": {
    "pycharm": {
     "name": "#%% In[46]:\n"
    }
   },
   "outputs": [
    {
     "data": {
      "text/plain": "Subject     Action  Adventure     Comedy  Crime      Drama  Fantasy  Horror  \\\nYear                                                                          \n1920           NaN        NaN        NaN    NaN  29.000000      NaN     NaN   \n1924           NaN        NaN        NaN    NaN  72.000000      NaN     NaN   \n1925           NaN        NaN        NaN    NaN  73.000000      NaN     NaN   \n1926     55.000000        NaN        NaN    NaN  72.000000      NaN     NaN   \n1927           NaN        NaN        NaN    NaN  31.000000      NaN     NaN   \n...            ...        ...        ...    ...        ...      ...     ...   \n1991     38.937500        NaN  42.540541    NaN  41.900000      NaN    41.6   \n1992     36.944444       39.0  51.333333    NaN  48.566667      NaN     NaN   \n1993     32.000000        NaN  38.428571    NaN  33.750000      NaN     NaN   \n1996           NaN        NaN        NaN    NaN        NaN      NaN    39.0   \n1997           NaN        NaN        NaN    NaN        NaN      NaN     NaN   \n\nSubject      Music  Mystery  Romance  Science Fiction  Short    War  \\\nYear                                                                  \n1920           NaN      NaN      NaN              NaN    NaN    NaN   \n1924           NaN      NaN      NaN              NaN    NaN    NaN   \n1925           NaN      NaN      NaN              NaN    NaN    NaN   \n1926           NaN     76.0      NaN             49.0    NaN    NaN   \n1927           NaN     45.0      NaN              NaN    NaN    NaN   \n...            ...      ...      ...              ...    ...    ...   \n1991     53.714286     37.0      NaN             11.0    NaN  50.75   \n1992     24.400000     39.2      NaN             36.5    NaN   3.00   \n1993     48.000000     38.0      NaN              NaN    NaN    NaN   \n1996           NaN      NaN      NaN              NaN    NaN    NaN   \n1997           NaN      NaN      NaN             60.0    NaN    NaN   \n\nSubject    Western  Westerns  \nYear                          \n1920           NaN       NaN  \n1924           NaN       NaN  \n1925           NaN       NaN  \n1926           NaN       NaN  \n1927           NaN       NaN  \n...            ...       ...  \n1991     44.888889      22.5  \n1992     28.500000      68.0  \n1993     61.250000       NaN  \n1996           NaN       NaN  \n1997           NaN       NaN  \n\n[73 rows x 15 columns]",
      "text/html": "<div>\n<style scoped>\n    .dataframe tbody tr th:only-of-type {\n        vertical-align: middle;\n    }\n\n    .dataframe tbody tr th {\n        vertical-align: top;\n    }\n\n    .dataframe thead th {\n        text-align: right;\n    }\n</style>\n<table border=\"1\" class=\"dataframe\">\n  <thead>\n    <tr style=\"text-align: right;\">\n      <th>Subject</th>\n      <th>Action</th>\n      <th>Adventure</th>\n      <th>Comedy</th>\n      <th>Crime</th>\n      <th>Drama</th>\n      <th>Fantasy</th>\n      <th>Horror</th>\n      <th>Music</th>\n      <th>Mystery</th>\n      <th>Romance</th>\n      <th>Science Fiction</th>\n      <th>Short</th>\n      <th>War</th>\n      <th>Western</th>\n      <th>Westerns</th>\n    </tr>\n    <tr>\n      <th>Year</th>\n      <th></th>\n      <th></th>\n      <th></th>\n      <th></th>\n      <th></th>\n      <th></th>\n      <th></th>\n      <th></th>\n      <th></th>\n      <th></th>\n      <th></th>\n      <th></th>\n      <th></th>\n      <th></th>\n      <th></th>\n    </tr>\n  </thead>\n  <tbody>\n    <tr>\n      <th>1920</th>\n      <td>NaN</td>\n      <td>NaN</td>\n      <td>NaN</td>\n      <td>NaN</td>\n      <td>29.000000</td>\n      <td>NaN</td>\n      <td>NaN</td>\n      <td>NaN</td>\n      <td>NaN</td>\n      <td>NaN</td>\n      <td>NaN</td>\n      <td>NaN</td>\n      <td>NaN</td>\n      <td>NaN</td>\n      <td>NaN</td>\n    </tr>\n    <tr>\n      <th>1924</th>\n      <td>NaN</td>\n      <td>NaN</td>\n      <td>NaN</td>\n      <td>NaN</td>\n      <td>72.000000</td>\n      <td>NaN</td>\n      <td>NaN</td>\n      <td>NaN</td>\n      <td>NaN</td>\n      <td>NaN</td>\n      <td>NaN</td>\n      <td>NaN</td>\n      <td>NaN</td>\n      <td>NaN</td>\n      <td>NaN</td>\n    </tr>\n    <tr>\n      <th>1925</th>\n      <td>NaN</td>\n      <td>NaN</td>\n      <td>NaN</td>\n      <td>NaN</td>\n      <td>73.000000</td>\n      <td>NaN</td>\n      <td>NaN</td>\n      <td>NaN</td>\n      <td>NaN</td>\n      <td>NaN</td>\n      <td>NaN</td>\n      <td>NaN</td>\n      <td>NaN</td>\n      <td>NaN</td>\n      <td>NaN</td>\n    </tr>\n    <tr>\n      <th>1926</th>\n      <td>55.000000</td>\n      <td>NaN</td>\n      <td>NaN</td>\n      <td>NaN</td>\n      <td>72.000000</td>\n      <td>NaN</td>\n      <td>NaN</td>\n      <td>NaN</td>\n      <td>76.0</td>\n      <td>NaN</td>\n      <td>49.0</td>\n      <td>NaN</td>\n      <td>NaN</td>\n      <td>NaN</td>\n      <td>NaN</td>\n    </tr>\n    <tr>\n      <th>1927</th>\n      <td>NaN</td>\n      <td>NaN</td>\n      <td>NaN</td>\n      <td>NaN</td>\n      <td>31.000000</td>\n      <td>NaN</td>\n      <td>NaN</td>\n      <td>NaN</td>\n      <td>45.0</td>\n      <td>NaN</td>\n      <td>NaN</td>\n      <td>NaN</td>\n      <td>NaN</td>\n      <td>NaN</td>\n      <td>NaN</td>\n    </tr>\n    <tr>\n      <th>...</th>\n      <td>...</td>\n      <td>...</td>\n      <td>...</td>\n      <td>...</td>\n      <td>...</td>\n      <td>...</td>\n      <td>...</td>\n      <td>...</td>\n      <td>...</td>\n      <td>...</td>\n      <td>...</td>\n      <td>...</td>\n      <td>...</td>\n      <td>...</td>\n      <td>...</td>\n    </tr>\n    <tr>\n      <th>1991</th>\n      <td>38.937500</td>\n      <td>NaN</td>\n      <td>42.540541</td>\n      <td>NaN</td>\n      <td>41.900000</td>\n      <td>NaN</td>\n      <td>41.6</td>\n      <td>53.714286</td>\n      <td>37.0</td>\n      <td>NaN</td>\n      <td>11.0</td>\n      <td>NaN</td>\n      <td>50.75</td>\n      <td>44.888889</td>\n      <td>22.5</td>\n    </tr>\n    <tr>\n      <th>1992</th>\n      <td>36.944444</td>\n      <td>39.0</td>\n      <td>51.333333</td>\n      <td>NaN</td>\n      <td>48.566667</td>\n      <td>NaN</td>\n      <td>NaN</td>\n      <td>24.400000</td>\n      <td>39.2</td>\n      <td>NaN</td>\n      <td>36.5</td>\n      <td>NaN</td>\n      <td>3.00</td>\n      <td>28.500000</td>\n      <td>68.0</td>\n    </tr>\n    <tr>\n      <th>1993</th>\n      <td>32.000000</td>\n      <td>NaN</td>\n      <td>38.428571</td>\n      <td>NaN</td>\n      <td>33.750000</td>\n      <td>NaN</td>\n      <td>NaN</td>\n      <td>48.000000</td>\n      <td>38.0</td>\n      <td>NaN</td>\n      <td>NaN</td>\n      <td>NaN</td>\n      <td>NaN</td>\n      <td>61.250000</td>\n      <td>NaN</td>\n    </tr>\n    <tr>\n      <th>1996</th>\n      <td>NaN</td>\n      <td>NaN</td>\n      <td>NaN</td>\n      <td>NaN</td>\n      <td>NaN</td>\n      <td>NaN</td>\n      <td>39.0</td>\n      <td>NaN</td>\n      <td>NaN</td>\n      <td>NaN</td>\n      <td>NaN</td>\n      <td>NaN</td>\n      <td>NaN</td>\n      <td>NaN</td>\n      <td>NaN</td>\n    </tr>\n    <tr>\n      <th>1997</th>\n      <td>NaN</td>\n      <td>NaN</td>\n      <td>NaN</td>\n      <td>NaN</td>\n      <td>NaN</td>\n      <td>NaN</td>\n      <td>NaN</td>\n      <td>NaN</td>\n      <td>NaN</td>\n      <td>NaN</td>\n      <td>60.0</td>\n      <td>NaN</td>\n      <td>NaN</td>\n      <td>NaN</td>\n      <td>NaN</td>\n    </tr>\n  </tbody>\n</table>\n<p>73 rows × 15 columns</p>\n</div>"
     },
     "execution_count": 45,
     "metadata": {},
     "output_type": "execute_result"
    }
   ],
   "source": [
    "pd.pivot_table(films,\n",
    "               index='Year',\n",
    "               columns='Subject',\n",
    "               values='Popularity',\n",
    "               aggfunc='mean')"
   ]
  },
  {
   "cell_type": "code",
   "execution_count": 46,
   "metadata": {
    "pycharm": {
     "name": "#%% In[47]:\n"
    }
   },
   "outputs": [
    {
     "data": {
      "text/plain": "Subject   Action Adventure   Comedy Crime             Drama Fantasy   Horror  \\\nYear                                                                           \n1920                                                Niszowy                    \n1923                                                                           \n1924                                       Bardzo popularny                    \n1925                                       Bardzo popularny                    \n1926     Niszowy                           Bardzo popularny                    \n...          ...       ...      ...   ...               ...     ...      ...   \n1991     Niszowy            Niszowy                 Niszowy          Niszowy   \n1992     Niszowy   Niszowy  Niszowy                 Niszowy                    \n1993     Niszowy            Niszowy                 Niszowy                    \n1996                                                                 Niszowy   \n1997                                                                           \n\nSubject    Music           Mystery Romance Science Fiction Short      War  \\\nYear                                                                        \n1920                                                                        \n1923                                                                        \n1924                                                                        \n1925                                                                        \n1926              Bardzo popularny                 Niszowy                  \n...          ...               ...     ...             ...   ...      ...   \n1991     Niszowy           Niszowy                 Niszowy        Niszowy   \n1992     Niszowy           Niszowy                 Niszowy        Niszowy   \n1993     Niszowy           Niszowy                                          \n1996                                                                        \n1997                                               Niszowy                  \n\nSubject           Western          Westerns  \nYear                                         \n1920                                         \n1923              Niszowy                    \n1924                                         \n1925                                         \n1926                                         \n...                   ...               ...  \n1991              Niszowy           Niszowy  \n1992              Niszowy  Bardzo popularny  \n1993     Bardzo popularny                    \n1996                                         \n1997                                         \n\n[74 rows x 15 columns]",
      "text/html": "<div>\n<style scoped>\n    .dataframe tbody tr th:only-of-type {\n        vertical-align: middle;\n    }\n\n    .dataframe tbody tr th {\n        vertical-align: top;\n    }\n\n    .dataframe thead th {\n        text-align: right;\n    }\n</style>\n<table border=\"1\" class=\"dataframe\">\n  <thead>\n    <tr style=\"text-align: right;\">\n      <th>Subject</th>\n      <th>Action</th>\n      <th>Adventure</th>\n      <th>Comedy</th>\n      <th>Crime</th>\n      <th>Drama</th>\n      <th>Fantasy</th>\n      <th>Horror</th>\n      <th>Music</th>\n      <th>Mystery</th>\n      <th>Romance</th>\n      <th>Science Fiction</th>\n      <th>Short</th>\n      <th>War</th>\n      <th>Western</th>\n      <th>Westerns</th>\n    </tr>\n    <tr>\n      <th>Year</th>\n      <th></th>\n      <th></th>\n      <th></th>\n      <th></th>\n      <th></th>\n      <th></th>\n      <th></th>\n      <th></th>\n      <th></th>\n      <th></th>\n      <th></th>\n      <th></th>\n      <th></th>\n      <th></th>\n      <th></th>\n    </tr>\n  </thead>\n  <tbody>\n    <tr>\n      <th>1920</th>\n      <td></td>\n      <td></td>\n      <td></td>\n      <td></td>\n      <td>Niszowy</td>\n      <td></td>\n      <td></td>\n      <td></td>\n      <td></td>\n      <td></td>\n      <td></td>\n      <td></td>\n      <td></td>\n      <td></td>\n      <td></td>\n    </tr>\n    <tr>\n      <th>1923</th>\n      <td></td>\n      <td></td>\n      <td></td>\n      <td></td>\n      <td></td>\n      <td></td>\n      <td></td>\n      <td></td>\n      <td></td>\n      <td></td>\n      <td></td>\n      <td></td>\n      <td></td>\n      <td>Niszowy</td>\n      <td></td>\n    </tr>\n    <tr>\n      <th>1924</th>\n      <td></td>\n      <td></td>\n      <td></td>\n      <td></td>\n      <td>Bardzo popularny</td>\n      <td></td>\n      <td></td>\n      <td></td>\n      <td></td>\n      <td></td>\n      <td></td>\n      <td></td>\n      <td></td>\n      <td></td>\n      <td></td>\n    </tr>\n    <tr>\n      <th>1925</th>\n      <td></td>\n      <td></td>\n      <td></td>\n      <td></td>\n      <td>Bardzo popularny</td>\n      <td></td>\n      <td></td>\n      <td></td>\n      <td></td>\n      <td></td>\n      <td></td>\n      <td></td>\n      <td></td>\n      <td></td>\n      <td></td>\n    </tr>\n    <tr>\n      <th>1926</th>\n      <td>Niszowy</td>\n      <td></td>\n      <td></td>\n      <td></td>\n      <td>Bardzo popularny</td>\n      <td></td>\n      <td></td>\n      <td></td>\n      <td>Bardzo popularny</td>\n      <td></td>\n      <td>Niszowy</td>\n      <td></td>\n      <td></td>\n      <td></td>\n      <td></td>\n    </tr>\n    <tr>\n      <th>...</th>\n      <td>...</td>\n      <td>...</td>\n      <td>...</td>\n      <td>...</td>\n      <td>...</td>\n      <td>...</td>\n      <td>...</td>\n      <td>...</td>\n      <td>...</td>\n      <td>...</td>\n      <td>...</td>\n      <td>...</td>\n      <td>...</td>\n      <td>...</td>\n      <td>...</td>\n    </tr>\n    <tr>\n      <th>1991</th>\n      <td>Niszowy</td>\n      <td></td>\n      <td>Niszowy</td>\n      <td></td>\n      <td>Niszowy</td>\n      <td></td>\n      <td>Niszowy</td>\n      <td>Niszowy</td>\n      <td>Niszowy</td>\n      <td></td>\n      <td>Niszowy</td>\n      <td></td>\n      <td>Niszowy</td>\n      <td>Niszowy</td>\n      <td>Niszowy</td>\n    </tr>\n    <tr>\n      <th>1992</th>\n      <td>Niszowy</td>\n      <td>Niszowy</td>\n      <td>Niszowy</td>\n      <td></td>\n      <td>Niszowy</td>\n      <td></td>\n      <td></td>\n      <td>Niszowy</td>\n      <td>Niszowy</td>\n      <td></td>\n      <td>Niszowy</td>\n      <td></td>\n      <td>Niszowy</td>\n      <td>Niszowy</td>\n      <td>Bardzo popularny</td>\n    </tr>\n    <tr>\n      <th>1993</th>\n      <td>Niszowy</td>\n      <td></td>\n      <td>Niszowy</td>\n      <td></td>\n      <td>Niszowy</td>\n      <td></td>\n      <td></td>\n      <td>Niszowy</td>\n      <td>Niszowy</td>\n      <td></td>\n      <td></td>\n      <td></td>\n      <td></td>\n      <td>Bardzo popularny</td>\n      <td></td>\n    </tr>\n    <tr>\n      <th>1996</th>\n      <td></td>\n      <td></td>\n      <td></td>\n      <td></td>\n      <td></td>\n      <td></td>\n      <td>Niszowy</td>\n      <td></td>\n      <td></td>\n      <td></td>\n      <td></td>\n      <td></td>\n      <td></td>\n      <td></td>\n      <td></td>\n    </tr>\n    <tr>\n      <th>1997</th>\n      <td></td>\n      <td></td>\n      <td></td>\n      <td></td>\n      <td></td>\n      <td></td>\n      <td></td>\n      <td></td>\n      <td></td>\n      <td></td>\n      <td>Niszowy</td>\n      <td></td>\n      <td></td>\n      <td></td>\n      <td></td>\n    </tr>\n  </tbody>\n</table>\n<p>74 rows × 15 columns</p>\n</div>"
     },
     "execution_count": 46,
     "metadata": {},
     "output_type": "execute_result"
    }
   ],
   "source": [
    "x = films.groupby(['Year','Subject']).agg(avg_popularity = ('Popularity','mean'))\n",
    "x = x.avg_popularity.apply(lambda x: 'Bardzo popularny' if x > 60 else 'Niszowy')\n",
    "x.unstack(fill_value='')"
   ]
  },
  {
   "cell_type": "code",
   "execution_count": 47,
   "metadata": {
    "pycharm": {
     "name": "#%% In[48]:\n"
    }
   },
   "outputs": [
    {
     "data": {
      "text/plain": "          Name  Age\nage  0  Michał   39\n     1    Adam   28\n     2     Ewa   19\n     3   Jakub   32\nage2 0    Mike   50",
      "text/html": "<div>\n<style scoped>\n    .dataframe tbody tr th:only-of-type {\n        vertical-align: middle;\n    }\n\n    .dataframe tbody tr th {\n        vertical-align: top;\n    }\n\n    .dataframe thead th {\n        text-align: right;\n    }\n</style>\n<table border=\"1\" class=\"dataframe\">\n  <thead>\n    <tr style=\"text-align: right;\">\n      <th></th>\n      <th></th>\n      <th>Name</th>\n      <th>Age</th>\n    </tr>\n  </thead>\n  <tbody>\n    <tr>\n      <th rowspan=\"4\" valign=\"top\">age</th>\n      <th>0</th>\n      <td>Michał</td>\n      <td>39</td>\n    </tr>\n    <tr>\n      <th>1</th>\n      <td>Adam</td>\n      <td>28</td>\n    </tr>\n    <tr>\n      <th>2</th>\n      <td>Ewa</td>\n      <td>19</td>\n    </tr>\n    <tr>\n      <th>3</th>\n      <td>Jakub</td>\n      <td>32</td>\n    </tr>\n    <tr>\n      <th>age2</th>\n      <th>0</th>\n      <td>Mike</td>\n      <td>50</td>\n    </tr>\n  </tbody>\n</table>\n</div>"
     },
     "execution_count": 47,
     "metadata": {},
     "output_type": "execute_result"
    }
   ],
   "source": [
    "age = pd.DataFrame({'Name':['Michał', 'Adam', 'Ewa', 'Jakub'],\n",
    "                           'Age':[39,28,19,32]})\n",
    "\n",
    "age2 = pd.DataFrame({'Name':['Mike'],\n",
    "                           'Age':[50]})\n",
    "city = pd.DataFrame({'Name':['Adam', 'Ewa', 'Ola', 'Krystian', 'Jacek'],\n",
    "                            'City':['Warszawa', 'Kraków', 'Poznań', 'Zakopane', 'Olsztyn']})\n",
    "age_new = pd.concat([age, age2], keys=['age', 'age2'])\n",
    "age_new\n"
   ]
  },
  {
   "cell_type": "code",
   "execution_count": 48,
   "metadata": {
    "pycharm": {
     "name": "#%% In[52]:\n"
    }
   },
   "outputs": [
    {
     "data": {
      "text/plain": "   Name  Age      City\n0  Adam   28  Warszawa\n1   Ewa   19    Kraków",
      "text/html": "<div>\n<style scoped>\n    .dataframe tbody tr th:only-of-type {\n        vertical-align: middle;\n    }\n\n    .dataframe tbody tr th {\n        vertical-align: top;\n    }\n\n    .dataframe thead th {\n        text-align: right;\n    }\n</style>\n<table border=\"1\" class=\"dataframe\">\n  <thead>\n    <tr style=\"text-align: right;\">\n      <th></th>\n      <th>Name</th>\n      <th>Age</th>\n      <th>City</th>\n    </tr>\n  </thead>\n  <tbody>\n    <tr>\n      <th>0</th>\n      <td>Adam</td>\n      <td>28</td>\n      <td>Warszawa</td>\n    </tr>\n    <tr>\n      <th>1</th>\n      <td>Ewa</td>\n      <td>19</td>\n      <td>Kraków</td>\n    </tr>\n  </tbody>\n</table>\n</div>"
     },
     "execution_count": 48,
     "metadata": {},
     "output_type": "execute_result"
    }
   ],
   "source": [
    "pd.merge(age_new, city, on='Name', how='inner')"
   ]
  },
  {
   "cell_type": "code",
   "execution_count": 49,
   "metadata": {
    "pycharm": {
     "name": "#%% In[53]:\n"
    }
   },
   "outputs": [
    {
     "data": {
      "text/plain": "     Name  Age      City\n0  Michał   39       NaN\n1    Adam   28  Warszawa\n2     Ewa   19    Kraków\n3   Jakub   32       NaN\n4    Mike   50       NaN",
      "text/html": "<div>\n<style scoped>\n    .dataframe tbody tr th:only-of-type {\n        vertical-align: middle;\n    }\n\n    .dataframe tbody tr th {\n        vertical-align: top;\n    }\n\n    .dataframe thead th {\n        text-align: right;\n    }\n</style>\n<table border=\"1\" class=\"dataframe\">\n  <thead>\n    <tr style=\"text-align: right;\">\n      <th></th>\n      <th>Name</th>\n      <th>Age</th>\n      <th>City</th>\n    </tr>\n  </thead>\n  <tbody>\n    <tr>\n      <th>0</th>\n      <td>Michał</td>\n      <td>39</td>\n      <td>NaN</td>\n    </tr>\n    <tr>\n      <th>1</th>\n      <td>Adam</td>\n      <td>28</td>\n      <td>Warszawa</td>\n    </tr>\n    <tr>\n      <th>2</th>\n      <td>Ewa</td>\n      <td>19</td>\n      <td>Kraków</td>\n    </tr>\n    <tr>\n      <th>3</th>\n      <td>Jakub</td>\n      <td>32</td>\n      <td>NaN</td>\n    </tr>\n    <tr>\n      <th>4</th>\n      <td>Mike</td>\n      <td>50</td>\n      <td>NaN</td>\n    </tr>\n  </tbody>\n</table>\n</div>"
     },
     "execution_count": 49,
     "metadata": {},
     "output_type": "execute_result"
    }
   ],
   "source": [
    "pd.merge(age_new, city, on='Name', how='left')"
   ]
  },
  {
   "cell_type": "code",
   "execution_count": 50,
   "metadata": {
    "pycharm": {
     "name": "#%% In[54]:\n"
    }
   },
   "outputs": [
    {
     "data": {
      "text/plain": "       Name   Age      City\n0      Adam  28.0  Warszawa\n1       Ewa  19.0    Kraków\n2       Ola   NaN    Poznań\n3  Krystian   NaN  Zakopane\n4     Jacek   NaN   Olsztyn",
      "text/html": "<div>\n<style scoped>\n    .dataframe tbody tr th:only-of-type {\n        vertical-align: middle;\n    }\n\n    .dataframe tbody tr th {\n        vertical-align: top;\n    }\n\n    .dataframe thead th {\n        text-align: right;\n    }\n</style>\n<table border=\"1\" class=\"dataframe\">\n  <thead>\n    <tr style=\"text-align: right;\">\n      <th></th>\n      <th>Name</th>\n      <th>Age</th>\n      <th>City</th>\n    </tr>\n  </thead>\n  <tbody>\n    <tr>\n      <th>0</th>\n      <td>Adam</td>\n      <td>28.0</td>\n      <td>Warszawa</td>\n    </tr>\n    <tr>\n      <th>1</th>\n      <td>Ewa</td>\n      <td>19.0</td>\n      <td>Kraków</td>\n    </tr>\n    <tr>\n      <th>2</th>\n      <td>Ola</td>\n      <td>NaN</td>\n      <td>Poznań</td>\n    </tr>\n    <tr>\n      <th>3</th>\n      <td>Krystian</td>\n      <td>NaN</td>\n      <td>Zakopane</td>\n    </tr>\n    <tr>\n      <th>4</th>\n      <td>Jacek</td>\n      <td>NaN</td>\n      <td>Olsztyn</td>\n    </tr>\n  </tbody>\n</table>\n</div>"
     },
     "execution_count": 50,
     "metadata": {},
     "output_type": "execute_result"
    }
   ],
   "source": [
    "pd.merge(age_new, city, on='Name', how='right')"
   ]
  },
  {
   "cell_type": "code",
   "execution_count": 51,
   "metadata": {
    "pycharm": {
     "name": "#%% In[55]:\n"
    }
   },
   "outputs": [
    {
     "data": {
      "text/plain": "       Name   Age      City\n0    Michał  39.0       NaN\n1      Adam  28.0  Warszawa\n2       Ewa  19.0    Kraków\n3     Jakub  32.0       NaN\n4      Mike  50.0       NaN\n5       Ola   NaN    Poznań\n6  Krystian   NaN  Zakopane\n7     Jacek   NaN   Olsztyn",
      "text/html": "<div>\n<style scoped>\n    .dataframe tbody tr th:only-of-type {\n        vertical-align: middle;\n    }\n\n    .dataframe tbody tr th {\n        vertical-align: top;\n    }\n\n    .dataframe thead th {\n        text-align: right;\n    }\n</style>\n<table border=\"1\" class=\"dataframe\">\n  <thead>\n    <tr style=\"text-align: right;\">\n      <th></th>\n      <th>Name</th>\n      <th>Age</th>\n      <th>City</th>\n    </tr>\n  </thead>\n  <tbody>\n    <tr>\n      <th>0</th>\n      <td>Michał</td>\n      <td>39.0</td>\n      <td>NaN</td>\n    </tr>\n    <tr>\n      <th>1</th>\n      <td>Adam</td>\n      <td>28.0</td>\n      <td>Warszawa</td>\n    </tr>\n    <tr>\n      <th>2</th>\n      <td>Ewa</td>\n      <td>19.0</td>\n      <td>Kraków</td>\n    </tr>\n    <tr>\n      <th>3</th>\n      <td>Jakub</td>\n      <td>32.0</td>\n      <td>NaN</td>\n    </tr>\n    <tr>\n      <th>4</th>\n      <td>Mike</td>\n      <td>50.0</td>\n      <td>NaN</td>\n    </tr>\n    <tr>\n      <th>5</th>\n      <td>Ola</td>\n      <td>NaN</td>\n      <td>Poznań</td>\n    </tr>\n    <tr>\n      <th>6</th>\n      <td>Krystian</td>\n      <td>NaN</td>\n      <td>Zakopane</td>\n    </tr>\n    <tr>\n      <th>7</th>\n      <td>Jacek</td>\n      <td>NaN</td>\n      <td>Olsztyn</td>\n    </tr>\n  </tbody>\n</table>\n</div>"
     },
     "execution_count": 51,
     "metadata": {},
     "output_type": "execute_result"
    }
   ],
   "source": [
    "pd.merge(age_new, city, on='Name', how='outer')"
   ]
  },
  {
   "cell_type": "code",
   "execution_count": 51,
   "metadata": {
    "pycharm": {
     "name": "#%%\n"
    }
   },
   "outputs": [],
   "source": []
  }
 ],
 "metadata": {
  "kernelspec": {
   "display_name": "PyCharm (pythonProject)",
   "language": "python",
   "name": "pycharm-1b1dbc7a"
  },
  "language_info": {
   "codemirror_mode": {
    "name": "ipython",
    "version": 3
   },
   "file_extension": ".py",
   "mimetype": "text/x-python",
   "name": "python",
   "nbconvert_exporter": "python",
   "pygments_lexer": "ipython3",
   "version": "3.8.5"
  }
 },
 "nbformat": 4,
 "nbformat_minor": 1
}